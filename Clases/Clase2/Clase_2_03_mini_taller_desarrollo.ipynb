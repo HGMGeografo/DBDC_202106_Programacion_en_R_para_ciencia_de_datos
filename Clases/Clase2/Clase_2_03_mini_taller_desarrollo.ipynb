{
  "nbformat": 4,
  "nbformat_minor": 0,
  "metadata": {
    "colab": {
      "name": "Clase 2_03_mini_taller.ipynb",
      "provenance": [],
      "include_colab_link": true
    },
    "kernelspec": {
      "name": "ir",
      "display_name": "R"
    }
  },
  "cells": [
    {
      "cell_type": "markdown",
      "metadata": {
        "id": "view-in-github",
        "colab_type": "text"
      },
      "source": [
        "<a href=\"https://colab.research.google.com/github/majorquev/DBDC_202106_Programacion_en_R_para_ciencia_de_datos/blob/main/Clases/Clase2/Clase_2_03_mini_taller_desarrollo.ipynb\" target=\"_parent\"><img src=\"https://colab.research.google.com/assets/colab-badge.svg\" alt=\"Open In Colab\"/></a>"
      ]
    },
    {
      "cell_type": "markdown",
      "metadata": {
        "collapsed": true,
        "id": "EZ0yOlnfm5Zb"
      },
      "source": [
        "## Mini taller 1\n",
        "\n",
        "Los dataframes corresponden a uno de los objetos más utilizados en R para analizar datos tabulares,\n",
        "por lo que se hace necesario en muchos casos realizar consultas a los datos que contiene un dataframe,\n",
        "(filtros, cruces de tablas, creación de columnas, etc). Por ahora veremos una de las formas más \"primitivas\" para la manipulación de un data.frame.\n",
        "\n",
        "Para ello consideremos el siguiente ejercicio.\n",
        "\n",
        "**Paso 1**\n",
        "Mediante la función rnorm(), genere una muestra aleatoria de 100 datos , con media 21 y desviación estándar 8 (más adelante veremos esto con un poco más de detalle), y guárdela en una variable llamada temp.\n",
        "\n"
      ]
    },
    {
      "cell_type": "code",
      "metadata": {
        "trusted": true,
        "id": "9f6cXmN3m5Zc",
        "outputId": "a6b52fec-a2f5-4467-c3df-1cb7132a2db5",
        "colab": {
          "base_uri": "https://localhost:8080/",
          "height": 173
        }
      },
      "source": [
        "# 5.3 Mini taller --------\n",
        "# Paso 1\n",
        "temp <- rnorm(n = 100, mean = 21, sd = 8)\n",
        "temp\n"
      ],
      "execution_count": 1,
      "outputs": [
        {
          "output_type": "display_data",
          "data": {
            "text/plain": [
              "  [1]  8.1738480 37.3506437 32.7271493 19.1578523 15.1300422 22.1237777\n",
              "  [7] 10.7667577 16.7129989 20.7403160 14.6455820 -0.2981734 16.7271368\n",
              " [13] 20.6331619 12.7571772 25.5239864 12.1345214 25.7572378 17.5984501\n",
              " [19] 24.7945560 15.9003467 15.4093993 30.5259708 30.1067306 20.0268045\n",
              " [25] 17.9485554 24.2013167 15.0326152 30.3674857 23.0021185 15.9226406\n",
              " [31] 20.4353235 22.1946768  2.6803158 17.4507823 15.9759426 25.9448914\n",
              " [37] 27.7628714 12.2971489 22.8150996 20.0595545 26.3498332 22.7286288\n",
              " [43] 14.5754715 27.8943106 29.4243916 17.0486937 29.6426949  5.1553616\n",
              " [49]  8.5717985 19.6470686 25.2977856 36.8539767 26.2899690 32.7678489\n",
              " [55] 21.5085298 23.0469248 23.8925517 16.7455946 24.1723445 26.7373708\n",
              " [61] 13.6502947 24.4002853 16.9008424 19.7296226 11.2654720 10.9392658\n",
              " [67] 33.1245011 27.6464400 39.9413507 17.1644206 19.6382040 21.6096376\n",
              " [73] 25.8576261 12.4762453 26.5782439 13.3895279 21.1866725 18.4025652\n",
              " [79]  2.2800880 34.4008743 31.3696308 21.1135311 11.9052699 23.7051466\n",
              " [85] 31.4596700 19.5272365 16.5943084 19.2633679 17.0919931  4.3687054\n",
              " [91] 13.0393734 17.9863720 17.0981785 11.1655497 24.8391714 17.4402043\n",
              " [97] 12.7747563  8.9160207 27.9237281 24.4486570"
            ],
            "text/latex": "\\begin{enumerate*}\n\\item 8.17384796829526\n\\item 37.3506437348974\n\\item 32.7271493331052\n\\item 19.157852278413\n\\item 15.1300421689032\n\\item 22.1237776537489\n\\item 10.766757675808\n\\item 16.7129988792679\n\\item 20.74031603346\n\\item 14.6455819629903\n\\item -0.29817335883013\n\\item 16.7271368493725\n\\item 20.6331619351525\n\\item 12.7571772073174\n\\item 25.5239863619889\n\\item 12.1345214188364\n\\item 25.7572378035802\n\\item 17.5984500718748\n\\item 24.7945560164317\n\\item 15.9003467051869\n\\item 15.4093992923469\n\\item 30.5259708486153\n\\item 30.1067305594113\n\\item 20.0268044898821\n\\item 17.9485553534404\n\\item 24.2013167304963\n\\item 15.0326151840429\n\\item 30.3674856986651\n\\item 23.0021185158504\n\\item 15.9226406088959\n\\item 20.4353235234095\n\\item 22.194676796666\n\\item 2.68031582785748\n\\item 17.4507823408808\n\\item 15.975942587136\n\\item 25.9448914209344\n\\item 27.7628714059065\n\\item 12.2971489163142\n\\item 22.8150995645007\n\\item 20.0595544704057\n\\item 26.3498332365008\n\\item 22.7286288212942\n\\item 14.5754714921446\n\\item 27.8943106400216\n\\item 29.4243916164619\n\\item 17.0486936991601\n\\item 29.6426949369477\n\\item 5.15536159524434\n\\item 8.57179846097852\n\\item 19.6470686373596\n\\item 25.2977856349148\n\\item 36.853976654732\n\\item 26.2899689748088\n\\item 32.7678489301497\n\\item 21.5085297530165\n\\item 23.0469247791384\n\\item 23.8925517474749\n\\item 16.7455945540637\n\\item 24.1723444587749\n\\item 26.7373708429455\n\\item 13.6502946890755\n\\item 24.4002853212861\n\\item 16.9008423894437\n\\item 19.7296225645978\n\\item 11.2654719948764\n\\item 10.9392658240294\n\\item 33.1245010552621\n\\item 27.6464400094138\n\\item 39.9413506752623\n\\item 17.1644206473273\n\\item 19.6382039967402\n\\item 21.6096376354617\n\\item 25.8576260510552\n\\item 12.4762452908341\n\\item 26.5782439144545\n\\item 13.3895278768261\n\\item 21.1866724665697\n\\item 18.4025652016188\n\\item 2.28008804532379\n\\item 34.4008742723567\n\\item 31.3696308401365\n\\item 21.1135311087115\n\\item 11.9052699404929\n\\item 23.7051466403279\n\\item 31.4596699944668\n\\item 19.5272364552485\n\\item 16.5943083611229\n\\item 19.2633678753378\n\\item 17.0919930858771\n\\item 4.36870536408906\n\\item 13.0393733939205\n\\item 17.9863719505521\n\\item 17.0981784875109\n\\item 11.1655496990768\n\\item 24.8391713503301\n\\item 17.44020432584\n\\item 12.7747562834546\n\\item 8.91602065687231\n\\item 27.9237281179168\n\\item 24.4486569880211\n\\end{enumerate*}\n",
            "text/markdown": "1. 8.17384796829526\n2. 37.3506437348974\n3. 32.7271493331052\n4. 19.157852278413\n5. 15.1300421689032\n6. 22.1237776537489\n7. 10.766757675808\n8. 16.7129988792679\n9. 20.74031603346\n10. 14.6455819629903\n11. -0.29817335883013\n12. 16.7271368493725\n13. 20.6331619351525\n14. 12.7571772073174\n15. 25.5239863619889\n16. 12.1345214188364\n17. 25.7572378035802\n18. 17.5984500718748\n19. 24.7945560164317\n20. 15.9003467051869\n21. 15.4093992923469\n22. 30.5259708486153\n23. 30.1067305594113\n24. 20.0268044898821\n25. 17.9485553534404\n26. 24.2013167304963\n27. 15.0326151840429\n28. 30.3674856986651\n29. 23.0021185158504\n30. 15.9226406088959\n31. 20.4353235234095\n32. 22.194676796666\n33. 2.68031582785748\n34. 17.4507823408808\n35. 15.975942587136\n36. 25.9448914209344\n37. 27.7628714059065\n38. 12.2971489163142\n39. 22.8150995645007\n40. 20.0595544704057\n41. 26.3498332365008\n42. 22.7286288212942\n43. 14.5754714921446\n44. 27.8943106400216\n45. 29.4243916164619\n46. 17.0486936991601\n47. 29.6426949369477\n48. 5.15536159524434\n49. 8.57179846097852\n50. 19.6470686373596\n51. 25.2977856349148\n52. 36.853976654732\n53. 26.2899689748088\n54. 32.7678489301497\n55. 21.5085297530165\n56. 23.0469247791384\n57. 23.8925517474749\n58. 16.7455945540637\n59. 24.1723444587749\n60. 26.7373708429455\n61. 13.6502946890755\n62. 24.4002853212861\n63. 16.9008423894437\n64. 19.7296225645978\n65. 11.2654719948764\n66. 10.9392658240294\n67. 33.1245010552621\n68. 27.6464400094138\n69. 39.9413506752623\n70. 17.1644206473273\n71. 19.6382039967402\n72. 21.6096376354617\n73. 25.8576260510552\n74. 12.4762452908341\n75. 26.5782439144545\n76. 13.3895278768261\n77. 21.1866724665697\n78. 18.4025652016188\n79. 2.28008804532379\n80. 34.4008742723567\n81. 31.3696308401365\n82. 21.1135311087115\n83. 11.9052699404929\n84. 23.7051466403279\n85. 31.4596699944668\n86. 19.5272364552485\n87. 16.5943083611229\n88. 19.2633678753378\n89. 17.0919930858771\n90. 4.36870536408906\n91. 13.0393733939205\n92. 17.9863719505521\n93. 17.0981784875109\n94. 11.1655496990768\n95. 24.8391713503301\n96. 17.44020432584\n97. 12.7747562834546\n98. 8.91602065687231\n99. 27.9237281179168\n100. 24.4486569880211\n\n\n",
            "text/html": [
              "<style>\n",
              ".list-inline {list-style: none; margin:0; padding: 0}\n",
              ".list-inline>li {display: inline-block}\n",
              ".list-inline>li:not(:last-child)::after {content: \"\\00b7\"; padding: 0 .5ex}\n",
              "</style>\n",
              "<ol class=list-inline><li>8.17384796829526</li><li>37.3506437348974</li><li>32.7271493331052</li><li>19.157852278413</li><li>15.1300421689032</li><li>22.1237776537489</li><li>10.766757675808</li><li>16.7129988792679</li><li>20.74031603346</li><li>14.6455819629903</li><li>-0.29817335883013</li><li>16.7271368493725</li><li>20.6331619351525</li><li>12.7571772073174</li><li>25.5239863619889</li><li>12.1345214188364</li><li>25.7572378035802</li><li>17.5984500718748</li><li>24.7945560164317</li><li>15.9003467051869</li><li>15.4093992923469</li><li>30.5259708486153</li><li>30.1067305594113</li><li>20.0268044898821</li><li>17.9485553534404</li><li>24.2013167304963</li><li>15.0326151840429</li><li>30.3674856986651</li><li>23.0021185158504</li><li>15.9226406088959</li><li>20.4353235234095</li><li>22.194676796666</li><li>2.68031582785748</li><li>17.4507823408808</li><li>15.975942587136</li><li>25.9448914209344</li><li>27.7628714059065</li><li>12.2971489163142</li><li>22.8150995645007</li><li>20.0595544704057</li><li>26.3498332365008</li><li>22.7286288212942</li><li>14.5754714921446</li><li>27.8943106400216</li><li>29.4243916164619</li><li>17.0486936991601</li><li>29.6426949369477</li><li>5.15536159524434</li><li>8.57179846097852</li><li>19.6470686373596</li><li>25.2977856349148</li><li>36.853976654732</li><li>26.2899689748088</li><li>32.7678489301497</li><li>21.5085297530165</li><li>23.0469247791384</li><li>23.8925517474749</li><li>16.7455945540637</li><li>24.1723444587749</li><li>26.7373708429455</li><li>13.6502946890755</li><li>24.4002853212861</li><li>16.9008423894437</li><li>19.7296225645978</li><li>11.2654719948764</li><li>10.9392658240294</li><li>33.1245010552621</li><li>27.6464400094138</li><li>39.9413506752623</li><li>17.1644206473273</li><li>19.6382039967402</li><li>21.6096376354617</li><li>25.8576260510552</li><li>12.4762452908341</li><li>26.5782439144545</li><li>13.3895278768261</li><li>21.1866724665697</li><li>18.4025652016188</li><li>2.28008804532379</li><li>34.4008742723567</li><li>31.3696308401365</li><li>21.1135311087115</li><li>11.9052699404929</li><li>23.7051466403279</li><li>31.4596699944668</li><li>19.5272364552485</li><li>16.5943083611229</li><li>19.2633678753378</li><li>17.0919930858771</li><li>4.36870536408906</li><li>13.0393733939205</li><li>17.9863719505521</li><li>17.0981784875109</li><li>11.1655496990768</li><li>24.8391713503301</li><li>17.44020432584</li><li>12.7747562834546</li><li>8.91602065687231</li><li>27.9237281179168</li><li>24.4486569880211</li></ol>\n"
            ]
          },
          "metadata": {
            "tags": []
          }
        }
      ]
    },
    {
      "cell_type": "code",
      "metadata": {
        "trusted": true,
        "id": "Y6ILF-Szm5Zg"
      },
      "source": [
        "# Dejar como parámetro el largo del vector temp\n",
        "N <- length(temp)"
      ],
      "execution_count": 3,
      "outputs": []
    },
    {
      "cell_type": "markdown",
      "metadata": {
        "id": "C4MEJWjBm5Zi"
      },
      "source": [
        "**Paso 2**\n",
        "\n",
        "Genere un vector llamado _dia_ del mismo largo que que *temp*, que contenga los días consecutivos de la semana, partiendo del lunes. (utilice la función _rep()_ )"
      ]
    },
    {
      "cell_type": "code",
      "metadata": {
        "trusted": true,
        "id": "1PWK1DPXm5Zj",
        "outputId": "584d01a8-51a5-4fbe-988d-460edd6dd616",
        "colab": {
          "base_uri": "https://localhost:8080/",
          "height": 69
        }
      },
      "source": [
        "# Paso 2\n",
        "# dia <- rep(c(\"L\",\"M\",\"W\",\"J\",\"V\",\"S\",\"D\"), 100 ) #repite el vector de largo7, 100 veces. Genera un vector resultante de largo 700\n",
        "\n",
        "dia <- rep(c(\"L\",\"M\",\"W\",\"J\",\"V\",\"S\",\"D\") , length.out = N)\n",
        "\n",
        "length(dia)\n",
        "dia"
      ],
      "execution_count": 6,
      "outputs": [
        {
          "output_type": "display_data",
          "data": {
            "text/plain": [
              "[1] 100"
            ],
            "text/latex": "100",
            "text/markdown": "100",
            "text/html": [
              "100"
            ]
          },
          "metadata": {
            "tags": []
          }
        },
        {
          "output_type": "display_data",
          "data": {
            "text/plain": [
              "  [1] \"L\" \"M\" \"W\" \"J\" \"V\" \"S\" \"D\" \"L\" \"M\" \"W\" \"J\" \"V\" \"S\" \"D\" \"L\" \"M\" \"W\" \"J\"\n",
              " [19] \"V\" \"S\" \"D\" \"L\" \"M\" \"W\" \"J\" \"V\" \"S\" \"D\" \"L\" \"M\" \"W\" \"J\" \"V\" \"S\" \"D\" \"L\"\n",
              " [37] \"M\" \"W\" \"J\" \"V\" \"S\" \"D\" \"L\" \"M\" \"W\" \"J\" \"V\" \"S\" \"D\" \"L\" \"M\" \"W\" \"J\" \"V\"\n",
              " [55] \"S\" \"D\" \"L\" \"M\" \"W\" \"J\" \"V\" \"S\" \"D\" \"L\" \"M\" \"W\" \"J\" \"V\" \"S\" \"D\" \"L\" \"M\"\n",
              " [73] \"W\" \"J\" \"V\" \"S\" \"D\" \"L\" \"M\" \"W\" \"J\" \"V\" \"S\" \"D\" \"L\" \"M\" \"W\" \"J\" \"V\" \"S\"\n",
              " [91] \"D\" \"L\" \"M\" \"W\" \"J\" \"V\" \"S\" \"D\" \"L\" \"M\""
            ],
            "text/latex": "\\begin{enumerate*}\n\\item 'L'\n\\item 'M'\n\\item 'W'\n\\item 'J'\n\\item 'V'\n\\item 'S'\n\\item 'D'\n\\item 'L'\n\\item 'M'\n\\item 'W'\n\\item 'J'\n\\item 'V'\n\\item 'S'\n\\item 'D'\n\\item 'L'\n\\item 'M'\n\\item 'W'\n\\item 'J'\n\\item 'V'\n\\item 'S'\n\\item 'D'\n\\item 'L'\n\\item 'M'\n\\item 'W'\n\\item 'J'\n\\item 'V'\n\\item 'S'\n\\item 'D'\n\\item 'L'\n\\item 'M'\n\\item 'W'\n\\item 'J'\n\\item 'V'\n\\item 'S'\n\\item 'D'\n\\item 'L'\n\\item 'M'\n\\item 'W'\n\\item 'J'\n\\item 'V'\n\\item 'S'\n\\item 'D'\n\\item 'L'\n\\item 'M'\n\\item 'W'\n\\item 'J'\n\\item 'V'\n\\item 'S'\n\\item 'D'\n\\item 'L'\n\\item 'M'\n\\item 'W'\n\\item 'J'\n\\item 'V'\n\\item 'S'\n\\item 'D'\n\\item 'L'\n\\item 'M'\n\\item 'W'\n\\item 'J'\n\\item 'V'\n\\item 'S'\n\\item 'D'\n\\item 'L'\n\\item 'M'\n\\item 'W'\n\\item 'J'\n\\item 'V'\n\\item 'S'\n\\item 'D'\n\\item 'L'\n\\item 'M'\n\\item 'W'\n\\item 'J'\n\\item 'V'\n\\item 'S'\n\\item 'D'\n\\item 'L'\n\\item 'M'\n\\item 'W'\n\\item 'J'\n\\item 'V'\n\\item 'S'\n\\item 'D'\n\\item 'L'\n\\item 'M'\n\\item 'W'\n\\item 'J'\n\\item 'V'\n\\item 'S'\n\\item 'D'\n\\item 'L'\n\\item 'M'\n\\item 'W'\n\\item 'J'\n\\item 'V'\n\\item 'S'\n\\item 'D'\n\\item 'L'\n\\item 'M'\n\\end{enumerate*}\n",
            "text/markdown": "1. 'L'\n2. 'M'\n3. 'W'\n4. 'J'\n5. 'V'\n6. 'S'\n7. 'D'\n8. 'L'\n9. 'M'\n10. 'W'\n11. 'J'\n12. 'V'\n13. 'S'\n14. 'D'\n15. 'L'\n16. 'M'\n17. 'W'\n18. 'J'\n19. 'V'\n20. 'S'\n21. 'D'\n22. 'L'\n23. 'M'\n24. 'W'\n25. 'J'\n26. 'V'\n27. 'S'\n28. 'D'\n29. 'L'\n30. 'M'\n31. 'W'\n32. 'J'\n33. 'V'\n34. 'S'\n35. 'D'\n36. 'L'\n37. 'M'\n38. 'W'\n39. 'J'\n40. 'V'\n41. 'S'\n42. 'D'\n43. 'L'\n44. 'M'\n45. 'W'\n46. 'J'\n47. 'V'\n48. 'S'\n49. 'D'\n50. 'L'\n51. 'M'\n52. 'W'\n53. 'J'\n54. 'V'\n55. 'S'\n56. 'D'\n57. 'L'\n58. 'M'\n59. 'W'\n60. 'J'\n61. 'V'\n62. 'S'\n63. 'D'\n64. 'L'\n65. 'M'\n66. 'W'\n67. 'J'\n68. 'V'\n69. 'S'\n70. 'D'\n71. 'L'\n72. 'M'\n73. 'W'\n74. 'J'\n75. 'V'\n76. 'S'\n77. 'D'\n78. 'L'\n79. 'M'\n80. 'W'\n81. 'J'\n82. 'V'\n83. 'S'\n84. 'D'\n85. 'L'\n86. 'M'\n87. 'W'\n88. 'J'\n89. 'V'\n90. 'S'\n91. 'D'\n92. 'L'\n93. 'M'\n94. 'W'\n95. 'J'\n96. 'V'\n97. 'S'\n98. 'D'\n99. 'L'\n100. 'M'\n\n\n",
            "text/html": [
              "<style>\n",
              ".list-inline {list-style: none; margin:0; padding: 0}\n",
              ".list-inline>li {display: inline-block}\n",
              ".list-inline>li:not(:last-child)::after {content: \"\\00b7\"; padding: 0 .5ex}\n",
              "</style>\n",
              "<ol class=list-inline><li>'L'</li><li>'M'</li><li>'W'</li><li>'J'</li><li>'V'</li><li>'S'</li><li>'D'</li><li>'L'</li><li>'M'</li><li>'W'</li><li>'J'</li><li>'V'</li><li>'S'</li><li>'D'</li><li>'L'</li><li>'M'</li><li>'W'</li><li>'J'</li><li>'V'</li><li>'S'</li><li>'D'</li><li>'L'</li><li>'M'</li><li>'W'</li><li>'J'</li><li>'V'</li><li>'S'</li><li>'D'</li><li>'L'</li><li>'M'</li><li>'W'</li><li>'J'</li><li>'V'</li><li>'S'</li><li>'D'</li><li>'L'</li><li>'M'</li><li>'W'</li><li>'J'</li><li>'V'</li><li>'S'</li><li>'D'</li><li>'L'</li><li>'M'</li><li>'W'</li><li>'J'</li><li>'V'</li><li>'S'</li><li>'D'</li><li>'L'</li><li>'M'</li><li>'W'</li><li>'J'</li><li>'V'</li><li>'S'</li><li>'D'</li><li>'L'</li><li>'M'</li><li>'W'</li><li>'J'</li><li>'V'</li><li>'S'</li><li>'D'</li><li>'L'</li><li>'M'</li><li>'W'</li><li>'J'</li><li>'V'</li><li>'S'</li><li>'D'</li><li>'L'</li><li>'M'</li><li>'W'</li><li>'J'</li><li>'V'</li><li>'S'</li><li>'D'</li><li>'L'</li><li>'M'</li><li>'W'</li><li>'J'</li><li>'V'</li><li>'S'</li><li>'D'</li><li>'L'</li><li>'M'</li><li>'W'</li><li>'J'</li><li>'V'</li><li>'S'</li><li>'D'</li><li>'L'</li><li>'M'</li><li>'W'</li><li>'J'</li><li>'V'</li><li>'S'</li><li>'D'</li><li>'L'</li><li>'M'</li></ol>\n"
            ]
          },
          "metadata": {
            "tags": []
          }
        }
      ]
    },
    {
      "cell_type": "markdown",
      "metadata": {
        "id": "n1n3ptOIm5Zm"
      },
      "source": [
        "**Paso 3**\n",
        "\n",
        "Genere un vector llamado _est_, del mismo largo que _temp_, que en el primer tercio contenga el valor \"E1\", en el segundo tercio \"E2\", y en el tercer tercio \"E3\". Por ejemplo, si _temp_ tuviese 10 datos, el vector _est_ se vería como \n",
        "\n",
        "\n",
        "<center> _est_ = (E1,E1,E1,E2,E2,E2,E3,E3,E3,E3) </center>"
      ]
    },
    {
      "cell_type": "code",
      "metadata": {
        "id": "cG28y1bUDFxe",
        "outputId": "f5f72720-43c8-4fd9-dd2a-c1012e648cca",
        "colab": {
          "base_uri": "https://localhost:8080/",
          "height": 35
        }
      },
      "source": [
        "N/3"
      ],
      "execution_count": 10,
      "outputs": [
        {
          "output_type": "display_data",
          "data": {
            "text/plain": [
              "[1] 33.33333"
            ],
            "text/latex": "33.3333333333333",
            "text/markdown": "33.3333333333333",
            "text/html": [
              "33.3333333333333"
            ]
          },
          "metadata": {
            "tags": []
          }
        }
      ]
    },
    {
      "cell_type": "code",
      "metadata": {
        "trusted": true,
        "id": "eobMVmXxm5Zn",
        "outputId": "dcf0cde8-d3d4-4cda-a89f-6f666b402d7f",
        "colab": {
          "base_uri": "https://localhost:8080/",
          "height": 86
        }
      },
      "source": [
        "# Paso 3\n",
        "e1 <- rep(\"E1\",N/3)\n",
        "e2 <- rep(\"E2\",N/3)\n",
        "e3 <- rep(\"E3\",N-(length(e1) + length(e2)))\n",
        "length(e1)\n",
        "length(e2)\n",
        "length(e3)\n",
        "\n",
        "est <- c(e1,e2,e3)\n",
        "length(est) #ok con el largo"
      ],
      "execution_count": 12,
      "outputs": [
        {
          "output_type": "display_data",
          "data": {
            "text/plain": [
              "[1] 33"
            ],
            "text/latex": "33",
            "text/markdown": "33",
            "text/html": [
              "33"
            ]
          },
          "metadata": {
            "tags": []
          }
        },
        {
          "output_type": "display_data",
          "data": {
            "text/plain": [
              "[1] 33"
            ],
            "text/latex": "33",
            "text/markdown": "33",
            "text/html": [
              "33"
            ]
          },
          "metadata": {
            "tags": []
          }
        },
        {
          "output_type": "display_data",
          "data": {
            "text/plain": [
              "[1] 34"
            ],
            "text/latex": "34",
            "text/markdown": "34",
            "text/html": [
              "34"
            ]
          },
          "metadata": {
            "tags": []
          }
        },
        {
          "output_type": "display_data",
          "data": {
            "text/plain": [
              "[1] 100"
            ],
            "text/latex": "100",
            "text/markdown": "100",
            "text/html": [
              "100"
            ]
          },
          "metadata": {
            "tags": []
          }
        }
      ]
    },
    {
      "cell_type": "code",
      "metadata": {
        "id": "9zUU9MQbDTvb",
        "outputId": "6ccdc43b-2533-44a4-b922-8188d4bf2876",
        "colab": {
          "base_uri": "https://localhost:8080/",
          "height": 69
        }
      },
      "source": [
        "est"
      ],
      "execution_count": 13,
      "outputs": [
        {
          "output_type": "display_data",
          "data": {
            "text/plain": [
              "  [1] \"E1\" \"E1\" \"E1\" \"E1\" \"E1\" \"E1\" \"E1\" \"E1\" \"E1\" \"E1\" \"E1\" \"E1\" \"E1\" \"E1\" \"E1\"\n",
              " [16] \"E1\" \"E1\" \"E1\" \"E1\" \"E1\" \"E1\" \"E1\" \"E1\" \"E1\" \"E1\" \"E1\" \"E1\" \"E1\" \"E1\" \"E1\"\n",
              " [31] \"E1\" \"E1\" \"E1\" \"E2\" \"E2\" \"E2\" \"E2\" \"E2\" \"E2\" \"E2\" \"E2\" \"E2\" \"E2\" \"E2\" \"E2\"\n",
              " [46] \"E2\" \"E2\" \"E2\" \"E2\" \"E2\" \"E2\" \"E2\" \"E2\" \"E2\" \"E2\" \"E2\" \"E2\" \"E2\" \"E2\" \"E2\"\n",
              " [61] \"E2\" \"E2\" \"E2\" \"E2\" \"E2\" \"E2\" \"E3\" \"E3\" \"E3\" \"E3\" \"E3\" \"E3\" \"E3\" \"E3\" \"E3\"\n",
              " [76] \"E3\" \"E3\" \"E3\" \"E3\" \"E3\" \"E3\" \"E3\" \"E3\" \"E3\" \"E3\" \"E3\" \"E3\" \"E3\" \"E3\" \"E3\"\n",
              " [91] \"E3\" \"E3\" \"E3\" \"E3\" \"E3\" \"E3\" \"E3\" \"E3\" \"E3\" \"E3\""
            ],
            "text/latex": "\\begin{enumerate*}\n\\item 'E1'\n\\item 'E1'\n\\item 'E1'\n\\item 'E1'\n\\item 'E1'\n\\item 'E1'\n\\item 'E1'\n\\item 'E1'\n\\item 'E1'\n\\item 'E1'\n\\item 'E1'\n\\item 'E1'\n\\item 'E1'\n\\item 'E1'\n\\item 'E1'\n\\item 'E1'\n\\item 'E1'\n\\item 'E1'\n\\item 'E1'\n\\item 'E1'\n\\item 'E1'\n\\item 'E1'\n\\item 'E1'\n\\item 'E1'\n\\item 'E1'\n\\item 'E1'\n\\item 'E1'\n\\item 'E1'\n\\item 'E1'\n\\item 'E1'\n\\item 'E1'\n\\item 'E1'\n\\item 'E1'\n\\item 'E2'\n\\item 'E2'\n\\item 'E2'\n\\item 'E2'\n\\item 'E2'\n\\item 'E2'\n\\item 'E2'\n\\item 'E2'\n\\item 'E2'\n\\item 'E2'\n\\item 'E2'\n\\item 'E2'\n\\item 'E2'\n\\item 'E2'\n\\item 'E2'\n\\item 'E2'\n\\item 'E2'\n\\item 'E2'\n\\item 'E2'\n\\item 'E2'\n\\item 'E2'\n\\item 'E2'\n\\item 'E2'\n\\item 'E2'\n\\item 'E2'\n\\item 'E2'\n\\item 'E2'\n\\item 'E2'\n\\item 'E2'\n\\item 'E2'\n\\item 'E2'\n\\item 'E2'\n\\item 'E2'\n\\item 'E3'\n\\item 'E3'\n\\item 'E3'\n\\item 'E3'\n\\item 'E3'\n\\item 'E3'\n\\item 'E3'\n\\item 'E3'\n\\item 'E3'\n\\item 'E3'\n\\item 'E3'\n\\item 'E3'\n\\item 'E3'\n\\item 'E3'\n\\item 'E3'\n\\item 'E3'\n\\item 'E3'\n\\item 'E3'\n\\item 'E3'\n\\item 'E3'\n\\item 'E3'\n\\item 'E3'\n\\item 'E3'\n\\item 'E3'\n\\item 'E3'\n\\item 'E3'\n\\item 'E3'\n\\item 'E3'\n\\item 'E3'\n\\item 'E3'\n\\item 'E3'\n\\item 'E3'\n\\item 'E3'\n\\item 'E3'\n\\end{enumerate*}\n",
            "text/markdown": "1. 'E1'\n2. 'E1'\n3. 'E1'\n4. 'E1'\n5. 'E1'\n6. 'E1'\n7. 'E1'\n8. 'E1'\n9. 'E1'\n10. 'E1'\n11. 'E1'\n12. 'E1'\n13. 'E1'\n14. 'E1'\n15. 'E1'\n16. 'E1'\n17. 'E1'\n18. 'E1'\n19. 'E1'\n20. 'E1'\n21. 'E1'\n22. 'E1'\n23. 'E1'\n24. 'E1'\n25. 'E1'\n26. 'E1'\n27. 'E1'\n28. 'E1'\n29. 'E1'\n30. 'E1'\n31. 'E1'\n32. 'E1'\n33. 'E1'\n34. 'E2'\n35. 'E2'\n36. 'E2'\n37. 'E2'\n38. 'E2'\n39. 'E2'\n40. 'E2'\n41. 'E2'\n42. 'E2'\n43. 'E2'\n44. 'E2'\n45. 'E2'\n46. 'E2'\n47. 'E2'\n48. 'E2'\n49. 'E2'\n50. 'E2'\n51. 'E2'\n52. 'E2'\n53. 'E2'\n54. 'E2'\n55. 'E2'\n56. 'E2'\n57. 'E2'\n58. 'E2'\n59. 'E2'\n60. 'E2'\n61. 'E2'\n62. 'E2'\n63. 'E2'\n64. 'E2'\n65. 'E2'\n66. 'E2'\n67. 'E3'\n68. 'E3'\n69. 'E3'\n70. 'E3'\n71. 'E3'\n72. 'E3'\n73. 'E3'\n74. 'E3'\n75. 'E3'\n76. 'E3'\n77. 'E3'\n78. 'E3'\n79. 'E3'\n80. 'E3'\n81. 'E3'\n82. 'E3'\n83. 'E3'\n84. 'E3'\n85. 'E3'\n86. 'E3'\n87. 'E3'\n88. 'E3'\n89. 'E3'\n90. 'E3'\n91. 'E3'\n92. 'E3'\n93. 'E3'\n94. 'E3'\n95. 'E3'\n96. 'E3'\n97. 'E3'\n98. 'E3'\n99. 'E3'\n100. 'E3'\n\n\n",
            "text/html": [
              "<style>\n",
              ".list-inline {list-style: none; margin:0; padding: 0}\n",
              ".list-inline>li {display: inline-block}\n",
              ".list-inline>li:not(:last-child)::after {content: \"\\00b7\"; padding: 0 .5ex}\n",
              "</style>\n",
              "<ol class=list-inline><li>'E1'</li><li>'E1'</li><li>'E1'</li><li>'E1'</li><li>'E1'</li><li>'E1'</li><li>'E1'</li><li>'E1'</li><li>'E1'</li><li>'E1'</li><li>'E1'</li><li>'E1'</li><li>'E1'</li><li>'E1'</li><li>'E1'</li><li>'E1'</li><li>'E1'</li><li>'E1'</li><li>'E1'</li><li>'E1'</li><li>'E1'</li><li>'E1'</li><li>'E1'</li><li>'E1'</li><li>'E1'</li><li>'E1'</li><li>'E1'</li><li>'E1'</li><li>'E1'</li><li>'E1'</li><li>'E1'</li><li>'E1'</li><li>'E1'</li><li>'E2'</li><li>'E2'</li><li>'E2'</li><li>'E2'</li><li>'E2'</li><li>'E2'</li><li>'E2'</li><li>'E2'</li><li>'E2'</li><li>'E2'</li><li>'E2'</li><li>'E2'</li><li>'E2'</li><li>'E2'</li><li>'E2'</li><li>'E2'</li><li>'E2'</li><li>'E2'</li><li>'E2'</li><li>'E2'</li><li>'E2'</li><li>'E2'</li><li>'E2'</li><li>'E2'</li><li>'E2'</li><li>'E2'</li><li>'E2'</li><li>'E2'</li><li>'E2'</li><li>'E2'</li><li>'E2'</li><li>'E2'</li><li>'E2'</li><li>'E3'</li><li>'E3'</li><li>'E3'</li><li>'E3'</li><li>'E3'</li><li>'E3'</li><li>'E3'</li><li>'E3'</li><li>'E3'</li><li>'E3'</li><li>'E3'</li><li>'E3'</li><li>'E3'</li><li>'E3'</li><li>'E3'</li><li>'E3'</li><li>'E3'</li><li>'E3'</li><li>'E3'</li><li>'E3'</li><li>'E3'</li><li>'E3'</li><li>'E3'</li><li>'E3'</li><li>'E3'</li><li>'E3'</li><li>'E3'</li><li>'E3'</li><li>'E3'</li><li>'E3'</li><li>'E3'</li><li>'E3'</li><li>'E3'</li><li>'E3'</li></ol>\n"
            ]
          },
          "metadata": {
            "tags": []
          }
        }
      ]
    },
    {
      "cell_type": "markdown",
      "metadata": {
        "id": "bZZScNwUm5Zp"
      },
      "source": [
        "**Paso 4**\n",
        "\n",
        "Genere un vector llamado _lluvia_ del mismo largo que _temp_, que sea TRUE en las posiciones en que _temp_ sea menor que 20, y FALSE en caso contrario. "
      ]
    },
    {
      "cell_type": "code",
      "metadata": {
        "trusted": true,
        "id": "AbtOs123m5Zq"
      },
      "source": [
        "# Paso 4\n",
        "lluvia <- temp < 20"
      ],
      "execution_count": 20,
      "outputs": []
    },
    {
      "cell_type": "code",
      "metadata": {
        "id": "letj0_bIDwp_",
        "outputId": "a6b39978-9931-41dc-a92b-0cac82ecc8a0",
        "colab": {
          "base_uri": "https://localhost:8080/",
          "height": 86
        }
      },
      "source": [
        "lluvia"
      ],
      "execution_count": 21,
      "outputs": [
        {
          "output_type": "display_data",
          "data": {
            "text/plain": [
              "  [1]  TRUE FALSE FALSE  TRUE  TRUE FALSE  TRUE  TRUE FALSE  TRUE  TRUE  TRUE\n",
              " [13] FALSE  TRUE FALSE  TRUE FALSE  TRUE FALSE  TRUE  TRUE FALSE FALSE FALSE\n",
              " [25]  TRUE FALSE  TRUE FALSE FALSE  TRUE FALSE FALSE  TRUE  TRUE  TRUE FALSE\n",
              " [37] FALSE  TRUE FALSE FALSE FALSE FALSE  TRUE FALSE FALSE  TRUE FALSE  TRUE\n",
              " [49]  TRUE  TRUE FALSE FALSE FALSE FALSE FALSE FALSE FALSE  TRUE FALSE FALSE\n",
              " [61]  TRUE FALSE  TRUE  TRUE  TRUE  TRUE FALSE FALSE FALSE  TRUE  TRUE FALSE\n",
              " [73] FALSE  TRUE FALSE  TRUE FALSE  TRUE  TRUE FALSE FALSE FALSE  TRUE FALSE\n",
              " [85] FALSE  TRUE  TRUE  TRUE  TRUE  TRUE  TRUE  TRUE  TRUE  TRUE FALSE  TRUE\n",
              " [97]  TRUE  TRUE FALSE FALSE"
            ],
            "text/latex": "\\begin{enumerate*}\n\\item TRUE\n\\item FALSE\n\\item FALSE\n\\item TRUE\n\\item TRUE\n\\item FALSE\n\\item TRUE\n\\item TRUE\n\\item FALSE\n\\item TRUE\n\\item TRUE\n\\item TRUE\n\\item FALSE\n\\item TRUE\n\\item FALSE\n\\item TRUE\n\\item FALSE\n\\item TRUE\n\\item FALSE\n\\item TRUE\n\\item TRUE\n\\item FALSE\n\\item FALSE\n\\item FALSE\n\\item TRUE\n\\item FALSE\n\\item TRUE\n\\item FALSE\n\\item FALSE\n\\item TRUE\n\\item FALSE\n\\item FALSE\n\\item TRUE\n\\item TRUE\n\\item TRUE\n\\item FALSE\n\\item FALSE\n\\item TRUE\n\\item FALSE\n\\item FALSE\n\\item FALSE\n\\item FALSE\n\\item TRUE\n\\item FALSE\n\\item FALSE\n\\item TRUE\n\\item FALSE\n\\item TRUE\n\\item TRUE\n\\item TRUE\n\\item FALSE\n\\item FALSE\n\\item FALSE\n\\item FALSE\n\\item FALSE\n\\item FALSE\n\\item FALSE\n\\item TRUE\n\\item FALSE\n\\item FALSE\n\\item TRUE\n\\item FALSE\n\\item TRUE\n\\item TRUE\n\\item TRUE\n\\item TRUE\n\\item FALSE\n\\item FALSE\n\\item FALSE\n\\item TRUE\n\\item TRUE\n\\item FALSE\n\\item FALSE\n\\item TRUE\n\\item FALSE\n\\item TRUE\n\\item FALSE\n\\item TRUE\n\\item TRUE\n\\item FALSE\n\\item FALSE\n\\item FALSE\n\\item TRUE\n\\item FALSE\n\\item FALSE\n\\item TRUE\n\\item TRUE\n\\item TRUE\n\\item TRUE\n\\item TRUE\n\\item TRUE\n\\item TRUE\n\\item TRUE\n\\item TRUE\n\\item FALSE\n\\item TRUE\n\\item TRUE\n\\item TRUE\n\\item FALSE\n\\item FALSE\n\\end{enumerate*}\n",
            "text/markdown": "1. TRUE\n2. FALSE\n3. FALSE\n4. TRUE\n5. TRUE\n6. FALSE\n7. TRUE\n8. TRUE\n9. FALSE\n10. TRUE\n11. TRUE\n12. TRUE\n13. FALSE\n14. TRUE\n15. FALSE\n16. TRUE\n17. FALSE\n18. TRUE\n19. FALSE\n20. TRUE\n21. TRUE\n22. FALSE\n23. FALSE\n24. FALSE\n25. TRUE\n26. FALSE\n27. TRUE\n28. FALSE\n29. FALSE\n30. TRUE\n31. FALSE\n32. FALSE\n33. TRUE\n34. TRUE\n35. TRUE\n36. FALSE\n37. FALSE\n38. TRUE\n39. FALSE\n40. FALSE\n41. FALSE\n42. FALSE\n43. TRUE\n44. FALSE\n45. FALSE\n46. TRUE\n47. FALSE\n48. TRUE\n49. TRUE\n50. TRUE\n51. FALSE\n52. FALSE\n53. FALSE\n54. FALSE\n55. FALSE\n56. FALSE\n57. FALSE\n58. TRUE\n59. FALSE\n60. FALSE\n61. TRUE\n62. FALSE\n63. TRUE\n64. TRUE\n65. TRUE\n66. TRUE\n67. FALSE\n68. FALSE\n69. FALSE\n70. TRUE\n71. TRUE\n72. FALSE\n73. FALSE\n74. TRUE\n75. FALSE\n76. TRUE\n77. FALSE\n78. TRUE\n79. TRUE\n80. FALSE\n81. FALSE\n82. FALSE\n83. TRUE\n84. FALSE\n85. FALSE\n86. TRUE\n87. TRUE\n88. TRUE\n89. TRUE\n90. TRUE\n91. TRUE\n92. TRUE\n93. TRUE\n94. TRUE\n95. FALSE\n96. TRUE\n97. TRUE\n98. TRUE\n99. FALSE\n100. FALSE\n\n\n",
            "text/html": [
              "<style>\n",
              ".list-inline {list-style: none; margin:0; padding: 0}\n",
              ".list-inline>li {display: inline-block}\n",
              ".list-inline>li:not(:last-child)::after {content: \"\\00b7\"; padding: 0 .5ex}\n",
              "</style>\n",
              "<ol class=list-inline><li>TRUE</li><li>FALSE</li><li>FALSE</li><li>TRUE</li><li>TRUE</li><li>FALSE</li><li>TRUE</li><li>TRUE</li><li>FALSE</li><li>TRUE</li><li>TRUE</li><li>TRUE</li><li>FALSE</li><li>TRUE</li><li>FALSE</li><li>TRUE</li><li>FALSE</li><li>TRUE</li><li>FALSE</li><li>TRUE</li><li>TRUE</li><li>FALSE</li><li>FALSE</li><li>FALSE</li><li>TRUE</li><li>FALSE</li><li>TRUE</li><li>FALSE</li><li>FALSE</li><li>TRUE</li><li>FALSE</li><li>FALSE</li><li>TRUE</li><li>TRUE</li><li>TRUE</li><li>FALSE</li><li>FALSE</li><li>TRUE</li><li>FALSE</li><li>FALSE</li><li>FALSE</li><li>FALSE</li><li>TRUE</li><li>FALSE</li><li>FALSE</li><li>TRUE</li><li>FALSE</li><li>TRUE</li><li>TRUE</li><li>TRUE</li><li>FALSE</li><li>FALSE</li><li>FALSE</li><li>FALSE</li><li>FALSE</li><li>FALSE</li><li>FALSE</li><li>TRUE</li><li>FALSE</li><li>FALSE</li><li>TRUE</li><li>FALSE</li><li>TRUE</li><li>TRUE</li><li>TRUE</li><li>TRUE</li><li>FALSE</li><li>FALSE</li><li>FALSE</li><li>TRUE</li><li>TRUE</li><li>FALSE</li><li>FALSE</li><li>TRUE</li><li>FALSE</li><li>TRUE</li><li>FALSE</li><li>TRUE</li><li>TRUE</li><li>FALSE</li><li>FALSE</li><li>FALSE</li><li>TRUE</li><li>FALSE</li><li>FALSE</li><li>TRUE</li><li>TRUE</li><li>TRUE</li><li>TRUE</li><li>TRUE</li><li>TRUE</li><li>TRUE</li><li>TRUE</li><li>TRUE</li><li>FALSE</li><li>TRUE</li><li>TRUE</li><li>TRUE</li><li>FALSE</li><li>FALSE</li></ol>\n"
            ]
          },
          "metadata": {
            "tags": []
          }
        }
      ]
    },
    {
      "cell_type": "code",
      "metadata": {
        "id": "SsWVjs0NDx7N",
        "outputId": "70cd76a7-ea9f-443f-f74f-e3aa46733cdc",
        "colab": {
          "base_uri": "https://localhost:8080/",
          "height": 35
        }
      },
      "source": [
        "length(lluvia)"
      ],
      "execution_count": 19,
      "outputs": [
        {
          "output_type": "display_data",
          "data": {
            "text/plain": [
              "[1] 100"
            ],
            "text/latex": "100",
            "text/markdown": "100",
            "text/html": [
              "100"
            ]
          },
          "metadata": {
            "tags": []
          }
        }
      ]
    },
    {
      "cell_type": "code",
      "metadata": {
        "id": "fqZQGmzED3Y5",
        "outputId": "550c17e7-b101-45dc-bac4-9c8cbccfdfc0",
        "colab": {
          "base_uri": "https://localhost:8080/",
          "height": 173
        }
      },
      "source": [
        "# NOTA\n",
        "# Existe la función \"ifelse()\", es como el IF() de excel\n",
        "ifelse(temp < 20, \"Hubo baja temperatura\", \"Fue caluroso\")"
      ],
      "execution_count": 23,
      "outputs": [
        {
          "output_type": "display_data",
          "data": {
            "text/plain": [
              "  [1] \"Hubo baja temperatura\" \"Fue caluroso\"          \"Fue caluroso\"         \n",
              "  [4] \"Hubo baja temperatura\" \"Hubo baja temperatura\" \"Fue caluroso\"         \n",
              "  [7] \"Hubo baja temperatura\" \"Hubo baja temperatura\" \"Fue caluroso\"         \n",
              " [10] \"Hubo baja temperatura\" \"Hubo baja temperatura\" \"Hubo baja temperatura\"\n",
              " [13] \"Fue caluroso\"          \"Hubo baja temperatura\" \"Fue caluroso\"         \n",
              " [16] \"Hubo baja temperatura\" \"Fue caluroso\"          \"Hubo baja temperatura\"\n",
              " [19] \"Fue caluroso\"          \"Hubo baja temperatura\" \"Hubo baja temperatura\"\n",
              " [22] \"Fue caluroso\"          \"Fue caluroso\"          \"Fue caluroso\"         \n",
              " [25] \"Hubo baja temperatura\" \"Fue caluroso\"          \"Hubo baja temperatura\"\n",
              " [28] \"Fue caluroso\"          \"Fue caluroso\"          \"Hubo baja temperatura\"\n",
              " [31] \"Fue caluroso\"          \"Fue caluroso\"          \"Hubo baja temperatura\"\n",
              " [34] \"Hubo baja temperatura\" \"Hubo baja temperatura\" \"Fue caluroso\"         \n",
              " [37] \"Fue caluroso\"          \"Hubo baja temperatura\" \"Fue caluroso\"         \n",
              " [40] \"Fue caluroso\"          \"Fue caluroso\"          \"Fue caluroso\"         \n",
              " [43] \"Hubo baja temperatura\" \"Fue caluroso\"          \"Fue caluroso\"         \n",
              " [46] \"Hubo baja temperatura\" \"Fue caluroso\"          \"Hubo baja temperatura\"\n",
              " [49] \"Hubo baja temperatura\" \"Hubo baja temperatura\" \"Fue caluroso\"         \n",
              " [52] \"Fue caluroso\"          \"Fue caluroso\"          \"Fue caluroso\"         \n",
              " [55] \"Fue caluroso\"          \"Fue caluroso\"          \"Fue caluroso\"         \n",
              " [58] \"Hubo baja temperatura\" \"Fue caluroso\"          \"Fue caluroso\"         \n",
              " [61] \"Hubo baja temperatura\" \"Fue caluroso\"          \"Hubo baja temperatura\"\n",
              " [64] \"Hubo baja temperatura\" \"Hubo baja temperatura\" \"Hubo baja temperatura\"\n",
              " [67] \"Fue caluroso\"          \"Fue caluroso\"          \"Fue caluroso\"         \n",
              " [70] \"Hubo baja temperatura\" \"Hubo baja temperatura\" \"Fue caluroso\"         \n",
              " [73] \"Fue caluroso\"          \"Hubo baja temperatura\" \"Fue caluroso\"         \n",
              " [76] \"Hubo baja temperatura\" \"Fue caluroso\"          \"Hubo baja temperatura\"\n",
              " [79] \"Hubo baja temperatura\" \"Fue caluroso\"          \"Fue caluroso\"         \n",
              " [82] \"Fue caluroso\"          \"Hubo baja temperatura\" \"Fue caluroso\"         \n",
              " [85] \"Fue caluroso\"          \"Hubo baja temperatura\" \"Hubo baja temperatura\"\n",
              " [88] \"Hubo baja temperatura\" \"Hubo baja temperatura\" \"Hubo baja temperatura\"\n",
              " [91] \"Hubo baja temperatura\" \"Hubo baja temperatura\" \"Hubo baja temperatura\"\n",
              " [94] \"Hubo baja temperatura\" \"Fue caluroso\"          \"Hubo baja temperatura\"\n",
              " [97] \"Hubo baja temperatura\" \"Hubo baja temperatura\" \"Fue caluroso\"         \n",
              "[100] \"Fue caluroso\"         "
            ],
            "text/latex": "\\begin{enumerate*}\n\\item 'Hubo baja temperatura'\n\\item 'Fue caluroso'\n\\item 'Fue caluroso'\n\\item 'Hubo baja temperatura'\n\\item 'Hubo baja temperatura'\n\\item 'Fue caluroso'\n\\item 'Hubo baja temperatura'\n\\item 'Hubo baja temperatura'\n\\item 'Fue caluroso'\n\\item 'Hubo baja temperatura'\n\\item 'Hubo baja temperatura'\n\\item 'Hubo baja temperatura'\n\\item 'Fue caluroso'\n\\item 'Hubo baja temperatura'\n\\item 'Fue caluroso'\n\\item 'Hubo baja temperatura'\n\\item 'Fue caluroso'\n\\item 'Hubo baja temperatura'\n\\item 'Fue caluroso'\n\\item 'Hubo baja temperatura'\n\\item 'Hubo baja temperatura'\n\\item 'Fue caluroso'\n\\item 'Fue caluroso'\n\\item 'Fue caluroso'\n\\item 'Hubo baja temperatura'\n\\item 'Fue caluroso'\n\\item 'Hubo baja temperatura'\n\\item 'Fue caluroso'\n\\item 'Fue caluroso'\n\\item 'Hubo baja temperatura'\n\\item 'Fue caluroso'\n\\item 'Fue caluroso'\n\\item 'Hubo baja temperatura'\n\\item 'Hubo baja temperatura'\n\\item 'Hubo baja temperatura'\n\\item 'Fue caluroso'\n\\item 'Fue caluroso'\n\\item 'Hubo baja temperatura'\n\\item 'Fue caluroso'\n\\item 'Fue caluroso'\n\\item 'Fue caluroso'\n\\item 'Fue caluroso'\n\\item 'Hubo baja temperatura'\n\\item 'Fue caluroso'\n\\item 'Fue caluroso'\n\\item 'Hubo baja temperatura'\n\\item 'Fue caluroso'\n\\item 'Hubo baja temperatura'\n\\item 'Hubo baja temperatura'\n\\item 'Hubo baja temperatura'\n\\item 'Fue caluroso'\n\\item 'Fue caluroso'\n\\item 'Fue caluroso'\n\\item 'Fue caluroso'\n\\item 'Fue caluroso'\n\\item 'Fue caluroso'\n\\item 'Fue caluroso'\n\\item 'Hubo baja temperatura'\n\\item 'Fue caluroso'\n\\item 'Fue caluroso'\n\\item 'Hubo baja temperatura'\n\\item 'Fue caluroso'\n\\item 'Hubo baja temperatura'\n\\item 'Hubo baja temperatura'\n\\item 'Hubo baja temperatura'\n\\item 'Hubo baja temperatura'\n\\item 'Fue caluroso'\n\\item 'Fue caluroso'\n\\item 'Fue caluroso'\n\\item 'Hubo baja temperatura'\n\\item 'Hubo baja temperatura'\n\\item 'Fue caluroso'\n\\item 'Fue caluroso'\n\\item 'Hubo baja temperatura'\n\\item 'Fue caluroso'\n\\item 'Hubo baja temperatura'\n\\item 'Fue caluroso'\n\\item 'Hubo baja temperatura'\n\\item 'Hubo baja temperatura'\n\\item 'Fue caluroso'\n\\item 'Fue caluroso'\n\\item 'Fue caluroso'\n\\item 'Hubo baja temperatura'\n\\item 'Fue caluroso'\n\\item 'Fue caluroso'\n\\item 'Hubo baja temperatura'\n\\item 'Hubo baja temperatura'\n\\item 'Hubo baja temperatura'\n\\item 'Hubo baja temperatura'\n\\item 'Hubo baja temperatura'\n\\item 'Hubo baja temperatura'\n\\item 'Hubo baja temperatura'\n\\item 'Hubo baja temperatura'\n\\item 'Hubo baja temperatura'\n\\item 'Fue caluroso'\n\\item 'Hubo baja temperatura'\n\\item 'Hubo baja temperatura'\n\\item 'Hubo baja temperatura'\n\\item 'Fue caluroso'\n\\item 'Fue caluroso'\n\\end{enumerate*}\n",
            "text/markdown": "1. 'Hubo baja temperatura'\n2. 'Fue caluroso'\n3. 'Fue caluroso'\n4. 'Hubo baja temperatura'\n5. 'Hubo baja temperatura'\n6. 'Fue caluroso'\n7. 'Hubo baja temperatura'\n8. 'Hubo baja temperatura'\n9. 'Fue caluroso'\n10. 'Hubo baja temperatura'\n11. 'Hubo baja temperatura'\n12. 'Hubo baja temperatura'\n13. 'Fue caluroso'\n14. 'Hubo baja temperatura'\n15. 'Fue caluroso'\n16. 'Hubo baja temperatura'\n17. 'Fue caluroso'\n18. 'Hubo baja temperatura'\n19. 'Fue caluroso'\n20. 'Hubo baja temperatura'\n21. 'Hubo baja temperatura'\n22. 'Fue caluroso'\n23. 'Fue caluroso'\n24. 'Fue caluroso'\n25. 'Hubo baja temperatura'\n26. 'Fue caluroso'\n27. 'Hubo baja temperatura'\n28. 'Fue caluroso'\n29. 'Fue caluroso'\n30. 'Hubo baja temperatura'\n31. 'Fue caluroso'\n32. 'Fue caluroso'\n33. 'Hubo baja temperatura'\n34. 'Hubo baja temperatura'\n35. 'Hubo baja temperatura'\n36. 'Fue caluroso'\n37. 'Fue caluroso'\n38. 'Hubo baja temperatura'\n39. 'Fue caluroso'\n40. 'Fue caluroso'\n41. 'Fue caluroso'\n42. 'Fue caluroso'\n43. 'Hubo baja temperatura'\n44. 'Fue caluroso'\n45. 'Fue caluroso'\n46. 'Hubo baja temperatura'\n47. 'Fue caluroso'\n48. 'Hubo baja temperatura'\n49. 'Hubo baja temperatura'\n50. 'Hubo baja temperatura'\n51. 'Fue caluroso'\n52. 'Fue caluroso'\n53. 'Fue caluroso'\n54. 'Fue caluroso'\n55. 'Fue caluroso'\n56. 'Fue caluroso'\n57. 'Fue caluroso'\n58. 'Hubo baja temperatura'\n59. 'Fue caluroso'\n60. 'Fue caluroso'\n61. 'Hubo baja temperatura'\n62. 'Fue caluroso'\n63. 'Hubo baja temperatura'\n64. 'Hubo baja temperatura'\n65. 'Hubo baja temperatura'\n66. 'Hubo baja temperatura'\n67. 'Fue caluroso'\n68. 'Fue caluroso'\n69. 'Fue caluroso'\n70. 'Hubo baja temperatura'\n71. 'Hubo baja temperatura'\n72. 'Fue caluroso'\n73. 'Fue caluroso'\n74. 'Hubo baja temperatura'\n75. 'Fue caluroso'\n76. 'Hubo baja temperatura'\n77. 'Fue caluroso'\n78. 'Hubo baja temperatura'\n79. 'Hubo baja temperatura'\n80. 'Fue caluroso'\n81. 'Fue caluroso'\n82. 'Fue caluroso'\n83. 'Hubo baja temperatura'\n84. 'Fue caluroso'\n85. 'Fue caluroso'\n86. 'Hubo baja temperatura'\n87. 'Hubo baja temperatura'\n88. 'Hubo baja temperatura'\n89. 'Hubo baja temperatura'\n90. 'Hubo baja temperatura'\n91. 'Hubo baja temperatura'\n92. 'Hubo baja temperatura'\n93. 'Hubo baja temperatura'\n94. 'Hubo baja temperatura'\n95. 'Fue caluroso'\n96. 'Hubo baja temperatura'\n97. 'Hubo baja temperatura'\n98. 'Hubo baja temperatura'\n99. 'Fue caluroso'\n100. 'Fue caluroso'\n\n\n",
            "text/html": [
              "<style>\n",
              ".list-inline {list-style: none; margin:0; padding: 0}\n",
              ".list-inline>li {display: inline-block}\n",
              ".list-inline>li:not(:last-child)::after {content: \"\\00b7\"; padding: 0 .5ex}\n",
              "</style>\n",
              "<ol class=list-inline><li>'Hubo baja temperatura'</li><li>'Fue caluroso'</li><li>'Fue caluroso'</li><li>'Hubo baja temperatura'</li><li>'Hubo baja temperatura'</li><li>'Fue caluroso'</li><li>'Hubo baja temperatura'</li><li>'Hubo baja temperatura'</li><li>'Fue caluroso'</li><li>'Hubo baja temperatura'</li><li>'Hubo baja temperatura'</li><li>'Hubo baja temperatura'</li><li>'Fue caluroso'</li><li>'Hubo baja temperatura'</li><li>'Fue caluroso'</li><li>'Hubo baja temperatura'</li><li>'Fue caluroso'</li><li>'Hubo baja temperatura'</li><li>'Fue caluroso'</li><li>'Hubo baja temperatura'</li><li>'Hubo baja temperatura'</li><li>'Fue caluroso'</li><li>'Fue caluroso'</li><li>'Fue caluroso'</li><li>'Hubo baja temperatura'</li><li>'Fue caluroso'</li><li>'Hubo baja temperatura'</li><li>'Fue caluroso'</li><li>'Fue caluroso'</li><li>'Hubo baja temperatura'</li><li>'Fue caluroso'</li><li>'Fue caluroso'</li><li>'Hubo baja temperatura'</li><li>'Hubo baja temperatura'</li><li>'Hubo baja temperatura'</li><li>'Fue caluroso'</li><li>'Fue caluroso'</li><li>'Hubo baja temperatura'</li><li>'Fue caluroso'</li><li>'Fue caluroso'</li><li>'Fue caluroso'</li><li>'Fue caluroso'</li><li>'Hubo baja temperatura'</li><li>'Fue caluroso'</li><li>'Fue caluroso'</li><li>'Hubo baja temperatura'</li><li>'Fue caluroso'</li><li>'Hubo baja temperatura'</li><li>'Hubo baja temperatura'</li><li>'Hubo baja temperatura'</li><li>'Fue caluroso'</li><li>'Fue caluroso'</li><li>'Fue caluroso'</li><li>'Fue caluroso'</li><li>'Fue caluroso'</li><li>'Fue caluroso'</li><li>'Fue caluroso'</li><li>'Hubo baja temperatura'</li><li>'Fue caluroso'</li><li>'Fue caluroso'</li><li>'Hubo baja temperatura'</li><li>'Fue caluroso'</li><li>'Hubo baja temperatura'</li><li>'Hubo baja temperatura'</li><li>'Hubo baja temperatura'</li><li>'Hubo baja temperatura'</li><li>'Fue caluroso'</li><li>'Fue caluroso'</li><li>'Fue caluroso'</li><li>'Hubo baja temperatura'</li><li>'Hubo baja temperatura'</li><li>'Fue caluroso'</li><li>'Fue caluroso'</li><li>'Hubo baja temperatura'</li><li>'Fue caluroso'</li><li>'Hubo baja temperatura'</li><li>'Fue caluroso'</li><li>'Hubo baja temperatura'</li><li>'Hubo baja temperatura'</li><li>'Fue caluroso'</li><li>'Fue caluroso'</li><li>'Fue caluroso'</li><li>'Hubo baja temperatura'</li><li>'Fue caluroso'</li><li>'Fue caluroso'</li><li>'Hubo baja temperatura'</li><li>'Hubo baja temperatura'</li><li>'Hubo baja temperatura'</li><li>'Hubo baja temperatura'</li><li>'Hubo baja temperatura'</li><li>'Hubo baja temperatura'</li><li>'Hubo baja temperatura'</li><li>'Hubo baja temperatura'</li><li>'Hubo baja temperatura'</li><li>'Fue caluroso'</li><li>'Hubo baja temperatura'</li><li>'Hubo baja temperatura'</li><li>'Hubo baja temperatura'</li><li>'Fue caluroso'</li><li>'Fue caluroso'</li></ol>\n"
            ]
          },
          "metadata": {
            "tags": []
          }
        }
      ]
    },
    {
      "cell_type": "markdown",
      "metadata": {
        "id": "i7p8FIdtm5Zs"
      },
      "source": [
        "**Paso 5**\n",
        "\n",
        "Finalmente cree un data frame llamado _precipitaciones_ con las siguientes columnas:<br>\n",
        "\n",
        "*Dia_semana* (con los valores del vector _dia_)<br>\n",
        "*Temperatura* (con los valores del vector _temp_)<br>\n",
        "*Llueve* (con los valores del vector _lluvia_)<br>\n",
        "*Estacion* (con los valores del vector _est_)<br>"
      ]
    },
    {
      "cell_type": "code",
      "metadata": {
        "trusted": true,
        "id": "o-TVm7uum5Zs",
        "outputId": "9e840ea2-b89f-4942-f7d8-144b5f084194",
        "colab": {
          "base_uri": "https://localhost:8080/",
          "height": 1000
        }
      },
      "source": [
        "# Paso 5\n",
        "precipitaciones <- data.frame(Dia_semana = dia,\n",
        "                              Temperatura = temp,\n",
        "                              Llueve = lluvia,\n",
        "                              Estacion = est)\n",
        "\n",
        "precipitaciones   \n",
        "dim(precipitaciones)                           "
      ],
      "execution_count": 25,
      "outputs": [
        {
          "output_type": "display_data",
          "data": {
            "text/plain": [
              "    Dia_semana Temperatura Llueve Estacion\n",
              "1   L           8.1738480   TRUE  E1      \n",
              "2   M          37.3506437  FALSE  E1      \n",
              "3   W          32.7271493  FALSE  E1      \n",
              "4   J          19.1578523   TRUE  E1      \n",
              "5   V          15.1300422   TRUE  E1      \n",
              "6   S          22.1237777  FALSE  E1      \n",
              "7   D          10.7667577   TRUE  E1      \n",
              "8   L          16.7129989   TRUE  E1      \n",
              "9   M          20.7403160  FALSE  E1      \n",
              "10  W          14.6455820   TRUE  E1      \n",
              "11  J          -0.2981734   TRUE  E1      \n",
              "12  V          16.7271368   TRUE  E1      \n",
              "13  S          20.6331619  FALSE  E1      \n",
              "14  D          12.7571772   TRUE  E1      \n",
              "15  L          25.5239864  FALSE  E1      \n",
              "16  M          12.1345214   TRUE  E1      \n",
              "17  W          25.7572378  FALSE  E1      \n",
              "18  J          17.5984501   TRUE  E1      \n",
              "19  V          24.7945560  FALSE  E1      \n",
              "20  S          15.9003467   TRUE  E1      \n",
              "21  D          15.4093993   TRUE  E1      \n",
              "22  L          30.5259708  FALSE  E1      \n",
              "23  M          30.1067306  FALSE  E1      \n",
              "24  W          20.0268045  FALSE  E1      \n",
              "25  J          17.9485554   TRUE  E1      \n",
              "26  V          24.2013167  FALSE  E1      \n",
              "27  S          15.0326152   TRUE  E1      \n",
              "28  D          30.3674857  FALSE  E1      \n",
              "29  L          23.0021185  FALSE  E1      \n",
              "30  M          15.9226406   TRUE  E1      \n",
              "⋮   ⋮          ⋮           ⋮      ⋮       \n",
              "71  L          19.638204    TRUE  E3      \n",
              "72  M          21.609638   FALSE  E3      \n",
              "73  W          25.857626   FALSE  E3      \n",
              "74  J          12.476245    TRUE  E3      \n",
              "75  V          26.578244   FALSE  E3      \n",
              "76  S          13.389528    TRUE  E3      \n",
              "77  D          21.186672   FALSE  E3      \n",
              "78  L          18.402565    TRUE  E3      \n",
              "79  M           2.280088    TRUE  E3      \n",
              "80  W          34.400874   FALSE  E3      \n",
              "81  J          31.369631   FALSE  E3      \n",
              "82  V          21.113531   FALSE  E3      \n",
              "83  S          11.905270    TRUE  E3      \n",
              "84  D          23.705147   FALSE  E3      \n",
              "85  L          31.459670   FALSE  E3      \n",
              "86  M          19.527236    TRUE  E3      \n",
              "87  W          16.594308    TRUE  E3      \n",
              "88  J          19.263368    TRUE  E3      \n",
              "89  V          17.091993    TRUE  E3      \n",
              "90  S           4.368705    TRUE  E3      \n",
              "91  D          13.039373    TRUE  E3      \n",
              "92  L          17.986372    TRUE  E3      \n",
              "93  M          17.098178    TRUE  E3      \n",
              "94  W          11.165550    TRUE  E3      \n",
              "95  J          24.839171   FALSE  E3      \n",
              "96  V          17.440204    TRUE  E3      \n",
              "97  S          12.774756    TRUE  E3      \n",
              "98  D           8.916021    TRUE  E3      \n",
              "99  L          27.923728   FALSE  E3      \n",
              "100 M          24.448657   FALSE  E3      "
            ],
            "text/latex": "A data.frame: 100 × 4\n\\begin{tabular}{llll}\n Dia\\_semana & Temperatura & Llueve & Estacion\\\\\n <chr> & <dbl> & <lgl> & <chr>\\\\\n\\hline\n\t L &  8.1738480 &  TRUE & E1\\\\\n\t M & 37.3506437 & FALSE & E1\\\\\n\t W & 32.7271493 & FALSE & E1\\\\\n\t J & 19.1578523 &  TRUE & E1\\\\\n\t V & 15.1300422 &  TRUE & E1\\\\\n\t S & 22.1237777 & FALSE & E1\\\\\n\t D & 10.7667577 &  TRUE & E1\\\\\n\t L & 16.7129989 &  TRUE & E1\\\\\n\t M & 20.7403160 & FALSE & E1\\\\\n\t W & 14.6455820 &  TRUE & E1\\\\\n\t J & -0.2981734 &  TRUE & E1\\\\\n\t V & 16.7271368 &  TRUE & E1\\\\\n\t S & 20.6331619 & FALSE & E1\\\\\n\t D & 12.7571772 &  TRUE & E1\\\\\n\t L & 25.5239864 & FALSE & E1\\\\\n\t M & 12.1345214 &  TRUE & E1\\\\\n\t W & 25.7572378 & FALSE & E1\\\\\n\t J & 17.5984501 &  TRUE & E1\\\\\n\t V & 24.7945560 & FALSE & E1\\\\\n\t S & 15.9003467 &  TRUE & E1\\\\\n\t D & 15.4093993 &  TRUE & E1\\\\\n\t L & 30.5259708 & FALSE & E1\\\\\n\t M & 30.1067306 & FALSE & E1\\\\\n\t W & 20.0268045 & FALSE & E1\\\\\n\t J & 17.9485554 &  TRUE & E1\\\\\n\t V & 24.2013167 & FALSE & E1\\\\\n\t S & 15.0326152 &  TRUE & E1\\\\\n\t D & 30.3674857 & FALSE & E1\\\\\n\t L & 23.0021185 & FALSE & E1\\\\\n\t M & 15.9226406 &  TRUE & E1\\\\\n\t ⋮ & ⋮ & ⋮ & ⋮\\\\\n\t L & 19.638204 &  TRUE & E3\\\\\n\t M & 21.609638 & FALSE & E3\\\\\n\t W & 25.857626 & FALSE & E3\\\\\n\t J & 12.476245 &  TRUE & E3\\\\\n\t V & 26.578244 & FALSE & E3\\\\\n\t S & 13.389528 &  TRUE & E3\\\\\n\t D & 21.186672 & FALSE & E3\\\\\n\t L & 18.402565 &  TRUE & E3\\\\\n\t M &  2.280088 &  TRUE & E3\\\\\n\t W & 34.400874 & FALSE & E3\\\\\n\t J & 31.369631 & FALSE & E3\\\\\n\t V & 21.113531 & FALSE & E3\\\\\n\t S & 11.905270 &  TRUE & E3\\\\\n\t D & 23.705147 & FALSE & E3\\\\\n\t L & 31.459670 & FALSE & E3\\\\\n\t M & 19.527236 &  TRUE & E3\\\\\n\t W & 16.594308 &  TRUE & E3\\\\\n\t J & 19.263368 &  TRUE & E3\\\\\n\t V & 17.091993 &  TRUE & E3\\\\\n\t S &  4.368705 &  TRUE & E3\\\\\n\t D & 13.039373 &  TRUE & E3\\\\\n\t L & 17.986372 &  TRUE & E3\\\\\n\t M & 17.098178 &  TRUE & E3\\\\\n\t W & 11.165550 &  TRUE & E3\\\\\n\t J & 24.839171 & FALSE & E3\\\\\n\t V & 17.440204 &  TRUE & E3\\\\\n\t S & 12.774756 &  TRUE & E3\\\\\n\t D &  8.916021 &  TRUE & E3\\\\\n\t L & 27.923728 & FALSE & E3\\\\\n\t M & 24.448657 & FALSE & E3\\\\\n\\end{tabular}\n",
            "text/markdown": "\nA data.frame: 100 × 4\n\n| Dia_semana &lt;chr&gt; | Temperatura &lt;dbl&gt; | Llueve &lt;lgl&gt; | Estacion &lt;chr&gt; |\n|---|---|---|---|\n| L |  8.1738480 |  TRUE | E1 |\n| M | 37.3506437 | FALSE | E1 |\n| W | 32.7271493 | FALSE | E1 |\n| J | 19.1578523 |  TRUE | E1 |\n| V | 15.1300422 |  TRUE | E1 |\n| S | 22.1237777 | FALSE | E1 |\n| D | 10.7667577 |  TRUE | E1 |\n| L | 16.7129989 |  TRUE | E1 |\n| M | 20.7403160 | FALSE | E1 |\n| W | 14.6455820 |  TRUE | E1 |\n| J | -0.2981734 |  TRUE | E1 |\n| V | 16.7271368 |  TRUE | E1 |\n| S | 20.6331619 | FALSE | E1 |\n| D | 12.7571772 |  TRUE | E1 |\n| L | 25.5239864 | FALSE | E1 |\n| M | 12.1345214 |  TRUE | E1 |\n| W | 25.7572378 | FALSE | E1 |\n| J | 17.5984501 |  TRUE | E1 |\n| V | 24.7945560 | FALSE | E1 |\n| S | 15.9003467 |  TRUE | E1 |\n| D | 15.4093993 |  TRUE | E1 |\n| L | 30.5259708 | FALSE | E1 |\n| M | 30.1067306 | FALSE | E1 |\n| W | 20.0268045 | FALSE | E1 |\n| J | 17.9485554 |  TRUE | E1 |\n| V | 24.2013167 | FALSE | E1 |\n| S | 15.0326152 |  TRUE | E1 |\n| D | 30.3674857 | FALSE | E1 |\n| L | 23.0021185 | FALSE | E1 |\n| M | 15.9226406 |  TRUE | E1 |\n| ⋮ | ⋮ | ⋮ | ⋮ |\n| L | 19.638204 |  TRUE | E3 |\n| M | 21.609638 | FALSE | E3 |\n| W | 25.857626 | FALSE | E3 |\n| J | 12.476245 |  TRUE | E3 |\n| V | 26.578244 | FALSE | E3 |\n| S | 13.389528 |  TRUE | E3 |\n| D | 21.186672 | FALSE | E3 |\n| L | 18.402565 |  TRUE | E3 |\n| M |  2.280088 |  TRUE | E3 |\n| W | 34.400874 | FALSE | E3 |\n| J | 31.369631 | FALSE | E3 |\n| V | 21.113531 | FALSE | E3 |\n| S | 11.905270 |  TRUE | E3 |\n| D | 23.705147 | FALSE | E3 |\n| L | 31.459670 | FALSE | E3 |\n| M | 19.527236 |  TRUE | E3 |\n| W | 16.594308 |  TRUE | E3 |\n| J | 19.263368 |  TRUE | E3 |\n| V | 17.091993 |  TRUE | E3 |\n| S |  4.368705 |  TRUE | E3 |\n| D | 13.039373 |  TRUE | E3 |\n| L | 17.986372 |  TRUE | E3 |\n| M | 17.098178 |  TRUE | E3 |\n| W | 11.165550 |  TRUE | E3 |\n| J | 24.839171 | FALSE | E3 |\n| V | 17.440204 |  TRUE | E3 |\n| S | 12.774756 |  TRUE | E3 |\n| D |  8.916021 |  TRUE | E3 |\n| L | 27.923728 | FALSE | E3 |\n| M | 24.448657 | FALSE | E3 |\n\n",
            "text/html": [
              "<table class=\"dataframe\">\n",
              "<caption>A data.frame: 100 × 4</caption>\n",
              "<thead>\n",
              "\t<tr><th scope=col>Dia_semana</th><th scope=col>Temperatura</th><th scope=col>Llueve</th><th scope=col>Estacion</th></tr>\n",
              "\t<tr><th scope=col>&lt;chr&gt;</th><th scope=col>&lt;dbl&gt;</th><th scope=col>&lt;lgl&gt;</th><th scope=col>&lt;chr&gt;</th></tr>\n",
              "</thead>\n",
              "<tbody>\n",
              "\t<tr><td>L</td><td> 8.1738480</td><td> TRUE</td><td>E1</td></tr>\n",
              "\t<tr><td>M</td><td>37.3506437</td><td>FALSE</td><td>E1</td></tr>\n",
              "\t<tr><td>W</td><td>32.7271493</td><td>FALSE</td><td>E1</td></tr>\n",
              "\t<tr><td>J</td><td>19.1578523</td><td> TRUE</td><td>E1</td></tr>\n",
              "\t<tr><td>V</td><td>15.1300422</td><td> TRUE</td><td>E1</td></tr>\n",
              "\t<tr><td>S</td><td>22.1237777</td><td>FALSE</td><td>E1</td></tr>\n",
              "\t<tr><td>D</td><td>10.7667577</td><td> TRUE</td><td>E1</td></tr>\n",
              "\t<tr><td>L</td><td>16.7129989</td><td> TRUE</td><td>E1</td></tr>\n",
              "\t<tr><td>M</td><td>20.7403160</td><td>FALSE</td><td>E1</td></tr>\n",
              "\t<tr><td>W</td><td>14.6455820</td><td> TRUE</td><td>E1</td></tr>\n",
              "\t<tr><td>J</td><td>-0.2981734</td><td> TRUE</td><td>E1</td></tr>\n",
              "\t<tr><td>V</td><td>16.7271368</td><td> TRUE</td><td>E1</td></tr>\n",
              "\t<tr><td>S</td><td>20.6331619</td><td>FALSE</td><td>E1</td></tr>\n",
              "\t<tr><td>D</td><td>12.7571772</td><td> TRUE</td><td>E1</td></tr>\n",
              "\t<tr><td>L</td><td>25.5239864</td><td>FALSE</td><td>E1</td></tr>\n",
              "\t<tr><td>M</td><td>12.1345214</td><td> TRUE</td><td>E1</td></tr>\n",
              "\t<tr><td>W</td><td>25.7572378</td><td>FALSE</td><td>E1</td></tr>\n",
              "\t<tr><td>J</td><td>17.5984501</td><td> TRUE</td><td>E1</td></tr>\n",
              "\t<tr><td>V</td><td>24.7945560</td><td>FALSE</td><td>E1</td></tr>\n",
              "\t<tr><td>S</td><td>15.9003467</td><td> TRUE</td><td>E1</td></tr>\n",
              "\t<tr><td>D</td><td>15.4093993</td><td> TRUE</td><td>E1</td></tr>\n",
              "\t<tr><td>L</td><td>30.5259708</td><td>FALSE</td><td>E1</td></tr>\n",
              "\t<tr><td>M</td><td>30.1067306</td><td>FALSE</td><td>E1</td></tr>\n",
              "\t<tr><td>W</td><td>20.0268045</td><td>FALSE</td><td>E1</td></tr>\n",
              "\t<tr><td>J</td><td>17.9485554</td><td> TRUE</td><td>E1</td></tr>\n",
              "\t<tr><td>V</td><td>24.2013167</td><td>FALSE</td><td>E1</td></tr>\n",
              "\t<tr><td>S</td><td>15.0326152</td><td> TRUE</td><td>E1</td></tr>\n",
              "\t<tr><td>D</td><td>30.3674857</td><td>FALSE</td><td>E1</td></tr>\n",
              "\t<tr><td>L</td><td>23.0021185</td><td>FALSE</td><td>E1</td></tr>\n",
              "\t<tr><td>M</td><td>15.9226406</td><td> TRUE</td><td>E1</td></tr>\n",
              "\t<tr><td>⋮</td><td>⋮</td><td>⋮</td><td>⋮</td></tr>\n",
              "\t<tr><td>L</td><td>19.638204</td><td> TRUE</td><td>E3</td></tr>\n",
              "\t<tr><td>M</td><td>21.609638</td><td>FALSE</td><td>E3</td></tr>\n",
              "\t<tr><td>W</td><td>25.857626</td><td>FALSE</td><td>E3</td></tr>\n",
              "\t<tr><td>J</td><td>12.476245</td><td> TRUE</td><td>E3</td></tr>\n",
              "\t<tr><td>V</td><td>26.578244</td><td>FALSE</td><td>E3</td></tr>\n",
              "\t<tr><td>S</td><td>13.389528</td><td> TRUE</td><td>E3</td></tr>\n",
              "\t<tr><td>D</td><td>21.186672</td><td>FALSE</td><td>E3</td></tr>\n",
              "\t<tr><td>L</td><td>18.402565</td><td> TRUE</td><td>E3</td></tr>\n",
              "\t<tr><td>M</td><td> 2.280088</td><td> TRUE</td><td>E3</td></tr>\n",
              "\t<tr><td>W</td><td>34.400874</td><td>FALSE</td><td>E3</td></tr>\n",
              "\t<tr><td>J</td><td>31.369631</td><td>FALSE</td><td>E3</td></tr>\n",
              "\t<tr><td>V</td><td>21.113531</td><td>FALSE</td><td>E3</td></tr>\n",
              "\t<tr><td>S</td><td>11.905270</td><td> TRUE</td><td>E3</td></tr>\n",
              "\t<tr><td>D</td><td>23.705147</td><td>FALSE</td><td>E3</td></tr>\n",
              "\t<tr><td>L</td><td>31.459670</td><td>FALSE</td><td>E3</td></tr>\n",
              "\t<tr><td>M</td><td>19.527236</td><td> TRUE</td><td>E3</td></tr>\n",
              "\t<tr><td>W</td><td>16.594308</td><td> TRUE</td><td>E3</td></tr>\n",
              "\t<tr><td>J</td><td>19.263368</td><td> TRUE</td><td>E3</td></tr>\n",
              "\t<tr><td>V</td><td>17.091993</td><td> TRUE</td><td>E3</td></tr>\n",
              "\t<tr><td>S</td><td> 4.368705</td><td> TRUE</td><td>E3</td></tr>\n",
              "\t<tr><td>D</td><td>13.039373</td><td> TRUE</td><td>E3</td></tr>\n",
              "\t<tr><td>L</td><td>17.986372</td><td> TRUE</td><td>E3</td></tr>\n",
              "\t<tr><td>M</td><td>17.098178</td><td> TRUE</td><td>E3</td></tr>\n",
              "\t<tr><td>W</td><td>11.165550</td><td> TRUE</td><td>E3</td></tr>\n",
              "\t<tr><td>J</td><td>24.839171</td><td>FALSE</td><td>E3</td></tr>\n",
              "\t<tr><td>V</td><td>17.440204</td><td> TRUE</td><td>E3</td></tr>\n",
              "\t<tr><td>S</td><td>12.774756</td><td> TRUE</td><td>E3</td></tr>\n",
              "\t<tr><td>D</td><td> 8.916021</td><td> TRUE</td><td>E3</td></tr>\n",
              "\t<tr><td>L</td><td>27.923728</td><td>FALSE</td><td>E3</td></tr>\n",
              "\t<tr><td>M</td><td>24.448657</td><td>FALSE</td><td>E3</td></tr>\n",
              "</tbody>\n",
              "</table>\n"
            ]
          },
          "metadata": {
            "tags": []
          }
        },
        {
          "output_type": "display_data",
          "data": {
            "text/plain": [
              "[1] 100   4"
            ],
            "text/latex": "\\begin{enumerate*}\n\\item 100\n\\item 4\n\\end{enumerate*}\n",
            "text/markdown": "1. 100\n2. 4\n\n\n",
            "text/html": [
              "<style>\n",
              ".list-inline {list-style: none; margin:0; padding: 0}\n",
              ".list-inline>li {display: inline-block}\n",
              ".list-inline>li:not(:last-child)::after {content: \"\\00b7\"; padding: 0 .5ex}\n",
              "</style>\n",
              "<ol class=list-inline><li>100</li><li>4</li></ol>\n"
            ]
          },
          "metadata": {
            "tags": []
          }
        }
      ]
    },
    {
      "cell_type": "code",
      "metadata": {
        "id": "IWA1qinOE9Aa",
        "outputId": "59fe9136-32d4-4f39-e60d-9484629d37df",
        "colab": {
          "base_uri": "https://localhost:8080/"
        }
      },
      "source": [
        "str(precipitaciones)"
      ],
      "execution_count": 26,
      "outputs": [
        {
          "output_type": "stream",
          "text": [
            "'data.frame':\t100 obs. of  4 variables:\n",
            " $ Dia_semana : chr  \"L\" \"M\" \"W\" \"J\" ...\n",
            " $ Temperatura: num  8.17 37.35 32.73 19.16 15.13 ...\n",
            " $ Llueve     : logi  TRUE FALSE FALSE TRUE TRUE FALSE ...\n",
            " $ Estacion   : chr  \"E1\" \"E1\" \"E1\" \"E1\" ...\n"
          ],
          "name": "stdout"
        }
      ]
    },
    {
      "cell_type": "markdown",
      "metadata": {
        "id": "kIjelA5sm5Zx"
      },
      "source": [
        "#### Strings como factores\n",
        "Cuando en R se declara una variable como factor, internamente se codifican sus categorías con valores 0 o 1. Por ejemplo, para las variables _Dia_ y _Estacion_ podemos generar sus matriz de diseño, indicando un 1 si el día (o estación) corresponde a la nueva columna generada, 0 si  no:\n",
        "\n",
        " |Dia |Temperatura    |Llueve| Estacion| | Dia.L|Dia.M|Dia.W|Dia.J|Dia.V|Dia.S|Dia.D|Est.1|Est.2|Est.3|\n",
        " |----|------------   |------|---------| |---   |---  |---  |---  |---  |---  |---  |---  |---  |---  |\n",
        " |L\t  |16.300201      |TRUE  |\tE1     | |1     |0    |0    |0    |0    |0    |0    |1    |0    |0    |\n",
        " |M   |21.042854      |FALSE |\tE1     | |0     |1    |0    |0    |0    |0    |0    |1    |0    |0    |\n",
        " |J\t  |31.256043      |FALSE |\tE3     | |0     |0    |0    |1    |0    |0    |0    |0    |0    |1    |\n",
        " |S\t  |40.083514      |FALSE |\tE3     | |0     |0    |0    |0    |0    |1    |0    |0    |0    |1    |\n",
        " \n",
        " Cuando se quiere generar un resumen de una variable categórica, o cuando se quiere incluir una variable de este tipo en el entrenamiento de un modelo será necesario declarar dicha variable como factor."
      ]
    },
    {
      "cell_type": "code",
      "metadata": {
        "id": "s_JsfE0CF0ZD",
        "outputId": "7aaad31e-1550-424c-9f3b-424d5cb7f0ab",
        "colab": {
          "base_uri": "https://localhost:8080/",
          "height": 145
        }
      },
      "source": [
        "summary(precipitaciones)"
      ],
      "execution_count": 27,
      "outputs": [
        {
          "output_type": "display_data",
          "data": {
            "text/plain": [
              "  Dia_semana         Temperatura        Llueve          Estacion        \n",
              " Length:100         Min.   :-0.2982   Mode :logical   Length:100        \n",
              " Class :character   1st Qu.:15.3396   FALSE:50        Class :character  \n",
              " Mode  :character   Median :19.8782   TRUE :50        Mode  :character  \n",
              "                    Mean   :20.2018                                     \n",
              "                    3rd Qu.:25.5823                                     \n",
              "                    Max.   :39.9413                                     "
            ]
          },
          "metadata": {
            "tags": []
          }
        }
      ]
    },
    {
      "cell_type": "code",
      "metadata": {
        "trusted": true,
        "id": "UQN71LvGm5Z-"
      },
      "source": [
        "#podemos volver a coercionar las columnas a clase factor,  con la función as.factor\n",
        "precipitaciones$Dia_semana <- as.factor(precipitaciones$Dia_semana)"
      ],
      "execution_count": 28,
      "outputs": []
    },
    {
      "cell_type": "code",
      "metadata": {
        "id": "iF47_JnGGTRj",
        "outputId": "fc74b162-4660-404e-a89d-d82d628bac8d",
        "colab": {
          "base_uri": "https://localhost:8080/",
          "height": 285
        }
      },
      "source": [
        "head(precipitaciones)# Muestra por defecto, los 6 primeros registros"
      ],
      "execution_count": 29,
      "outputs": [
        {
          "output_type": "display_data",
          "data": {
            "text/plain": [
              "  Dia_semana Temperatura Llueve Estacion\n",
              "1 L           8.173848    TRUE  E1      \n",
              "2 M          37.350644   FALSE  E1      \n",
              "3 W          32.727149   FALSE  E1      \n",
              "4 J          19.157852    TRUE  E1      \n",
              "5 V          15.130042    TRUE  E1      \n",
              "6 S          22.123778   FALSE  E1      "
            ],
            "text/latex": "A data.frame: 6 × 4\n\\begin{tabular}{r|llll}\n  & Dia\\_semana & Temperatura & Llueve & Estacion\\\\\n  & <fct> & <dbl> & <lgl> & <chr>\\\\\n\\hline\n\t1 & L &  8.173848 &  TRUE & E1\\\\\n\t2 & M & 37.350644 & FALSE & E1\\\\\n\t3 & W & 32.727149 & FALSE & E1\\\\\n\t4 & J & 19.157852 &  TRUE & E1\\\\\n\t5 & V & 15.130042 &  TRUE & E1\\\\\n\t6 & S & 22.123778 & FALSE & E1\\\\\n\\end{tabular}\n",
            "text/markdown": "\nA data.frame: 6 × 4\n\n| <!--/--> | Dia_semana &lt;fct&gt; | Temperatura &lt;dbl&gt; | Llueve &lt;lgl&gt; | Estacion &lt;chr&gt; |\n|---|---|---|---|---|\n| 1 | L |  8.173848 |  TRUE | E1 |\n| 2 | M | 37.350644 | FALSE | E1 |\n| 3 | W | 32.727149 | FALSE | E1 |\n| 4 | J | 19.157852 |  TRUE | E1 |\n| 5 | V | 15.130042 |  TRUE | E1 |\n| 6 | S | 22.123778 | FALSE | E1 |\n\n",
            "text/html": [
              "<table class=\"dataframe\">\n",
              "<caption>A data.frame: 6 × 4</caption>\n",
              "<thead>\n",
              "\t<tr><th></th><th scope=col>Dia_semana</th><th scope=col>Temperatura</th><th scope=col>Llueve</th><th scope=col>Estacion</th></tr>\n",
              "\t<tr><th></th><th scope=col>&lt;fct&gt;</th><th scope=col>&lt;dbl&gt;</th><th scope=col>&lt;lgl&gt;</th><th scope=col>&lt;chr&gt;</th></tr>\n",
              "</thead>\n",
              "<tbody>\n",
              "\t<tr><th scope=row>1</th><td>L</td><td> 8.173848</td><td> TRUE</td><td>E1</td></tr>\n",
              "\t<tr><th scope=row>2</th><td>M</td><td>37.350644</td><td>FALSE</td><td>E1</td></tr>\n",
              "\t<tr><th scope=row>3</th><td>W</td><td>32.727149</td><td>FALSE</td><td>E1</td></tr>\n",
              "\t<tr><th scope=row>4</th><td>J</td><td>19.157852</td><td> TRUE</td><td>E1</td></tr>\n",
              "\t<tr><th scope=row>5</th><td>V</td><td>15.130042</td><td> TRUE</td><td>E1</td></tr>\n",
              "\t<tr><th scope=row>6</th><td>S</td><td>22.123778</td><td>FALSE</td><td>E1</td></tr>\n",
              "</tbody>\n",
              "</table>\n"
            ]
          },
          "metadata": {
            "tags": []
          }
        }
      ]
    },
    {
      "cell_type": "code",
      "metadata": {
        "id": "t2OrK_WKGe0C",
        "outputId": "cabca497-b684-44ff-9c97-5b32ff8cf17f",
        "colab": {
          "base_uri": "https://localhost:8080/",
          "height": 163
        }
      },
      "source": [
        "summary(precipitaciones)"
      ],
      "execution_count": 30,
      "outputs": [
        {
          "output_type": "display_data",
          "data": {
            "text/plain": [
              " Dia_semana  Temperatura        Llueve          Estacion        \n",
              " D:14       Min.   :-0.2982   Mode :logical   Length:100        \n",
              " J:14       1st Qu.:15.3396   FALSE:50        Class :character  \n",
              " L:15       Median :19.8782   TRUE :50        Mode  :character  \n",
              " M:15       Mean   :20.2018                                     \n",
              " S:14       3rd Qu.:25.5823                                     \n",
              " V:14       Max.   :39.9413                                     \n",
              " W:14                                                           "
            ]
          },
          "metadata": {
            "tags": []
          }
        }
      ]
    },
    {
      "cell_type": "code",
      "metadata": {
        "id": "ctKJmJVjG12Z"
      },
      "source": [
        "# Si queremos volver la variable Dia_semana nuevamente a clase \"character\", podemos hacero mendiate la función as.character()\n",
        "precipitaciones$Dia_semana <- as.character(precipitaciones$Dia_semana)"
      ],
      "execution_count": 31,
      "outputs": []
    },
    {
      "cell_type": "code",
      "metadata": {
        "id": "T72ec0xhHDQq",
        "outputId": "fb66ac65-6286-4952-8cb7-809577203b52",
        "colab": {
          "base_uri": "https://localhost:8080/",
          "height": 285
        }
      },
      "source": [
        "head(precipitaciones)"
      ],
      "execution_count": 32,
      "outputs": [
        {
          "output_type": "display_data",
          "data": {
            "text/plain": [
              "  Dia_semana Temperatura Llueve Estacion\n",
              "1 L           8.173848    TRUE  E1      \n",
              "2 M          37.350644   FALSE  E1      \n",
              "3 W          32.727149   FALSE  E1      \n",
              "4 J          19.157852    TRUE  E1      \n",
              "5 V          15.130042    TRUE  E1      \n",
              "6 S          22.123778   FALSE  E1      "
            ],
            "text/latex": "A data.frame: 6 × 4\n\\begin{tabular}{r|llll}\n  & Dia\\_semana & Temperatura & Llueve & Estacion\\\\\n  & <chr> & <dbl> & <lgl> & <chr>\\\\\n\\hline\n\t1 & L &  8.173848 &  TRUE & E1\\\\\n\t2 & M & 37.350644 & FALSE & E1\\\\\n\t3 & W & 32.727149 & FALSE & E1\\\\\n\t4 & J & 19.157852 &  TRUE & E1\\\\\n\t5 & V & 15.130042 &  TRUE & E1\\\\\n\t6 & S & 22.123778 & FALSE & E1\\\\\n\\end{tabular}\n",
            "text/markdown": "\nA data.frame: 6 × 4\n\n| <!--/--> | Dia_semana &lt;chr&gt; | Temperatura &lt;dbl&gt; | Llueve &lt;lgl&gt; | Estacion &lt;chr&gt; |\n|---|---|---|---|---|\n| 1 | L |  8.173848 |  TRUE | E1 |\n| 2 | M | 37.350644 | FALSE | E1 |\n| 3 | W | 32.727149 | FALSE | E1 |\n| 4 | J | 19.157852 |  TRUE | E1 |\n| 5 | V | 15.130042 |  TRUE | E1 |\n| 6 | S | 22.123778 | FALSE | E1 |\n\n",
            "text/html": [
              "<table class=\"dataframe\">\n",
              "<caption>A data.frame: 6 × 4</caption>\n",
              "<thead>\n",
              "\t<tr><th></th><th scope=col>Dia_semana</th><th scope=col>Temperatura</th><th scope=col>Llueve</th><th scope=col>Estacion</th></tr>\n",
              "\t<tr><th></th><th scope=col>&lt;chr&gt;</th><th scope=col>&lt;dbl&gt;</th><th scope=col>&lt;lgl&gt;</th><th scope=col>&lt;chr&gt;</th></tr>\n",
              "</thead>\n",
              "<tbody>\n",
              "\t<tr><th scope=row>1</th><td>L</td><td> 8.173848</td><td> TRUE</td><td>E1</td></tr>\n",
              "\t<tr><th scope=row>2</th><td>M</td><td>37.350644</td><td>FALSE</td><td>E1</td></tr>\n",
              "\t<tr><th scope=row>3</th><td>W</td><td>32.727149</td><td>FALSE</td><td>E1</td></tr>\n",
              "\t<tr><th scope=row>4</th><td>J</td><td>19.157852</td><td> TRUE</td><td>E1</td></tr>\n",
              "\t<tr><th scope=row>5</th><td>V</td><td>15.130042</td><td> TRUE</td><td>E1</td></tr>\n",
              "\t<tr><th scope=row>6</th><td>S</td><td>22.123778</td><td>FALSE</td><td>E1</td></tr>\n",
              "</tbody>\n",
              "</table>\n"
            ]
          },
          "metadata": {
            "tags": []
          }
        }
      ]
    },
    {
      "cell_type": "code",
      "metadata": {
        "id": "7-2ZG4D2HGsz",
        "outputId": "65700099-da35-42fd-af48-60ae28965a02",
        "colab": {
          "base_uri": "https://localhost:8080/",
          "height": 145
        }
      },
      "source": [
        "summary(precipitaciones)"
      ],
      "execution_count": 33,
      "outputs": [
        {
          "output_type": "display_data",
          "data": {
            "text/plain": [
              "  Dia_semana         Temperatura        Llueve          Estacion        \n",
              " Length:100         Min.   :-0.2982   Mode :logical   Length:100        \n",
              " Class :character   1st Qu.:15.3396   FALSE:50        Class :character  \n",
              " Mode  :character   Median :19.8782   TRUE :50        Mode  :character  \n",
              "                    Mean   :20.2018                                     \n",
              "                    3rd Qu.:25.5823                                     \n",
              "                    Max.   :39.9413                                     "
            ]
          },
          "metadata": {
            "tags": []
          }
        }
      ]
    },
    {
      "cell_type": "code",
      "metadata": {
        "trusted": true,
        "id": "5kjmwaOUm5aA",
        "outputId": "7421e07d-9a84-439d-c58b-ed844a8696ce",
        "colab": {
          "base_uri": "https://localhost:8080/",
          "height": 35
        }
      },
      "source": [
        "# Un poco de exploración --------------------------------\n",
        "# ¿Cuál es la temperatura promedio cuando llovió?\n",
        "# Primero, ubicamos los registros donde llovió\n",
        "#mean(precipitaciones$Temperatura[precipitaciones$Llueve])\n",
        "\n",
        "#precipitaciones$Temperatura# es el vector con los registros de la columna Temperatura del dataframe\n",
        "mean(precipitaciones$Temperatura[precipitaciones$Llueve == TRUE])\n",
        "\n",
        "\n",
        "\n"
      ],
      "execution_count": 38,
      "outputs": [
        {
          "output_type": "display_data",
          "data": {
            "text/plain": [
              "[1] 13.93752"
            ],
            "text/latex": "13.9375162555478",
            "text/markdown": "13.9375162555478",
            "text/html": [
              "13.9375162555478"
            ]
          },
          "metadata": {
            "tags": []
          }
        }
      ]
    },
    {
      "cell_type": "code",
      "metadata": {
        "id": "hEhMx8dLIz0I",
        "outputId": "ce53350e-0719-4263-e971-0d8b7daa6b2e",
        "colab": {
          "base_uri": "https://localhost:8080/",
          "height": 35
        }
      },
      "source": [
        "# Otra posible alternativa\n",
        "mean(precipitaciones[precipitaciones$Llueve == TRUE,\"Temperatura\"])"
      ],
      "execution_count": 41,
      "outputs": [
        {
          "output_type": "display_data",
          "data": {
            "text/plain": [
              "[1] 13.93752"
            ],
            "text/latex": "13.9375162555478",
            "text/markdown": "13.9375162555478",
            "text/html": [
              "13.9375162555478"
            ]
          },
          "metadata": {
            "tags": []
          }
        }
      ]
    },
    {
      "cell_type": "code",
      "metadata": {
        "id": "pvZLR80yI0Ot",
        "outputId": "c99e58f8-5110-40dc-e49d-259affd9dbdc",
        "colab": {
          "base_uri": "https://localhost:8080/",
          "height": 69
        }
      },
      "source": [
        "# ¿Cuál es la temperatura promedio cuando NO llovió?\n",
        "mean(precipitaciones$Temperatura[precipitaciones$Llueve == FALSE])\n",
        "mean(precipitaciones$Temperatura[!precipitaciones$Llueve])\n",
        "\n",
        "# Lo mismo pero sólo de los registros de E1\n",
        "mean(precipitaciones$Temperatura[precipitaciones$Llueve == FALSE & precipitaciones$Estacion == \"E1\"])# Consultamos las temperaturas de la estación E1  y cuando no llovió."
      ],
      "execution_count": 45,
      "outputs": [
        {
          "output_type": "display_data",
          "data": {
            "text/plain": [
              "[1] 26.46612"
            ],
            "text/latex": "26.4661200073065",
            "text/markdown": "26.4661200073065",
            "text/html": [
              "26.4661200073065"
            ]
          },
          "metadata": {
            "tags": []
          }
        },
        {
          "output_type": "display_data",
          "data": {
            "text/plain": [
              "[1] 26.46612"
            ],
            "text/latex": "26.4661200073065",
            "text/markdown": "26.4661200073065",
            "text/html": [
              "26.4661200073065"
            ]
          },
          "metadata": {
            "tags": []
          }
        },
        {
          "output_type": "display_data",
          "data": {
            "text/plain": [
              "[1] 25.65695"
            ],
            "text/latex": "25.6569535022101",
            "text/markdown": "25.6569535022101",
            "text/html": [
              "25.6569535022101"
            ]
          },
          "metadata": {
            "tags": []
          }
        }
      ]
    },
    {
      "cell_type": "code",
      "metadata": {
        "id": "CiEM042IJUWZ",
        "outputId": "5977a908-d7ed-4c01-a919-4baffced3891",
        "colab": {
          "base_uri": "https://localhost:8080/",
          "height": 52
        }
      },
      "source": [
        "# Recordar:\n",
        "c(T,T,F)\n",
        "!c(T,T,F)"
      ],
      "execution_count": 43,
      "outputs": [
        {
          "output_type": "display_data",
          "data": {
            "text/plain": [
              "[1]  TRUE  TRUE FALSE"
            ],
            "text/latex": "\\begin{enumerate*}\n\\item TRUE\n\\item TRUE\n\\item FALSE\n\\end{enumerate*}\n",
            "text/markdown": "1. TRUE\n2. TRUE\n3. FALSE\n\n\n",
            "text/html": [
              "<style>\n",
              ".list-inline {list-style: none; margin:0; padding: 0}\n",
              ".list-inline>li {display: inline-block}\n",
              ".list-inline>li:not(:last-child)::after {content: \"\\00b7\"; padding: 0 .5ex}\n",
              "</style>\n",
              "<ol class=list-inline><li>TRUE</li><li>TRUE</li><li>FALSE</li></ol>\n"
            ]
          },
          "metadata": {
            "tags": []
          }
        },
        {
          "output_type": "display_data",
          "data": {
            "text/plain": [
              "[1] FALSE FALSE  TRUE"
            ],
            "text/latex": "\\begin{enumerate*}\n\\item FALSE\n\\item FALSE\n\\item TRUE\n\\end{enumerate*}\n",
            "text/markdown": "1. FALSE\n2. FALSE\n3. TRUE\n\n\n",
            "text/html": [
              "<style>\n",
              ".list-inline {list-style: none; margin:0; padding: 0}\n",
              ".list-inline>li {display: inline-block}\n",
              ".list-inline>li:not(:last-child)::after {content: \"\\00b7\"; padding: 0 .5ex}\n",
              "</style>\n",
              "<ol class=list-inline><li>FALSE</li><li>FALSE</li><li>TRUE</li></ol>\n"
            ]
          },
          "metadata": {
            "tags": []
          }
        }
      ]
    },
    {
      "cell_type": "code",
      "metadata": {
        "trusted": true,
        "id": "TJuAlpPxm5aC",
        "outputId": "44d6a0f4-780a-41de-f075-c39b6411607c",
        "colab": {
          "base_uri": "https://localhost:8080/",
          "height": 198
        }
      },
      "source": [
        "# ¿Qué día era cuando se alcanzó la mínima temperatura?¿y la ,máxima?\n",
        "#La función which.min #o .max . retorna la posición donde se alcanza el min/max de un vector.\n",
        "\n",
        "# opcion 1\n",
        "which.min(precipitaciones$Temperatura)\n",
        "\n",
        "precipitaciones[which.min(precipitaciones$Temperatura),] # El registro (completo) de la tabla,  dode la temperatura fue mínima.\n",
        "# El día con menor temp, fue un Jueves.\n",
        "precipitaciones[which.min(precipitaciones$Temperatura),\"Dia_semana\"]# Era un jueves\n",
        "# opcion 2\n",
        "precipitaciones$Dia_semana[which.min(precipitaciones$Temperatura)]\n",
        "# opción 3\n",
        "precipitaciones$Dia_semana[precipitaciones$Temperatura == min(precipitaciones$Temperatura)]# Si hay más de un mínimo, podríamos traer más de un día."
      ],
      "execution_count": 52,
      "outputs": [
        {
          "output_type": "display_data",
          "data": {
            "text/plain": [
              "[1] 11"
            ],
            "text/latex": "11",
            "text/markdown": "11",
            "text/html": [
              "11"
            ]
          },
          "metadata": {
            "tags": []
          }
        },
        {
          "output_type": "display_data",
          "data": {
            "text/plain": [
              "   Dia_semana Temperatura Llueve Estacion\n",
              "11 J          -0.2981734  TRUE   E1      "
            ],
            "text/latex": "A data.frame: 1 × 4\n\\begin{tabular}{r|llll}\n  & Dia\\_semana & Temperatura & Llueve & Estacion\\\\\n  & <chr> & <dbl> & <lgl> & <chr>\\\\\n\\hline\n\t11 & J & -0.2981734 & TRUE & E1\\\\\n\\end{tabular}\n",
            "text/markdown": "\nA data.frame: 1 × 4\n\n| <!--/--> | Dia_semana &lt;chr&gt; | Temperatura &lt;dbl&gt; | Llueve &lt;lgl&gt; | Estacion &lt;chr&gt; |\n|---|---|---|---|---|\n| 11 | J | -0.2981734 | TRUE | E1 |\n\n",
            "text/html": [
              "<table class=\"dataframe\">\n",
              "<caption>A data.frame: 1 × 4</caption>\n",
              "<thead>\n",
              "\t<tr><th></th><th scope=col>Dia_semana</th><th scope=col>Temperatura</th><th scope=col>Llueve</th><th scope=col>Estacion</th></tr>\n",
              "\t<tr><th></th><th scope=col>&lt;chr&gt;</th><th scope=col>&lt;dbl&gt;</th><th scope=col>&lt;lgl&gt;</th><th scope=col>&lt;chr&gt;</th></tr>\n",
              "</thead>\n",
              "<tbody>\n",
              "\t<tr><th scope=row>11</th><td>J</td><td>-0.2981734</td><td>TRUE</td><td>E1</td></tr>\n",
              "</tbody>\n",
              "</table>\n"
            ]
          },
          "metadata": {
            "tags": []
          }
        },
        {
          "output_type": "display_data",
          "data": {
            "text/plain": [
              "[1] \"J\""
            ],
            "text/latex": "'J'",
            "text/markdown": "'J'",
            "text/html": [
              "'J'"
            ]
          },
          "metadata": {
            "tags": []
          }
        },
        {
          "output_type": "display_data",
          "data": {
            "text/plain": [
              "[1] \"J\""
            ],
            "text/latex": "'J'",
            "text/markdown": "'J'",
            "text/html": [
              "'J'"
            ]
          },
          "metadata": {
            "tags": []
          }
        },
        {
          "output_type": "display_data",
          "data": {
            "text/plain": [
              "[1] \"J\""
            ],
            "text/latex": "'J'",
            "text/markdown": "'J'",
            "text/html": [
              "'J'"
            ]
          },
          "metadata": {
            "tags": []
          }
        }
      ]
    },
    {
      "cell_type": "code",
      "metadata": {
        "trusted": true,
        "id": "K9Qv9n_nm5aJ",
        "outputId": "84f90f25-5417-45ea-99b7-256cd2911d70",
        "colab": {
          "base_uri": "https://localhost:8080/",
          "height": 1000
        }
      },
      "source": [
        "# Se sabe que la Estación E3 falla todos los días domingo, por lo que se quiere eliminar tales registros de la tabla. Elimínelos!\n",
        "# Primero, podemos ubicar los registros de la estación E3 y día domingo para luego determinar el complemento de ellos (negando la proposición).\n",
        "precipitaciones[!((precipitaciones$Estacion == \"E3\") & (precipitaciones$Dia_semana == \"D\")),]\n",
        "\n",
        "# NOTA: Recordar que no hemos re-definido el dataframe \"precipitaciones\", por lo que sigue teniendo los registros originales. Podemos reasignarlo para considerar sólo los casos que queremos."
      ],
      "execution_count": 54,
      "outputs": [
        {
          "output_type": "display_data",
          "data": {
            "text/plain": [
              "    Dia_semana Temperatura Llueve Estacion\n",
              "1   L           8.1738480   TRUE  E1      \n",
              "2   M          37.3506437  FALSE  E1      \n",
              "3   W          32.7271493  FALSE  E1      \n",
              "4   J          19.1578523   TRUE  E1      \n",
              "5   V          15.1300422   TRUE  E1      \n",
              "6   S          22.1237777  FALSE  E1      \n",
              "7   D          10.7667577   TRUE  E1      \n",
              "8   L          16.7129989   TRUE  E1      \n",
              "9   M          20.7403160  FALSE  E1      \n",
              "10  W          14.6455820   TRUE  E1      \n",
              "11  J          -0.2981734   TRUE  E1      \n",
              "12  V          16.7271368   TRUE  E1      \n",
              "13  S          20.6331619  FALSE  E1      \n",
              "14  D          12.7571772   TRUE  E1      \n",
              "15  L          25.5239864  FALSE  E1      \n",
              "16  M          12.1345214   TRUE  E1      \n",
              "17  W          25.7572378  FALSE  E1      \n",
              "18  J          17.5984501   TRUE  E1      \n",
              "19  V          24.7945560  FALSE  E1      \n",
              "20  S          15.9003467   TRUE  E1      \n",
              "21  D          15.4093993   TRUE  E1      \n",
              "22  L          30.5259708  FALSE  E1      \n",
              "23  M          30.1067306  FALSE  E1      \n",
              "24  W          20.0268045  FALSE  E1      \n",
              "25  J          17.9485554   TRUE  E1      \n",
              "26  V          24.2013167  FALSE  E1      \n",
              "27  S          15.0326152   TRUE  E1      \n",
              "28  D          30.3674857  FALSE  E1      \n",
              "29  L          23.0021185  FALSE  E1      \n",
              "30  M          15.9226406   TRUE  E1      \n",
              "⋮   ⋮          ⋮           ⋮      ⋮       \n",
              "66  W          10.939266    TRUE  E2      \n",
              "67  J          33.124501   FALSE  E3      \n",
              "68  V          27.646440   FALSE  E3      \n",
              "69  S          39.941351   FALSE  E3      \n",
              "71  L          19.638204    TRUE  E3      \n",
              "72  M          21.609638   FALSE  E3      \n",
              "73  W          25.857626   FALSE  E3      \n",
              "74  J          12.476245    TRUE  E3      \n",
              "75  V          26.578244   FALSE  E3      \n",
              "76  S          13.389528    TRUE  E3      \n",
              "78  L          18.402565    TRUE  E3      \n",
              "79  M           2.280088    TRUE  E3      \n",
              "80  W          34.400874   FALSE  E3      \n",
              "81  J          31.369631   FALSE  E3      \n",
              "82  V          21.113531   FALSE  E3      \n",
              "83  S          11.905270    TRUE  E3      \n",
              "85  L          31.459670   FALSE  E3      \n",
              "86  M          19.527236    TRUE  E3      \n",
              "87  W          16.594308    TRUE  E3      \n",
              "88  J          19.263368    TRUE  E3      \n",
              "89  V          17.091993    TRUE  E3      \n",
              "90  S           4.368705    TRUE  E3      \n",
              "92  L          17.986372    TRUE  E3      \n",
              "93  M          17.098178    TRUE  E3      \n",
              "94  W          11.165550    TRUE  E3      \n",
              "95  J          24.839171   FALSE  E3      \n",
              "96  V          17.440204    TRUE  E3      \n",
              "97  S          12.774756    TRUE  E3      \n",
              "99  L          27.923728   FALSE  E3      \n",
              "100 M          24.448657   FALSE  E3      "
            ],
            "text/latex": "A data.frame: 95 × 4\n\\begin{tabular}{r|llll}\n  & Dia\\_semana & Temperatura & Llueve & Estacion\\\\\n  & <chr> & <dbl> & <lgl> & <chr>\\\\\n\\hline\n\t1 & L &  8.1738480 &  TRUE & E1\\\\\n\t2 & M & 37.3506437 & FALSE & E1\\\\\n\t3 & W & 32.7271493 & FALSE & E1\\\\\n\t4 & J & 19.1578523 &  TRUE & E1\\\\\n\t5 & V & 15.1300422 &  TRUE & E1\\\\\n\t6 & S & 22.1237777 & FALSE & E1\\\\\n\t7 & D & 10.7667577 &  TRUE & E1\\\\\n\t8 & L & 16.7129989 &  TRUE & E1\\\\\n\t9 & M & 20.7403160 & FALSE & E1\\\\\n\t10 & W & 14.6455820 &  TRUE & E1\\\\\n\t11 & J & -0.2981734 &  TRUE & E1\\\\\n\t12 & V & 16.7271368 &  TRUE & E1\\\\\n\t13 & S & 20.6331619 & FALSE & E1\\\\\n\t14 & D & 12.7571772 &  TRUE & E1\\\\\n\t15 & L & 25.5239864 & FALSE & E1\\\\\n\t16 & M & 12.1345214 &  TRUE & E1\\\\\n\t17 & W & 25.7572378 & FALSE & E1\\\\\n\t18 & J & 17.5984501 &  TRUE & E1\\\\\n\t19 & V & 24.7945560 & FALSE & E1\\\\\n\t20 & S & 15.9003467 &  TRUE & E1\\\\\n\t21 & D & 15.4093993 &  TRUE & E1\\\\\n\t22 & L & 30.5259708 & FALSE & E1\\\\\n\t23 & M & 30.1067306 & FALSE & E1\\\\\n\t24 & W & 20.0268045 & FALSE & E1\\\\\n\t25 & J & 17.9485554 &  TRUE & E1\\\\\n\t26 & V & 24.2013167 & FALSE & E1\\\\\n\t27 & S & 15.0326152 &  TRUE & E1\\\\\n\t28 & D & 30.3674857 & FALSE & E1\\\\\n\t29 & L & 23.0021185 & FALSE & E1\\\\\n\t30 & M & 15.9226406 &  TRUE & E1\\\\\n\t⋮ & ⋮ & ⋮ & ⋮ & ⋮\\\\\n\t66 & W & 10.939266 &  TRUE & E2\\\\\n\t67 & J & 33.124501 & FALSE & E3\\\\\n\t68 & V & 27.646440 & FALSE & E3\\\\\n\t69 & S & 39.941351 & FALSE & E3\\\\\n\t71 & L & 19.638204 &  TRUE & E3\\\\\n\t72 & M & 21.609638 & FALSE & E3\\\\\n\t73 & W & 25.857626 & FALSE & E3\\\\\n\t74 & J & 12.476245 &  TRUE & E3\\\\\n\t75 & V & 26.578244 & FALSE & E3\\\\\n\t76 & S & 13.389528 &  TRUE & E3\\\\\n\t78 & L & 18.402565 &  TRUE & E3\\\\\n\t79 & M &  2.280088 &  TRUE & E3\\\\\n\t80 & W & 34.400874 & FALSE & E3\\\\\n\t81 & J & 31.369631 & FALSE & E3\\\\\n\t82 & V & 21.113531 & FALSE & E3\\\\\n\t83 & S & 11.905270 &  TRUE & E3\\\\\n\t85 & L & 31.459670 & FALSE & E3\\\\\n\t86 & M & 19.527236 &  TRUE & E3\\\\\n\t87 & W & 16.594308 &  TRUE & E3\\\\\n\t88 & J & 19.263368 &  TRUE & E3\\\\\n\t89 & V & 17.091993 &  TRUE & E3\\\\\n\t90 & S &  4.368705 &  TRUE & E3\\\\\n\t92 & L & 17.986372 &  TRUE & E3\\\\\n\t93 & M & 17.098178 &  TRUE & E3\\\\\n\t94 & W & 11.165550 &  TRUE & E3\\\\\n\t95 & J & 24.839171 & FALSE & E3\\\\\n\t96 & V & 17.440204 &  TRUE & E3\\\\\n\t97 & S & 12.774756 &  TRUE & E3\\\\\n\t99 & L & 27.923728 & FALSE & E3\\\\\n\t100 & M & 24.448657 & FALSE & E3\\\\\n\\end{tabular}\n",
            "text/markdown": "\nA data.frame: 95 × 4\n\n| <!--/--> | Dia_semana &lt;chr&gt; | Temperatura &lt;dbl&gt; | Llueve &lt;lgl&gt; | Estacion &lt;chr&gt; |\n|---|---|---|---|---|\n| 1 | L |  8.1738480 |  TRUE | E1 |\n| 2 | M | 37.3506437 | FALSE | E1 |\n| 3 | W | 32.7271493 | FALSE | E1 |\n| 4 | J | 19.1578523 |  TRUE | E1 |\n| 5 | V | 15.1300422 |  TRUE | E1 |\n| 6 | S | 22.1237777 | FALSE | E1 |\n| 7 | D | 10.7667577 |  TRUE | E1 |\n| 8 | L | 16.7129989 |  TRUE | E1 |\n| 9 | M | 20.7403160 | FALSE | E1 |\n| 10 | W | 14.6455820 |  TRUE | E1 |\n| 11 | J | -0.2981734 |  TRUE | E1 |\n| 12 | V | 16.7271368 |  TRUE | E1 |\n| 13 | S | 20.6331619 | FALSE | E1 |\n| 14 | D | 12.7571772 |  TRUE | E1 |\n| 15 | L | 25.5239864 | FALSE | E1 |\n| 16 | M | 12.1345214 |  TRUE | E1 |\n| 17 | W | 25.7572378 | FALSE | E1 |\n| 18 | J | 17.5984501 |  TRUE | E1 |\n| 19 | V | 24.7945560 | FALSE | E1 |\n| 20 | S | 15.9003467 |  TRUE | E1 |\n| 21 | D | 15.4093993 |  TRUE | E1 |\n| 22 | L | 30.5259708 | FALSE | E1 |\n| 23 | M | 30.1067306 | FALSE | E1 |\n| 24 | W | 20.0268045 | FALSE | E1 |\n| 25 | J | 17.9485554 |  TRUE | E1 |\n| 26 | V | 24.2013167 | FALSE | E1 |\n| 27 | S | 15.0326152 |  TRUE | E1 |\n| 28 | D | 30.3674857 | FALSE | E1 |\n| 29 | L | 23.0021185 | FALSE | E1 |\n| 30 | M | 15.9226406 |  TRUE | E1 |\n| ⋮ | ⋮ | ⋮ | ⋮ | ⋮ |\n| 66 | W | 10.939266 |  TRUE | E2 |\n| 67 | J | 33.124501 | FALSE | E3 |\n| 68 | V | 27.646440 | FALSE | E3 |\n| 69 | S | 39.941351 | FALSE | E3 |\n| 71 | L | 19.638204 |  TRUE | E3 |\n| 72 | M | 21.609638 | FALSE | E3 |\n| 73 | W | 25.857626 | FALSE | E3 |\n| 74 | J | 12.476245 |  TRUE | E3 |\n| 75 | V | 26.578244 | FALSE | E3 |\n| 76 | S | 13.389528 |  TRUE | E3 |\n| 78 | L | 18.402565 |  TRUE | E3 |\n| 79 | M |  2.280088 |  TRUE | E3 |\n| 80 | W | 34.400874 | FALSE | E3 |\n| 81 | J | 31.369631 | FALSE | E3 |\n| 82 | V | 21.113531 | FALSE | E3 |\n| 83 | S | 11.905270 |  TRUE | E3 |\n| 85 | L | 31.459670 | FALSE | E3 |\n| 86 | M | 19.527236 |  TRUE | E3 |\n| 87 | W | 16.594308 |  TRUE | E3 |\n| 88 | J | 19.263368 |  TRUE | E3 |\n| 89 | V | 17.091993 |  TRUE | E3 |\n| 90 | S |  4.368705 |  TRUE | E3 |\n| 92 | L | 17.986372 |  TRUE | E3 |\n| 93 | M | 17.098178 |  TRUE | E3 |\n| 94 | W | 11.165550 |  TRUE | E3 |\n| 95 | J | 24.839171 | FALSE | E3 |\n| 96 | V | 17.440204 |  TRUE | E3 |\n| 97 | S | 12.774756 |  TRUE | E3 |\n| 99 | L | 27.923728 | FALSE | E3 |\n| 100 | M | 24.448657 | FALSE | E3 |\n\n",
            "text/html": [
              "<table class=\"dataframe\">\n",
              "<caption>A data.frame: 95 × 4</caption>\n",
              "<thead>\n",
              "\t<tr><th></th><th scope=col>Dia_semana</th><th scope=col>Temperatura</th><th scope=col>Llueve</th><th scope=col>Estacion</th></tr>\n",
              "\t<tr><th></th><th scope=col>&lt;chr&gt;</th><th scope=col>&lt;dbl&gt;</th><th scope=col>&lt;lgl&gt;</th><th scope=col>&lt;chr&gt;</th></tr>\n",
              "</thead>\n",
              "<tbody>\n",
              "\t<tr><th scope=row>1</th><td>L</td><td> 8.1738480</td><td> TRUE</td><td>E1</td></tr>\n",
              "\t<tr><th scope=row>2</th><td>M</td><td>37.3506437</td><td>FALSE</td><td>E1</td></tr>\n",
              "\t<tr><th scope=row>3</th><td>W</td><td>32.7271493</td><td>FALSE</td><td>E1</td></tr>\n",
              "\t<tr><th scope=row>4</th><td>J</td><td>19.1578523</td><td> TRUE</td><td>E1</td></tr>\n",
              "\t<tr><th scope=row>5</th><td>V</td><td>15.1300422</td><td> TRUE</td><td>E1</td></tr>\n",
              "\t<tr><th scope=row>6</th><td>S</td><td>22.1237777</td><td>FALSE</td><td>E1</td></tr>\n",
              "\t<tr><th scope=row>7</th><td>D</td><td>10.7667577</td><td> TRUE</td><td>E1</td></tr>\n",
              "\t<tr><th scope=row>8</th><td>L</td><td>16.7129989</td><td> TRUE</td><td>E1</td></tr>\n",
              "\t<tr><th scope=row>9</th><td>M</td><td>20.7403160</td><td>FALSE</td><td>E1</td></tr>\n",
              "\t<tr><th scope=row>10</th><td>W</td><td>14.6455820</td><td> TRUE</td><td>E1</td></tr>\n",
              "\t<tr><th scope=row>11</th><td>J</td><td>-0.2981734</td><td> TRUE</td><td>E1</td></tr>\n",
              "\t<tr><th scope=row>12</th><td>V</td><td>16.7271368</td><td> TRUE</td><td>E1</td></tr>\n",
              "\t<tr><th scope=row>13</th><td>S</td><td>20.6331619</td><td>FALSE</td><td>E1</td></tr>\n",
              "\t<tr><th scope=row>14</th><td>D</td><td>12.7571772</td><td> TRUE</td><td>E1</td></tr>\n",
              "\t<tr><th scope=row>15</th><td>L</td><td>25.5239864</td><td>FALSE</td><td>E1</td></tr>\n",
              "\t<tr><th scope=row>16</th><td>M</td><td>12.1345214</td><td> TRUE</td><td>E1</td></tr>\n",
              "\t<tr><th scope=row>17</th><td>W</td><td>25.7572378</td><td>FALSE</td><td>E1</td></tr>\n",
              "\t<tr><th scope=row>18</th><td>J</td><td>17.5984501</td><td> TRUE</td><td>E1</td></tr>\n",
              "\t<tr><th scope=row>19</th><td>V</td><td>24.7945560</td><td>FALSE</td><td>E1</td></tr>\n",
              "\t<tr><th scope=row>20</th><td>S</td><td>15.9003467</td><td> TRUE</td><td>E1</td></tr>\n",
              "\t<tr><th scope=row>21</th><td>D</td><td>15.4093993</td><td> TRUE</td><td>E1</td></tr>\n",
              "\t<tr><th scope=row>22</th><td>L</td><td>30.5259708</td><td>FALSE</td><td>E1</td></tr>\n",
              "\t<tr><th scope=row>23</th><td>M</td><td>30.1067306</td><td>FALSE</td><td>E1</td></tr>\n",
              "\t<tr><th scope=row>24</th><td>W</td><td>20.0268045</td><td>FALSE</td><td>E1</td></tr>\n",
              "\t<tr><th scope=row>25</th><td>J</td><td>17.9485554</td><td> TRUE</td><td>E1</td></tr>\n",
              "\t<tr><th scope=row>26</th><td>V</td><td>24.2013167</td><td>FALSE</td><td>E1</td></tr>\n",
              "\t<tr><th scope=row>27</th><td>S</td><td>15.0326152</td><td> TRUE</td><td>E1</td></tr>\n",
              "\t<tr><th scope=row>28</th><td>D</td><td>30.3674857</td><td>FALSE</td><td>E1</td></tr>\n",
              "\t<tr><th scope=row>29</th><td>L</td><td>23.0021185</td><td>FALSE</td><td>E1</td></tr>\n",
              "\t<tr><th scope=row>30</th><td>M</td><td>15.9226406</td><td> TRUE</td><td>E1</td></tr>\n",
              "\t<tr><th scope=row>⋮</th><td>⋮</td><td>⋮</td><td>⋮</td><td>⋮</td></tr>\n",
              "\t<tr><th scope=row>66</th><td>W</td><td>10.939266</td><td> TRUE</td><td>E2</td></tr>\n",
              "\t<tr><th scope=row>67</th><td>J</td><td>33.124501</td><td>FALSE</td><td>E3</td></tr>\n",
              "\t<tr><th scope=row>68</th><td>V</td><td>27.646440</td><td>FALSE</td><td>E3</td></tr>\n",
              "\t<tr><th scope=row>69</th><td>S</td><td>39.941351</td><td>FALSE</td><td>E3</td></tr>\n",
              "\t<tr><th scope=row>71</th><td>L</td><td>19.638204</td><td> TRUE</td><td>E3</td></tr>\n",
              "\t<tr><th scope=row>72</th><td>M</td><td>21.609638</td><td>FALSE</td><td>E3</td></tr>\n",
              "\t<tr><th scope=row>73</th><td>W</td><td>25.857626</td><td>FALSE</td><td>E3</td></tr>\n",
              "\t<tr><th scope=row>74</th><td>J</td><td>12.476245</td><td> TRUE</td><td>E3</td></tr>\n",
              "\t<tr><th scope=row>75</th><td>V</td><td>26.578244</td><td>FALSE</td><td>E3</td></tr>\n",
              "\t<tr><th scope=row>76</th><td>S</td><td>13.389528</td><td> TRUE</td><td>E3</td></tr>\n",
              "\t<tr><th scope=row>78</th><td>L</td><td>18.402565</td><td> TRUE</td><td>E3</td></tr>\n",
              "\t<tr><th scope=row>79</th><td>M</td><td> 2.280088</td><td> TRUE</td><td>E3</td></tr>\n",
              "\t<tr><th scope=row>80</th><td>W</td><td>34.400874</td><td>FALSE</td><td>E3</td></tr>\n",
              "\t<tr><th scope=row>81</th><td>J</td><td>31.369631</td><td>FALSE</td><td>E3</td></tr>\n",
              "\t<tr><th scope=row>82</th><td>V</td><td>21.113531</td><td>FALSE</td><td>E3</td></tr>\n",
              "\t<tr><th scope=row>83</th><td>S</td><td>11.905270</td><td> TRUE</td><td>E3</td></tr>\n",
              "\t<tr><th scope=row>85</th><td>L</td><td>31.459670</td><td>FALSE</td><td>E3</td></tr>\n",
              "\t<tr><th scope=row>86</th><td>M</td><td>19.527236</td><td> TRUE</td><td>E3</td></tr>\n",
              "\t<tr><th scope=row>87</th><td>W</td><td>16.594308</td><td> TRUE</td><td>E3</td></tr>\n",
              "\t<tr><th scope=row>88</th><td>J</td><td>19.263368</td><td> TRUE</td><td>E3</td></tr>\n",
              "\t<tr><th scope=row>89</th><td>V</td><td>17.091993</td><td> TRUE</td><td>E3</td></tr>\n",
              "\t<tr><th scope=row>90</th><td>S</td><td> 4.368705</td><td> TRUE</td><td>E3</td></tr>\n",
              "\t<tr><th scope=row>92</th><td>L</td><td>17.986372</td><td> TRUE</td><td>E3</td></tr>\n",
              "\t<tr><th scope=row>93</th><td>M</td><td>17.098178</td><td> TRUE</td><td>E3</td></tr>\n",
              "\t<tr><th scope=row>94</th><td>W</td><td>11.165550</td><td> TRUE</td><td>E3</td></tr>\n",
              "\t<tr><th scope=row>95</th><td>J</td><td>24.839171</td><td>FALSE</td><td>E3</td></tr>\n",
              "\t<tr><th scope=row>96</th><td>V</td><td>17.440204</td><td> TRUE</td><td>E3</td></tr>\n",
              "\t<tr><th scope=row>97</th><td>S</td><td>12.774756</td><td> TRUE</td><td>E3</td></tr>\n",
              "\t<tr><th scope=row>99</th><td>L</td><td>27.923728</td><td>FALSE</td><td>E3</td></tr>\n",
              "\t<tr><th scope=row>100</th><td>M</td><td>24.448657</td><td>FALSE</td><td>E3</td></tr>\n",
              "</tbody>\n",
              "</table>\n"
            ]
          },
          "metadata": {
            "tags": []
          }
        }
      ]
    },
    {
      "cell_type": "code",
      "metadata": {
        "id": "-eJwX6FmNVeN",
        "outputId": "6a8e384d-c711-4615-9153-f983acabf36e",
        "colab": {
          "base_uri": "https://localhost:8080/",
          "height": 35
        }
      },
      "source": [
        "dim(precipitaciones)"
      ],
      "execution_count": 55,
      "outputs": [
        {
          "output_type": "display_data",
          "data": {
            "text/plain": [
              "[1] 100   4"
            ],
            "text/latex": "\\begin{enumerate*}\n\\item 100\n\\item 4\n\\end{enumerate*}\n",
            "text/markdown": "1. 100\n2. 4\n\n\n",
            "text/html": [
              "<style>\n",
              ".list-inline {list-style: none; margin:0; padding: 0}\n",
              ".list-inline>li {display: inline-block}\n",
              ".list-inline>li:not(:last-child)::after {content: \"\\00b7\"; padding: 0 .5ex}\n",
              "</style>\n",
              "<ol class=list-inline><li>100</li><li>4</li></ol>\n"
            ]
          },
          "metadata": {
            "tags": []
          }
        }
      ]
    },
    {
      "cell_type": "code",
      "metadata": {
        "id": "1pneT889N0At"
      },
      "source": [
        "precipitaciones <- precipitaciones[!((precipitaciones$Estacion == \"E3\") & (precipitaciones$Dia_semana == \"D\")),]"
      ],
      "execution_count": 56,
      "outputs": []
    },
    {
      "cell_type": "code",
      "metadata": {
        "id": "Rnw2JajyN62S",
        "outputId": "65ce4a0c-4f8d-4c60-bf4b-244ca87d2f9b",
        "colab": {
          "base_uri": "https://localhost:8080/",
          "height": 35
        }
      },
      "source": [
        "dim(precipitaciones)"
      ],
      "execution_count": 57,
      "outputs": [
        {
          "output_type": "display_data",
          "data": {
            "text/plain": [
              "[1] 95  4"
            ],
            "text/latex": "\\begin{enumerate*}\n\\item 95\n\\item 4\n\\end{enumerate*}\n",
            "text/markdown": "1. 95\n2. 4\n\n\n",
            "text/html": [
              "<style>\n",
              ".list-inline {list-style: none; margin:0; padding: 0}\n",
              ".list-inline>li {display: inline-block}\n",
              ".list-inline>li:not(:last-child)::after {content: \"\\00b7\"; padding: 0 .5ex}\n",
              "</style>\n",
              "<ol class=list-inline><li>95</li><li>4</li></ol>\n"
            ]
          },
          "metadata": {
            "tags": []
          }
        }
      ]
    },
    {
      "cell_type": "code",
      "metadata": {
        "trusted": true,
        "id": "WHf5YnPWm5aF",
        "outputId": "9041acd6-6532-4f21-8ef4-5dd011025bed",
        "colab": {
          "base_uri": "https://localhost:8080/",
          "height": 35
        }
      },
      "source": [
        "# NOTA: (no tiene que ver con el ejercicio...)\n",
        "# Una forma de eliminar registros en vector\n",
        "v1 <- c(\"hola\",\"soy\", \"miguel\", \"andré\") \n",
        "v1\n"
      ],
      "execution_count": 59,
      "outputs": [
        {
          "output_type": "display_data",
          "data": {
            "text/plain": [
              "[1] \"hola\"   \"soy\"    \"miguel\" \"andré\" "
            ],
            "text/latex": "\\begin{enumerate*}\n\\item 'hola'\n\\item 'soy'\n\\item 'miguel'\n\\item 'andré'\n\\end{enumerate*}\n",
            "text/markdown": "1. 'hola'\n2. 'soy'\n3. 'miguel'\n4. 'andré'\n\n\n",
            "text/html": [
              "<style>\n",
              ".list-inline {list-style: none; margin:0; padding: 0}\n",
              ".list-inline>li {display: inline-block}\n",
              ".list-inline>li:not(:last-child)::after {content: \"\\00b7\"; padding: 0 .5ex}\n",
              "</style>\n",
              "<ol class=list-inline><li>'hola'</li><li>'soy'</li><li>'miguel'</li><li>'andré'</li></ol>\n"
            ]
          },
          "metadata": {
            "tags": []
          }
        }
      ]
    },
    {
      "cell_type": "code",
      "metadata": {
        "trusted": true,
        "id": "6Vx1ojnAm5aH",
        "outputId": "872172ff-7bf3-4381-ed94-2cfe1968fc60",
        "colab": {
          "base_uri": "https://localhost:8080/",
          "height": 35
        }
      },
      "source": [
        "# POdemos eliminar los registros de posición 2 y 4\n",
        "v1[-c(2,4)] # Anteponiendo uin \"-\" al vector de pposiciones, se rescatan todos salvo los elementos indicados.\n",
        "\n",
        "v1 <- v1[-c(2,4)]\n"
      ],
      "execution_count": 64,
      "outputs": [
        {
          "output_type": "display_data",
          "data": {
            "text/plain": [
              "[1] \"hola\"   \"miguel\""
            ],
            "text/latex": "\\begin{enumerate*}\n\\item 'hola'\n\\item 'miguel'\n\\end{enumerate*}\n",
            "text/markdown": "1. 'hola'\n2. 'miguel'\n\n\n",
            "text/html": [
              "<style>\n",
              ".list-inline {list-style: none; margin:0; padding: 0}\n",
              ".list-inline>li {display: inline-block}\n",
              ".list-inline>li:not(:last-child)::after {content: \"\\00b7\"; padding: 0 .5ex}\n",
              "</style>\n",
              "<ol class=list-inline><li>'hola'</li><li>'miguel'</li></ol>\n"
            ]
          },
          "metadata": {
            "tags": []
          }
        }
      ]
    },
    {
      "cell_type": "code",
      "metadata": {
        "id": "8iVIm5XXOkK0",
        "outputId": "a8f8d736-9673-45f5-ad3f-72f10b82d528",
        "colab": {
          "base_uri": "https://localhost:8080/",
          "height": 35
        }
      },
      "source": [
        "v1"
      ],
      "execution_count": 65,
      "outputs": [
        {
          "output_type": "display_data",
          "data": {
            "text/plain": [
              "[1] \"hola\"   \"miguel\""
            ],
            "text/latex": "\\begin{enumerate*}\n\\item 'hola'\n\\item 'miguel'\n\\end{enumerate*}\n",
            "text/markdown": "1. 'hola'\n2. 'miguel'\n\n\n",
            "text/html": [
              "<style>\n",
              ".list-inline {list-style: none; margin:0; padding: 0}\n",
              ".list-inline>li {display: inline-block}\n",
              ".list-inline>li:not(:last-child)::after {content: \"\\00b7\"; padding: 0 .5ex}\n",
              "</style>\n",
              "<ol class=list-inline><li>'hola'</li><li>'miguel'</li></ol>\n"
            ]
          },
          "metadata": {
            "tags": []
          }
        }
      ]
    },
    {
      "cell_type": "markdown",
      "metadata": {
        "id": "5fmGF0Qam5aN"
      },
      "source": [
        "## 5.4 Cómo guardar ambiente de trabajo o variables definidas en el\n",
        "\n",
        "### Directorio de trabajo\n",
        "\n",
        "El directorio de trabajo corresponde a la ubicación en el sistema de archivos, desde donde la sesión de R podrá acceder directamente para guardar o cargar datos.\n"
      ]
    },
    {
      "cell_type": "code",
      "metadata": {
        "trusted": true,
        "id": "OfyO5MKOm5aO",
        "outputId": "e3550120-ef40-45ce-9fd1-cc9b15f7f894",
        "colab": {
          "base_uri": "https://localhost:8080/",
          "height": 35
        }
      },
      "source": [
        "# para saber en qué directorio se está trabajando\n",
        "getwd()"
      ],
      "execution_count": 66,
      "outputs": [
        {
          "output_type": "display_data",
          "data": {
            "text/plain": [
              "[1] \"/content\""
            ],
            "text/latex": "'/content'",
            "text/markdown": "'/content'",
            "text/html": [
              "'/content'"
            ]
          },
          "metadata": {
            "tags": []
          }
        }
      ]
    },
    {
      "cell_type": "code",
      "metadata": {
        "trusted": true,
        "id": "fHZIjYhRm5aQ"
      },
      "source": [
        "# para cambiar el directorio de trabajo\n",
        "setwd(\"sample_data/nueva_carpeta/\")\n"
      ],
      "execution_count": 67,
      "outputs": []
    },
    {
      "cell_type": "code",
      "metadata": {
        "id": "YcbGLldcPfWT",
        "outputId": "df25c6c1-8f65-4beb-ad78-d023af230418",
        "colab": {
          "base_uri": "https://localhost:8080/",
          "height": 35
        }
      },
      "source": [
        "getwd()"
      ],
      "execution_count": 68,
      "outputs": [
        {
          "output_type": "display_data",
          "data": {
            "text/plain": [
              "[1] \"/content/sample_data/nueva_carpeta\""
            ],
            "text/latex": "'/content/sample\\_data/nueva\\_carpeta'",
            "text/markdown": "'/content/sample_data/nueva_carpeta'",
            "text/html": [
              "'/content/sample_data/nueva_carpeta'"
            ]
          },
          "metadata": {
            "tags": []
          }
        }
      ]
    },
    {
      "cell_type": "markdown",
      "metadata": {
        "id": "_M-D6sgRm5aU"
      },
      "source": [
        "### Formato rds \n",
        "\n",
        "Una manera de guardar variables creadas en el ambiente de la sessión de R, es mediante la utilización del formato *.rds. Este formato permite guardar los objetos declarados y leerlos rápidamente en cualquier otra sesión que se inicie posteriormente. Es últil por ejemplo para guardar en disco modelos entrenados para ser utilizados para predicciones futuras.\n"
      ]
    },
    {
      "cell_type": "code",
      "metadata": {
        "trusted": true,
        "id": "11jJ5B50m5aV"
      },
      "source": [
        "# Función saveRDS() # Guardar\n",
        "# guarde en el directorio actual el dataframe _precipitaciones_\n",
        "saveRDS(precipitaciones,\"data_filtrada.rds\")# se guarda en el deirectorio de trabajo\n",
        "saveRDS(precipitaciones,\"/content/data_filtrada_en_ruta.rds\")"
      ],
      "execution_count": 70,
      "outputs": []
    },
    {
      "cell_type": "code",
      "metadata": {
        "id": "SY9Gfuc3QDAf"
      },
      "source": [
        "rm(list = ls()) # Borramos todo de la sesión"
      ],
      "execution_count": 71,
      "outputs": []
    },
    {
      "cell_type": "code",
      "metadata": {
        "id": "omB0nuznQHLh",
        "outputId": "e8b0312b-8d6c-4803-8114-d62b88a5d89c",
        "colab": {
          "base_uri": "https://localhost:8080/",
          "height": 98
        }
      },
      "source": [
        "precipitaciones"
      ],
      "execution_count": 72,
      "outputs": [
        {
          "output_type": "error",
          "ename": "ERROR",
          "evalue": "ignored",
          "traceback": [
            "Error in eval(expr, envir, enclos): object 'precipitaciones' not found\nTraceback:\n"
          ]
        }
      ]
    },
    {
      "cell_type": "code",
      "metadata": {
        "trusted": true,
        "id": "DixES_Kjm5ah"
      },
      "source": [
        "# readRDS()  Leer, pero ojo que es necesario asignar  a una variable\n",
        "prep <- readRDS(\"/content/data_filtrada_en_ruta.rds\")"
      ],
      "execution_count": 73,
      "outputs": []
    },
    {
      "cell_type": "code",
      "metadata": {
        "id": "ofWbiqgUQRLj",
        "outputId": "b7fdfa39-d5b3-45b9-c948-e6510195d864",
        "colab": {
          "base_uri": "https://localhost:8080/",
          "height": 1000
        }
      },
      "source": [
        "prep"
      ],
      "execution_count": 74,
      "outputs": [
        {
          "output_type": "display_data",
          "data": {
            "text/plain": [
              "    Dia_semana Temperatura Llueve Estacion\n",
              "1   L           8.1738480   TRUE  E1      \n",
              "2   M          37.3506437  FALSE  E1      \n",
              "3   W          32.7271493  FALSE  E1      \n",
              "4   J          19.1578523   TRUE  E1      \n",
              "5   V          15.1300422   TRUE  E1      \n",
              "6   S          22.1237777  FALSE  E1      \n",
              "7   D          10.7667577   TRUE  E1      \n",
              "8   L          16.7129989   TRUE  E1      \n",
              "9   M          20.7403160  FALSE  E1      \n",
              "10  W          14.6455820   TRUE  E1      \n",
              "11  J          -0.2981734   TRUE  E1      \n",
              "12  V          16.7271368   TRUE  E1      \n",
              "13  S          20.6331619  FALSE  E1      \n",
              "14  D          12.7571772   TRUE  E1      \n",
              "15  L          25.5239864  FALSE  E1      \n",
              "16  M          12.1345214   TRUE  E1      \n",
              "17  W          25.7572378  FALSE  E1      \n",
              "18  J          17.5984501   TRUE  E1      \n",
              "19  V          24.7945560  FALSE  E1      \n",
              "20  S          15.9003467   TRUE  E1      \n",
              "21  D          15.4093993   TRUE  E1      \n",
              "22  L          30.5259708  FALSE  E1      \n",
              "23  M          30.1067306  FALSE  E1      \n",
              "24  W          20.0268045  FALSE  E1      \n",
              "25  J          17.9485554   TRUE  E1      \n",
              "26  V          24.2013167  FALSE  E1      \n",
              "27  S          15.0326152   TRUE  E1      \n",
              "28  D          30.3674857  FALSE  E1      \n",
              "29  L          23.0021185  FALSE  E1      \n",
              "30  M          15.9226406   TRUE  E1      \n",
              "⋮   ⋮          ⋮           ⋮      ⋮       \n",
              "66  W          10.939266    TRUE  E2      \n",
              "67  J          33.124501   FALSE  E3      \n",
              "68  V          27.646440   FALSE  E3      \n",
              "69  S          39.941351   FALSE  E3      \n",
              "71  L          19.638204    TRUE  E3      \n",
              "72  M          21.609638   FALSE  E3      \n",
              "73  W          25.857626   FALSE  E3      \n",
              "74  J          12.476245    TRUE  E3      \n",
              "75  V          26.578244   FALSE  E3      \n",
              "76  S          13.389528    TRUE  E3      \n",
              "78  L          18.402565    TRUE  E3      \n",
              "79  M           2.280088    TRUE  E3      \n",
              "80  W          34.400874   FALSE  E3      \n",
              "81  J          31.369631   FALSE  E3      \n",
              "82  V          21.113531   FALSE  E3      \n",
              "83  S          11.905270    TRUE  E3      \n",
              "85  L          31.459670   FALSE  E3      \n",
              "86  M          19.527236    TRUE  E3      \n",
              "87  W          16.594308    TRUE  E3      \n",
              "88  J          19.263368    TRUE  E3      \n",
              "89  V          17.091993    TRUE  E3      \n",
              "90  S           4.368705    TRUE  E3      \n",
              "92  L          17.986372    TRUE  E3      \n",
              "93  M          17.098178    TRUE  E3      \n",
              "94  W          11.165550    TRUE  E3      \n",
              "95  J          24.839171   FALSE  E3      \n",
              "96  V          17.440204    TRUE  E3      \n",
              "97  S          12.774756    TRUE  E3      \n",
              "99  L          27.923728   FALSE  E3      \n",
              "100 M          24.448657   FALSE  E3      "
            ],
            "text/latex": "A data.frame: 95 × 4\n\\begin{tabular}{r|llll}\n  & Dia\\_semana & Temperatura & Llueve & Estacion\\\\\n  & <chr> & <dbl> & <lgl> & <chr>\\\\\n\\hline\n\t1 & L &  8.1738480 &  TRUE & E1\\\\\n\t2 & M & 37.3506437 & FALSE & E1\\\\\n\t3 & W & 32.7271493 & FALSE & E1\\\\\n\t4 & J & 19.1578523 &  TRUE & E1\\\\\n\t5 & V & 15.1300422 &  TRUE & E1\\\\\n\t6 & S & 22.1237777 & FALSE & E1\\\\\n\t7 & D & 10.7667577 &  TRUE & E1\\\\\n\t8 & L & 16.7129989 &  TRUE & E1\\\\\n\t9 & M & 20.7403160 & FALSE & E1\\\\\n\t10 & W & 14.6455820 &  TRUE & E1\\\\\n\t11 & J & -0.2981734 &  TRUE & E1\\\\\n\t12 & V & 16.7271368 &  TRUE & E1\\\\\n\t13 & S & 20.6331619 & FALSE & E1\\\\\n\t14 & D & 12.7571772 &  TRUE & E1\\\\\n\t15 & L & 25.5239864 & FALSE & E1\\\\\n\t16 & M & 12.1345214 &  TRUE & E1\\\\\n\t17 & W & 25.7572378 & FALSE & E1\\\\\n\t18 & J & 17.5984501 &  TRUE & E1\\\\\n\t19 & V & 24.7945560 & FALSE & E1\\\\\n\t20 & S & 15.9003467 &  TRUE & E1\\\\\n\t21 & D & 15.4093993 &  TRUE & E1\\\\\n\t22 & L & 30.5259708 & FALSE & E1\\\\\n\t23 & M & 30.1067306 & FALSE & E1\\\\\n\t24 & W & 20.0268045 & FALSE & E1\\\\\n\t25 & J & 17.9485554 &  TRUE & E1\\\\\n\t26 & V & 24.2013167 & FALSE & E1\\\\\n\t27 & S & 15.0326152 &  TRUE & E1\\\\\n\t28 & D & 30.3674857 & FALSE & E1\\\\\n\t29 & L & 23.0021185 & FALSE & E1\\\\\n\t30 & M & 15.9226406 &  TRUE & E1\\\\\n\t⋮ & ⋮ & ⋮ & ⋮ & ⋮\\\\\n\t66 & W & 10.939266 &  TRUE & E2\\\\\n\t67 & J & 33.124501 & FALSE & E3\\\\\n\t68 & V & 27.646440 & FALSE & E3\\\\\n\t69 & S & 39.941351 & FALSE & E3\\\\\n\t71 & L & 19.638204 &  TRUE & E3\\\\\n\t72 & M & 21.609638 & FALSE & E3\\\\\n\t73 & W & 25.857626 & FALSE & E3\\\\\n\t74 & J & 12.476245 &  TRUE & E3\\\\\n\t75 & V & 26.578244 & FALSE & E3\\\\\n\t76 & S & 13.389528 &  TRUE & E3\\\\\n\t78 & L & 18.402565 &  TRUE & E3\\\\\n\t79 & M &  2.280088 &  TRUE & E3\\\\\n\t80 & W & 34.400874 & FALSE & E3\\\\\n\t81 & J & 31.369631 & FALSE & E3\\\\\n\t82 & V & 21.113531 & FALSE & E3\\\\\n\t83 & S & 11.905270 &  TRUE & E3\\\\\n\t85 & L & 31.459670 & FALSE & E3\\\\\n\t86 & M & 19.527236 &  TRUE & E3\\\\\n\t87 & W & 16.594308 &  TRUE & E3\\\\\n\t88 & J & 19.263368 &  TRUE & E3\\\\\n\t89 & V & 17.091993 &  TRUE & E3\\\\\n\t90 & S &  4.368705 &  TRUE & E3\\\\\n\t92 & L & 17.986372 &  TRUE & E3\\\\\n\t93 & M & 17.098178 &  TRUE & E3\\\\\n\t94 & W & 11.165550 &  TRUE & E3\\\\\n\t95 & J & 24.839171 & FALSE & E3\\\\\n\t96 & V & 17.440204 &  TRUE & E3\\\\\n\t97 & S & 12.774756 &  TRUE & E3\\\\\n\t99 & L & 27.923728 & FALSE & E3\\\\\n\t100 & M & 24.448657 & FALSE & E3\\\\\n\\end{tabular}\n",
            "text/markdown": "\nA data.frame: 95 × 4\n\n| <!--/--> | Dia_semana &lt;chr&gt; | Temperatura &lt;dbl&gt; | Llueve &lt;lgl&gt; | Estacion &lt;chr&gt; |\n|---|---|---|---|---|\n| 1 | L |  8.1738480 |  TRUE | E1 |\n| 2 | M | 37.3506437 | FALSE | E1 |\n| 3 | W | 32.7271493 | FALSE | E1 |\n| 4 | J | 19.1578523 |  TRUE | E1 |\n| 5 | V | 15.1300422 |  TRUE | E1 |\n| 6 | S | 22.1237777 | FALSE | E1 |\n| 7 | D | 10.7667577 |  TRUE | E1 |\n| 8 | L | 16.7129989 |  TRUE | E1 |\n| 9 | M | 20.7403160 | FALSE | E1 |\n| 10 | W | 14.6455820 |  TRUE | E1 |\n| 11 | J | -0.2981734 |  TRUE | E1 |\n| 12 | V | 16.7271368 |  TRUE | E1 |\n| 13 | S | 20.6331619 | FALSE | E1 |\n| 14 | D | 12.7571772 |  TRUE | E1 |\n| 15 | L | 25.5239864 | FALSE | E1 |\n| 16 | M | 12.1345214 |  TRUE | E1 |\n| 17 | W | 25.7572378 | FALSE | E1 |\n| 18 | J | 17.5984501 |  TRUE | E1 |\n| 19 | V | 24.7945560 | FALSE | E1 |\n| 20 | S | 15.9003467 |  TRUE | E1 |\n| 21 | D | 15.4093993 |  TRUE | E1 |\n| 22 | L | 30.5259708 | FALSE | E1 |\n| 23 | M | 30.1067306 | FALSE | E1 |\n| 24 | W | 20.0268045 | FALSE | E1 |\n| 25 | J | 17.9485554 |  TRUE | E1 |\n| 26 | V | 24.2013167 | FALSE | E1 |\n| 27 | S | 15.0326152 |  TRUE | E1 |\n| 28 | D | 30.3674857 | FALSE | E1 |\n| 29 | L | 23.0021185 | FALSE | E1 |\n| 30 | M | 15.9226406 |  TRUE | E1 |\n| ⋮ | ⋮ | ⋮ | ⋮ | ⋮ |\n| 66 | W | 10.939266 |  TRUE | E2 |\n| 67 | J | 33.124501 | FALSE | E3 |\n| 68 | V | 27.646440 | FALSE | E3 |\n| 69 | S | 39.941351 | FALSE | E3 |\n| 71 | L | 19.638204 |  TRUE | E3 |\n| 72 | M | 21.609638 | FALSE | E3 |\n| 73 | W | 25.857626 | FALSE | E3 |\n| 74 | J | 12.476245 |  TRUE | E3 |\n| 75 | V | 26.578244 | FALSE | E3 |\n| 76 | S | 13.389528 |  TRUE | E3 |\n| 78 | L | 18.402565 |  TRUE | E3 |\n| 79 | M |  2.280088 |  TRUE | E3 |\n| 80 | W | 34.400874 | FALSE | E3 |\n| 81 | J | 31.369631 | FALSE | E3 |\n| 82 | V | 21.113531 | FALSE | E3 |\n| 83 | S | 11.905270 |  TRUE | E3 |\n| 85 | L | 31.459670 | FALSE | E3 |\n| 86 | M | 19.527236 |  TRUE | E3 |\n| 87 | W | 16.594308 |  TRUE | E3 |\n| 88 | J | 19.263368 |  TRUE | E3 |\n| 89 | V | 17.091993 |  TRUE | E3 |\n| 90 | S |  4.368705 |  TRUE | E3 |\n| 92 | L | 17.986372 |  TRUE | E3 |\n| 93 | M | 17.098178 |  TRUE | E3 |\n| 94 | W | 11.165550 |  TRUE | E3 |\n| 95 | J | 24.839171 | FALSE | E3 |\n| 96 | V | 17.440204 |  TRUE | E3 |\n| 97 | S | 12.774756 |  TRUE | E3 |\n| 99 | L | 27.923728 | FALSE | E3 |\n| 100 | M | 24.448657 | FALSE | E3 |\n\n",
            "text/html": [
              "<table class=\"dataframe\">\n",
              "<caption>A data.frame: 95 × 4</caption>\n",
              "<thead>\n",
              "\t<tr><th></th><th scope=col>Dia_semana</th><th scope=col>Temperatura</th><th scope=col>Llueve</th><th scope=col>Estacion</th></tr>\n",
              "\t<tr><th></th><th scope=col>&lt;chr&gt;</th><th scope=col>&lt;dbl&gt;</th><th scope=col>&lt;lgl&gt;</th><th scope=col>&lt;chr&gt;</th></tr>\n",
              "</thead>\n",
              "<tbody>\n",
              "\t<tr><th scope=row>1</th><td>L</td><td> 8.1738480</td><td> TRUE</td><td>E1</td></tr>\n",
              "\t<tr><th scope=row>2</th><td>M</td><td>37.3506437</td><td>FALSE</td><td>E1</td></tr>\n",
              "\t<tr><th scope=row>3</th><td>W</td><td>32.7271493</td><td>FALSE</td><td>E1</td></tr>\n",
              "\t<tr><th scope=row>4</th><td>J</td><td>19.1578523</td><td> TRUE</td><td>E1</td></tr>\n",
              "\t<tr><th scope=row>5</th><td>V</td><td>15.1300422</td><td> TRUE</td><td>E1</td></tr>\n",
              "\t<tr><th scope=row>6</th><td>S</td><td>22.1237777</td><td>FALSE</td><td>E1</td></tr>\n",
              "\t<tr><th scope=row>7</th><td>D</td><td>10.7667577</td><td> TRUE</td><td>E1</td></tr>\n",
              "\t<tr><th scope=row>8</th><td>L</td><td>16.7129989</td><td> TRUE</td><td>E1</td></tr>\n",
              "\t<tr><th scope=row>9</th><td>M</td><td>20.7403160</td><td>FALSE</td><td>E1</td></tr>\n",
              "\t<tr><th scope=row>10</th><td>W</td><td>14.6455820</td><td> TRUE</td><td>E1</td></tr>\n",
              "\t<tr><th scope=row>11</th><td>J</td><td>-0.2981734</td><td> TRUE</td><td>E1</td></tr>\n",
              "\t<tr><th scope=row>12</th><td>V</td><td>16.7271368</td><td> TRUE</td><td>E1</td></tr>\n",
              "\t<tr><th scope=row>13</th><td>S</td><td>20.6331619</td><td>FALSE</td><td>E1</td></tr>\n",
              "\t<tr><th scope=row>14</th><td>D</td><td>12.7571772</td><td> TRUE</td><td>E1</td></tr>\n",
              "\t<tr><th scope=row>15</th><td>L</td><td>25.5239864</td><td>FALSE</td><td>E1</td></tr>\n",
              "\t<tr><th scope=row>16</th><td>M</td><td>12.1345214</td><td> TRUE</td><td>E1</td></tr>\n",
              "\t<tr><th scope=row>17</th><td>W</td><td>25.7572378</td><td>FALSE</td><td>E1</td></tr>\n",
              "\t<tr><th scope=row>18</th><td>J</td><td>17.5984501</td><td> TRUE</td><td>E1</td></tr>\n",
              "\t<tr><th scope=row>19</th><td>V</td><td>24.7945560</td><td>FALSE</td><td>E1</td></tr>\n",
              "\t<tr><th scope=row>20</th><td>S</td><td>15.9003467</td><td> TRUE</td><td>E1</td></tr>\n",
              "\t<tr><th scope=row>21</th><td>D</td><td>15.4093993</td><td> TRUE</td><td>E1</td></tr>\n",
              "\t<tr><th scope=row>22</th><td>L</td><td>30.5259708</td><td>FALSE</td><td>E1</td></tr>\n",
              "\t<tr><th scope=row>23</th><td>M</td><td>30.1067306</td><td>FALSE</td><td>E1</td></tr>\n",
              "\t<tr><th scope=row>24</th><td>W</td><td>20.0268045</td><td>FALSE</td><td>E1</td></tr>\n",
              "\t<tr><th scope=row>25</th><td>J</td><td>17.9485554</td><td> TRUE</td><td>E1</td></tr>\n",
              "\t<tr><th scope=row>26</th><td>V</td><td>24.2013167</td><td>FALSE</td><td>E1</td></tr>\n",
              "\t<tr><th scope=row>27</th><td>S</td><td>15.0326152</td><td> TRUE</td><td>E1</td></tr>\n",
              "\t<tr><th scope=row>28</th><td>D</td><td>30.3674857</td><td>FALSE</td><td>E1</td></tr>\n",
              "\t<tr><th scope=row>29</th><td>L</td><td>23.0021185</td><td>FALSE</td><td>E1</td></tr>\n",
              "\t<tr><th scope=row>30</th><td>M</td><td>15.9226406</td><td> TRUE</td><td>E1</td></tr>\n",
              "\t<tr><th scope=row>⋮</th><td>⋮</td><td>⋮</td><td>⋮</td><td>⋮</td></tr>\n",
              "\t<tr><th scope=row>66</th><td>W</td><td>10.939266</td><td> TRUE</td><td>E2</td></tr>\n",
              "\t<tr><th scope=row>67</th><td>J</td><td>33.124501</td><td>FALSE</td><td>E3</td></tr>\n",
              "\t<tr><th scope=row>68</th><td>V</td><td>27.646440</td><td>FALSE</td><td>E3</td></tr>\n",
              "\t<tr><th scope=row>69</th><td>S</td><td>39.941351</td><td>FALSE</td><td>E3</td></tr>\n",
              "\t<tr><th scope=row>71</th><td>L</td><td>19.638204</td><td> TRUE</td><td>E3</td></tr>\n",
              "\t<tr><th scope=row>72</th><td>M</td><td>21.609638</td><td>FALSE</td><td>E3</td></tr>\n",
              "\t<tr><th scope=row>73</th><td>W</td><td>25.857626</td><td>FALSE</td><td>E3</td></tr>\n",
              "\t<tr><th scope=row>74</th><td>J</td><td>12.476245</td><td> TRUE</td><td>E3</td></tr>\n",
              "\t<tr><th scope=row>75</th><td>V</td><td>26.578244</td><td>FALSE</td><td>E3</td></tr>\n",
              "\t<tr><th scope=row>76</th><td>S</td><td>13.389528</td><td> TRUE</td><td>E3</td></tr>\n",
              "\t<tr><th scope=row>78</th><td>L</td><td>18.402565</td><td> TRUE</td><td>E3</td></tr>\n",
              "\t<tr><th scope=row>79</th><td>M</td><td> 2.280088</td><td> TRUE</td><td>E3</td></tr>\n",
              "\t<tr><th scope=row>80</th><td>W</td><td>34.400874</td><td>FALSE</td><td>E3</td></tr>\n",
              "\t<tr><th scope=row>81</th><td>J</td><td>31.369631</td><td>FALSE</td><td>E3</td></tr>\n",
              "\t<tr><th scope=row>82</th><td>V</td><td>21.113531</td><td>FALSE</td><td>E3</td></tr>\n",
              "\t<tr><th scope=row>83</th><td>S</td><td>11.905270</td><td> TRUE</td><td>E3</td></tr>\n",
              "\t<tr><th scope=row>85</th><td>L</td><td>31.459670</td><td>FALSE</td><td>E3</td></tr>\n",
              "\t<tr><th scope=row>86</th><td>M</td><td>19.527236</td><td> TRUE</td><td>E3</td></tr>\n",
              "\t<tr><th scope=row>87</th><td>W</td><td>16.594308</td><td> TRUE</td><td>E3</td></tr>\n",
              "\t<tr><th scope=row>88</th><td>J</td><td>19.263368</td><td> TRUE</td><td>E3</td></tr>\n",
              "\t<tr><th scope=row>89</th><td>V</td><td>17.091993</td><td> TRUE</td><td>E3</td></tr>\n",
              "\t<tr><th scope=row>90</th><td>S</td><td> 4.368705</td><td> TRUE</td><td>E3</td></tr>\n",
              "\t<tr><th scope=row>92</th><td>L</td><td>17.986372</td><td> TRUE</td><td>E3</td></tr>\n",
              "\t<tr><th scope=row>93</th><td>M</td><td>17.098178</td><td> TRUE</td><td>E3</td></tr>\n",
              "\t<tr><th scope=row>94</th><td>W</td><td>11.165550</td><td> TRUE</td><td>E3</td></tr>\n",
              "\t<tr><th scope=row>95</th><td>J</td><td>24.839171</td><td>FALSE</td><td>E3</td></tr>\n",
              "\t<tr><th scope=row>96</th><td>V</td><td>17.440204</td><td> TRUE</td><td>E3</td></tr>\n",
              "\t<tr><th scope=row>97</th><td>S</td><td>12.774756</td><td> TRUE</td><td>E3</td></tr>\n",
              "\t<tr><th scope=row>99</th><td>L</td><td>27.923728</td><td>FALSE</td><td>E3</td></tr>\n",
              "\t<tr><th scope=row>100</th><td>M</td><td>24.448657</td><td>FALSE</td><td>E3</td></tr>\n",
              "</tbody>\n",
              "</table>\n"
            ]
          },
          "metadata": {
            "tags": []
          }
        }
      ]
    },
    {
      "cell_type": "code",
      "metadata": {
        "id": "OFAkX7EHQZ4V"
      },
      "source": [
        "ejemplo <- c(1,1,2,3,5,8)"
      ],
      "execution_count": 75,
      "outputs": []
    },
    {
      "cell_type": "code",
      "metadata": {
        "id": "g3u1FAXBQdLM",
        "outputId": "666db41b-813f-4b35-b19b-cfd895c5820b",
        "colab": {
          "base_uri": "https://localhost:8080/",
          "height": 35
        }
      },
      "source": [
        "ls()"
      ],
      "execution_count": 76,
      "outputs": [
        {
          "output_type": "display_data",
          "data": {
            "text/plain": [
              "[1] \"ejemplo\" \"prep\"   "
            ],
            "text/latex": "\\begin{enumerate*}\n\\item 'ejemplo'\n\\item 'prep'\n\\end{enumerate*}\n",
            "text/markdown": "1. 'ejemplo'\n2. 'prep'\n\n\n",
            "text/html": [
              "<style>\n",
              ".list-inline {list-style: none; margin:0; padding: 0}\n",
              ".list-inline>li {display: inline-block}\n",
              ".list-inline>li:not(:last-child)::after {content: \"\\00b7\"; padding: 0 .5ex}\n",
              "</style>\n",
              "<ol class=list-inline><li>'ejemplo'</li><li>'prep'</li></ol>\n"
            ]
          },
          "metadata": {
            "tags": []
          }
        }
      ]
    },
    {
      "cell_type": "markdown",
      "metadata": {
        "id": "_4pmC4cBm5as"
      },
      "source": [
        "### Formato RData\n",
        "\n",
        "Cuando se quiere guardar el ambiente de trabajo completo, o bien un mayor número de objetos ya creados, se puede utilizar la función _save_\n"
      ]
    },
    {
      "cell_type": "code",
      "metadata": {
        "trusted": true,
        "id": "M5yFyJ27m5at"
      },
      "source": [
        "# Función save para guardar uno o más objetos del ambiente.\n",
        "save(prep, ejemplo, file = \"ambiente1.RData\")\n"
      ],
      "execution_count": 77,
      "outputs": []
    },
    {
      "cell_type": "code",
      "metadata": {
        "id": "J6pivGkqQtN2"
      },
      "source": [
        "rm(list = ls())"
      ],
      "execution_count": 78,
      "outputs": []
    },
    {
      "cell_type": "code",
      "metadata": {
        "id": "Oadw5fEZQv0F",
        "outputId": "759be900-b5b9-44be-da97-9c7b8c01672b",
        "colab": {
          "base_uri": "https://localhost:8080/",
          "height": 98
        }
      },
      "source": [
        "ejemplo"
      ],
      "execution_count": 79,
      "outputs": [
        {
          "output_type": "error",
          "ename": "ERROR",
          "evalue": "ignored",
          "traceback": [
            "Error in eval(expr, envir, enclos): object 'ejemplo' not found\nTraceback:\n"
          ]
        }
      ]
    },
    {
      "cell_type": "code",
      "metadata": {
        "trusted": true,
        "id": "YDmd1Npmm5ay"
      },
      "source": [
        "# Eventualmente podemos \"cargar \" a sesión, con la función load()\n",
        "load(\"ambiente1.RData\")"
      ],
      "execution_count": 80,
      "outputs": []
    },
    {
      "cell_type": "code",
      "metadata": {
        "id": "MjcGArKEQ0RP",
        "outputId": "50b3bc6b-dcb1-4f12-e28a-36b753ae4827",
        "colab": {
          "base_uri": "https://localhost:8080/",
          "height": 35
        }
      },
      "source": [
        "ls()"
      ],
      "execution_count": 81,
      "outputs": [
        {
          "output_type": "display_data",
          "data": {
            "text/plain": [
              "[1] \"ejemplo\" \"prep\"   "
            ],
            "text/latex": "\\begin{enumerate*}\n\\item 'ejemplo'\n\\item 'prep'\n\\end{enumerate*}\n",
            "text/markdown": "1. 'ejemplo'\n2. 'prep'\n\n\n",
            "text/html": [
              "<style>\n",
              ".list-inline {list-style: none; margin:0; padding: 0}\n",
              ".list-inline>li {display: inline-block}\n",
              ".list-inline>li:not(:last-child)::after {content: \"\\00b7\"; padding: 0 .5ex}\n",
              "</style>\n",
              "<ol class=list-inline><li>'ejemplo'</li><li>'prep'</li></ol>\n"
            ]
          },
          "metadata": {
            "tags": []
          }
        }
      ]
    }
  ]
}