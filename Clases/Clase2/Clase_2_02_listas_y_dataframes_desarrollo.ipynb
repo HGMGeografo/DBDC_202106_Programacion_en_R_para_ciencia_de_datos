{
  "nbformat": 4,
  "nbformat_minor": 0,
  "metadata": {
    "colab": {
      "name": "Clase_2_02_listas_y_dataframes.ipynb",
      "provenance": [],
      "collapsed_sections": [],
      "include_colab_link": true
    },
    "kernelspec": {
      "name": "ir",
      "display_name": "R"
    }
  },
  "cells": [
    {
      "cell_type": "markdown",
      "metadata": {
        "id": "view-in-github",
        "colab_type": "text"
      },
      "source": [
        "<a href=\"https://colab.research.google.com/github/majorquev/DBDC_202106_Programacion_en_R_para_ciencia_de_datos/blob/main/Clases/Clase2/Clase_2_02_listas_y_dataframes_desarrollo.ipynb\" target=\"_parent\"><img src=\"https://colab.research.google.com/assets/colab-badge.svg\" alt=\"Open In Colab\"/></a>"
      ]
    },
    {
      "cell_type": "markdown",
      "metadata": {
        "collapsed": true,
        "id": "fgQ2azLwTpRn"
      },
      "source": [
        "# Parte 1: Introducción a R (continuación)\n",
        "\n",
        "**Autor:** Miguel Jorquera Viguera<br>\n",
        "**E-mail:** majorquev@gmail.com<br>\n",
        "**Ayudante:** Jorge Arévalo Labarca <br>\n",
        "**E-mail ayudante:** jorge.arevalol@usach.cl\n",
        "\n",
        "\n",
        "## 5. Listas y Dataframes\n",
        "\n",
        "### 5.1 Listas\n",
        "\n",
        "Hasta aquí contamos con dos tipos de objetos para almacenar datos; vectores y matrices. Sin embargo, en ambos casos se tiene la limitante de que no es posible combinar distintos tipos de datos en diferentes entradas. Un objeto que permite una mayor flexibilidad son las listas. En R, una lista es básicamente un arreglo unidimensional, donde en cada entrada es posible almacenar distintos **objetos** (los cuales a su vez pueden almacenar distintos tipos de datos (u otros objetos).\n",
        "En resumen,\n",
        "\n",
        "   * ¿Qué son?<br>\n",
        "    Arreglos unidimensionales que guardan distintos tipos de datos u objetos.<br>\n",
        "\n",
        "   * ¿Cómo se declaran?<br>\n",
        "    Se pueden declarar mediante el comando list() o combinando listas existentes. <br>\n",
        "    \n",
        "   * ¿Cómo se accede a sus elementos?<br>\n",
        "    Usando [ ] (retorna lista), o bien usando [ [ ] ] (retorna el objeto). \n",
        "    En cada caso se puede indicar la posición o nombre del objeto que se quiere rescatar.<br>\n",
        "    Otra manera es mediante el símbolo $ seguido del nombre del objeto.\n",
        "\n"
      ]
    },
    {
      "cell_type": "code",
      "metadata": {
        "trusted": true,
        "id": "zZHpLzzRTpRp"
      },
      "source": [
        "# 5. Listas y dataframes ------------\n",
        "# 5.1 Listas  ------------\n",
        "# Cómo declarar una lista (comando list() )\n",
        "#num,letra, pl, mat, lista\n",
        "l1 <- list(num = 10,\n",
        "           letra = \"A\",\n",
        "           vector = c(10,20,30),\n",
        "           matr = diag(10:13)   )\n",
        "\n",
        "l2 <-  list(1,c(1,2,3), \"hoola\")\n"
      ],
      "execution_count": 22,
      "outputs": []
    },
    {
      "cell_type": "code",
      "metadata": {
        "id": "kM-gicZIfINE",
        "outputId": "36064c94-8dc8-4f68-c7ac-0a155c74b48e",
        "colab": {
          "base_uri": "https://localhost:8080/",
          "height": 325
        }
      },
      "source": [
        "l1"
      ],
      "execution_count": 23,
      "outputs": [
        {
          "output_type": "display_data",
          "data": {
            "text/plain": [
              "$num\n",
              "[1] 10\n",
              "\n",
              "$letra\n",
              "[1] \"A\"\n",
              "\n",
              "$vector\n",
              "[1] 10 20 30\n",
              "\n",
              "$matr\n",
              "     [,1] [,2] [,3] [,4]\n",
              "[1,]   10    0    0    0\n",
              "[2,]    0   11    0    0\n",
              "[3,]    0    0   12    0\n",
              "[4,]    0    0    0   13\n"
            ],
            "text/latex": "\\begin{description}\n\\item[\\$num] 10\n\\item[\\$letra] 'A'\n\\item[\\$vector] \\begin{enumerate*}\n\\item 10\n\\item 20\n\\item 30\n\\end{enumerate*}\n\n\\item[\\$matr] A matrix: 4 × 4 of type int\n\\begin{tabular}{llll}\n\t 10 &  0 &  0 &  0\\\\\n\t  0 & 11 &  0 &  0\\\\\n\t  0 &  0 & 12 &  0\\\\\n\t  0 &  0 &  0 & 13\\\\\n\\end{tabular}\n\n\\end{description}\n",
            "text/markdown": "$num\n:   10\n$letra\n:   'A'\n$vector\n:   1. 10\n2. 20\n3. 30\n\n\n\n$matr\n:   \nA matrix: 4 × 4 of type int\n\n| 10 |  0 |  0 |  0 |\n|  0 | 11 |  0 |  0 |\n|  0 |  0 | 12 |  0 |\n|  0 |  0 |  0 | 13 |\n\n\n\n\n",
            "text/html": [
              "<dl>\n",
              "\t<dt>$num</dt>\n",
              "\t\t<dd>10</dd>\n",
              "\t<dt>$letra</dt>\n",
              "\t\t<dd>'A'</dd>\n",
              "\t<dt>$vector</dt>\n",
              "\t\t<dd><style>\n",
              ".list-inline {list-style: none; margin:0; padding: 0}\n",
              ".list-inline>li {display: inline-block}\n",
              ".list-inline>li:not(:last-child)::after {content: \"\\00b7\"; padding: 0 .5ex}\n",
              "</style>\n",
              "<ol class=list-inline><li>10</li><li>20</li><li>30</li></ol>\n",
              "</dd>\n",
              "\t<dt>$matr</dt>\n",
              "\t\t<dd><table class=\"dataframe\">\n",
              "<caption>A matrix: 4 × 4 of type int</caption>\n",
              "<tbody>\n",
              "\t<tr><td>10</td><td> 0</td><td> 0</td><td> 0</td></tr>\n",
              "\t<tr><td> 0</td><td>11</td><td> 0</td><td> 0</td></tr>\n",
              "\t<tr><td> 0</td><td> 0</td><td>12</td><td> 0</td></tr>\n",
              "\t<tr><td> 0</td><td> 0</td><td> 0</td><td>13</td></tr>\n",
              "</tbody>\n",
              "</table>\n",
              "</dd>\n",
              "</dl>\n"
            ]
          },
          "metadata": {
            "tags": []
          }
        }
      ]
    },
    {
      "cell_type": "code",
      "metadata": {
        "id": "ToM2I9uNf-UR",
        "outputId": "3bec4175-3536-40b5-a689-0cca116c4e8b",
        "colab": {
          "base_uri": "https://localhost:8080/",
          "height": 96
        }
      },
      "source": [
        "l2"
      ],
      "execution_count": 24,
      "outputs": [
        {
          "output_type": "display_data",
          "data": {
            "text/plain": [
              "[[1]]\n",
              "[1] 1\n",
              "\n",
              "[[2]]\n",
              "[1] 1 2 3\n",
              "\n",
              "[[3]]\n",
              "[1] \"hoola\"\n"
            ],
            "text/latex": "\\begin{enumerate}\n\\item 1\n\\item \\begin{enumerate*}\n\\item 1\n\\item 2\n\\item 3\n\\end{enumerate*}\n\n\\item 'hoola'\n\\end{enumerate}\n",
            "text/markdown": "1. 1\n2. 1. 1\n2. 2\n3. 3\n\n\n\n3. 'hoola'\n\n\n",
            "text/html": [
              "<ol>\n",
              "\t<li>1</li>\n",
              "\t<li><style>\n",
              ".list-inline {list-style: none; margin:0; padding: 0}\n",
              ".list-inline>li {display: inline-block}\n",
              ".list-inline>li:not(:last-child)::after {content: \"\\00b7\"; padding: 0 .5ex}\n",
              "</style>\n",
              "<ol class=list-inline><li>1</li><li>2</li><li>3</li></ol>\n",
              "</li>\n",
              "\t<li>'hoola'</li>\n",
              "</ol>\n"
            ]
          },
          "metadata": {
            "tags": []
          }
        }
      ]
    },
    {
      "cell_type": "code",
      "metadata": {
        "id": "8K1lx98XfSii",
        "outputId": "c63d3a10-d453-4921-c0be-3c5991a98945",
        "colab": {
          "base_uri": "https://localhost:8080/",
          "height": 35
        }
      },
      "source": [
        "# largo\n",
        "length(l1)"
      ],
      "execution_count": 25,
      "outputs": [
        {
          "output_type": "display_data",
          "data": {
            "text/plain": [
              "[1] 4"
            ],
            "text/latex": "4",
            "text/markdown": "4",
            "text/html": [
              "4"
            ]
          },
          "metadata": {
            "tags": []
          }
        }
      ]
    },
    {
      "cell_type": "code",
      "metadata": {
        "id": "zEer0IxyfZxr",
        "outputId": "35390251-0c98-4ded-ad1d-658ce55d130a",
        "colab": {
          "base_uri": "https://localhost:8080/",
          "height": 35
        }
      },
      "source": [
        "# Nombres\n",
        "names(l1)"
      ],
      "execution_count": 26,
      "outputs": [
        {
          "output_type": "display_data",
          "data": {
            "text/plain": [
              "[1] \"num\"    \"letra\"  \"vector\" \"matr\"  "
            ],
            "text/latex": "\\begin{enumerate*}\n\\item 'num'\n\\item 'letra'\n\\item 'vector'\n\\item 'matr'\n\\end{enumerate*}\n",
            "text/markdown": "1. 'num'\n2. 'letra'\n3. 'vector'\n4. 'matr'\n\n\n",
            "text/html": [
              "<style>\n",
              ".list-inline {list-style: none; margin:0; padding: 0}\n",
              ".list-inline>li {display: inline-block}\n",
              ".list-inline>li:not(:last-child)::after {content: \"\\00b7\"; padding: 0 .5ex}\n",
              "</style>\n",
              "<ol class=list-inline><li>'num'</li><li>'letra'</li><li>'vector'</li><li>'matr'</li></ol>\n"
            ]
          },
          "metadata": {
            "tags": []
          }
        }
      ]
    },
    {
      "cell_type": "code",
      "metadata": {
        "id": "_iwOQA-xTzww",
        "outputId": "cc556f1f-753c-43a9-ee39-25b5ecb47098",
        "colab": {
          "base_uri": "https://localhost:8080/"
        }
      },
      "source": [
        "# estructura\n",
        "str(l1)"
      ],
      "execution_count": 27,
      "outputs": [
        {
          "output_type": "stream",
          "text": [
            "List of 4\n",
            " $ num   : num 10\n",
            " $ letra : chr \"A\"\n",
            " $ vector: num [1:3] 10 20 30\n",
            " $ matr  : int [1:4, 1:4] 10 0 0 0 0 11 0 0 0 0 ...\n"
          ],
          "name": "stdout"
        }
      ]
    },
    {
      "cell_type": "code",
      "metadata": {
        "trusted": true,
        "id": "GBuxGL4cTpR0"
      },
      "source": [
        "# Podemos combinar listas\n",
        "l3 <- list(otro_num = 100,\n",
        "           otra_letra = \"X\")"
      ],
      "execution_count": 28,
      "outputs": []
    },
    {
      "cell_type": "code",
      "metadata": {
        "id": "qr1HSVbZgKCJ",
        "outputId": "afcd4b94-b04f-4702-d9e5-11aec653bdac",
        "colab": {
          "base_uri": "https://localhost:8080/",
          "height": 395
        }
      },
      "source": [
        "l4 <- c(l1,l3)\n",
        "l4"
      ],
      "execution_count": 29,
      "outputs": [
        {
          "output_type": "display_data",
          "data": {
            "text/plain": [
              "$num\n",
              "[1] 10\n",
              "\n",
              "$letra\n",
              "[1] \"A\"\n",
              "\n",
              "$vector\n",
              "[1] 10 20 30\n",
              "\n",
              "$matr\n",
              "     [,1] [,2] [,3] [,4]\n",
              "[1,]   10    0    0    0\n",
              "[2,]    0   11    0    0\n",
              "[3,]    0    0   12    0\n",
              "[4,]    0    0    0   13\n",
              "\n",
              "$otro_num\n",
              "[1] 100\n",
              "\n",
              "$otra_letra\n",
              "[1] \"X\"\n"
            ],
            "text/latex": "\\begin{description}\n\\item[\\$num] 10\n\\item[\\$letra] 'A'\n\\item[\\$vector] \\begin{enumerate*}\n\\item 10\n\\item 20\n\\item 30\n\\end{enumerate*}\n\n\\item[\\$matr] A matrix: 4 × 4 of type int\n\\begin{tabular}{llll}\n\t 10 &  0 &  0 &  0\\\\\n\t  0 & 11 &  0 &  0\\\\\n\t  0 &  0 & 12 &  0\\\\\n\t  0 &  0 &  0 & 13\\\\\n\\end{tabular}\n\n\\item[\\$otro\\_num] 100\n\\item[\\$otra\\_letra] 'X'\n\\end{description}\n",
            "text/markdown": "$num\n:   10\n$letra\n:   'A'\n$vector\n:   1. 10\n2. 20\n3. 30\n\n\n\n$matr\n:   \nA matrix: 4 × 4 of type int\n\n| 10 |  0 |  0 |  0 |\n|  0 | 11 |  0 |  0 |\n|  0 |  0 | 12 |  0 |\n|  0 |  0 |  0 | 13 |\n\n\n$otro_num\n:   100\n$otra_letra\n:   'X'\n\n\n",
            "text/html": [
              "<dl>\n",
              "\t<dt>$num</dt>\n",
              "\t\t<dd>10</dd>\n",
              "\t<dt>$letra</dt>\n",
              "\t\t<dd>'A'</dd>\n",
              "\t<dt>$vector</dt>\n",
              "\t\t<dd><style>\n",
              ".list-inline {list-style: none; margin:0; padding: 0}\n",
              ".list-inline>li {display: inline-block}\n",
              ".list-inline>li:not(:last-child)::after {content: \"\\00b7\"; padding: 0 .5ex}\n",
              "</style>\n",
              "<ol class=list-inline><li>10</li><li>20</li><li>30</li></ol>\n",
              "</dd>\n",
              "\t<dt>$matr</dt>\n",
              "\t\t<dd><table class=\"dataframe\">\n",
              "<caption>A matrix: 4 × 4 of type int</caption>\n",
              "<tbody>\n",
              "\t<tr><td>10</td><td> 0</td><td> 0</td><td> 0</td></tr>\n",
              "\t<tr><td> 0</td><td>11</td><td> 0</td><td> 0</td></tr>\n",
              "\t<tr><td> 0</td><td> 0</td><td>12</td><td> 0</td></tr>\n",
              "\t<tr><td> 0</td><td> 0</td><td> 0</td><td>13</td></tr>\n",
              "</tbody>\n",
              "</table>\n",
              "</dd>\n",
              "\t<dt>$otro_num</dt>\n",
              "\t\t<dd>100</dd>\n",
              "\t<dt>$otra_letra</dt>\n",
              "\t\t<dd>'X'</dd>\n",
              "</dl>\n"
            ]
          },
          "metadata": {
            "tags": []
          }
        }
      ]
    },
    {
      "cell_type": "code",
      "metadata": {
        "id": "UojUKs24gS7_",
        "outputId": "03533b53-f713-4ca2-f592-9dd952fc4e56",
        "colab": {
          "base_uri": "https://localhost:8080/"
        }
      },
      "source": [
        "str(l4)"
      ],
      "execution_count": 30,
      "outputs": [
        {
          "output_type": "stream",
          "text": [
            "List of 6\n",
            " $ num       : num 10\n",
            " $ letra     : chr \"A\"\n",
            " $ vector    : num [1:3] 10 20 30\n",
            " $ matr      : int [1:4, 1:4] 10 0 0 0 0 11 0 0 0 0 ...\n",
            " $ otro_num  : num 100\n",
            " $ otra_letra: chr \"X\"\n"
          ],
          "name": "stdout"
        }
      ]
    },
    {
      "cell_type": "code",
      "metadata": {
        "trusted": true,
        "id": "uUv7BQfnTpR3",
        "outputId": "6aab6a2a-da3e-46ef-be76-fcbcb1312bdf",
        "colab": {
          "base_uri": "https://localhost:8080/",
          "height": 52
        }
      },
      "source": [
        "# Acceso mediante posición\n",
        "l4[3]"
      ],
      "execution_count": 31,
      "outputs": [
        {
          "output_type": "display_data",
          "data": {
            "text/plain": [
              "$vector\n",
              "[1] 10 20 30\n"
            ],
            "text/latex": "\\textbf{\\$vector} = \\begin{enumerate*}\n\\item 10\n\\item 20\n\\item 30\n\\end{enumerate*}\n",
            "text/markdown": "**$vector** = 1. 10\n2. 20\n3. 30\n\n\n",
            "text/html": [
              "<strong>$vector</strong> = <style>\n",
              ".list-inline {list-style: none; margin:0; padding: 0}\n",
              ".list-inline>li {display: inline-block}\n",
              ".list-inline>li:not(:last-child)::after {content: \"\\00b7\"; padding: 0 .5ex}\n",
              "</style>\n",
              "<ol class=list-inline><li>10</li><li>20</li><li>30</li></ol>\n"
            ]
          },
          "metadata": {
            "tags": []
          }
        }
      ]
    },
    {
      "cell_type": "code",
      "metadata": {
        "trusted": true,
        "id": "L3RDKUqOTpR5",
        "outputId": "fb536997-2369-48e3-c67d-6aca85517371",
        "colab": {
          "base_uri": "https://localhost:8080/",
          "height": 35
        }
      },
      "source": [
        "class(l4[3])"
      ],
      "execution_count": 32,
      "outputs": [
        {
          "output_type": "display_data",
          "data": {
            "text/plain": [
              "[1] \"list\""
            ],
            "text/latex": "'list'",
            "text/markdown": "'list'",
            "text/html": [
              "'list'"
            ]
          },
          "metadata": {
            "tags": []
          }
        }
      ]
    },
    {
      "cell_type": "code",
      "metadata": {
        "trusted": true,
        "id": "QbQ8QHARTpR7",
        "outputId": "b7e94129-6f9b-4fb4-b1a6-13e53e807453",
        "colab": {
          "base_uri": "https://localhost:8080/",
          "height": 35
        }
      },
      "source": [
        "# NOTA lista[.] retorna un lista con un elemento,\n",
        "# lista[[.]] retorna el elmento de la lista lista[.]\n",
        "l4[[3]]\n"
      ],
      "execution_count": 33,
      "outputs": [
        {
          "output_type": "display_data",
          "data": {
            "text/plain": [
              "[1] 10 20 30"
            ],
            "text/latex": "\\begin{enumerate*}\n\\item 10\n\\item 20\n\\item 30\n\\end{enumerate*}\n",
            "text/markdown": "1. 10\n2. 20\n3. 30\n\n\n",
            "text/html": [
              "<style>\n",
              ".list-inline {list-style: none; margin:0; padding: 0}\n",
              ".list-inline>li {display: inline-block}\n",
              ".list-inline>li:not(:last-child)::after {content: \"\\00b7\"; padding: 0 .5ex}\n",
              "</style>\n",
              "<ol class=list-inline><li>10</li><li>20</li><li>30</li></ol>\n"
            ]
          },
          "metadata": {
            "tags": []
          }
        }
      ]
    },
    {
      "cell_type": "code",
      "metadata": {
        "id": "TCjCn-bjgxiM",
        "outputId": "02e99a6e-b241-451f-8d7e-9aa8d1ac497c",
        "colab": {
          "base_uri": "https://localhost:8080/",
          "height": 35
        }
      },
      "source": [
        "class(l4[[3]])"
      ],
      "execution_count": 34,
      "outputs": [
        {
          "output_type": "display_data",
          "data": {
            "text/plain": [
              "[1] \"numeric\""
            ],
            "text/latex": "'numeric'",
            "text/markdown": "'numeric'",
            "text/html": [
              "'numeric'"
            ]
          },
          "metadata": {
            "tags": []
          }
        }
      ]
    },
    {
      "cell_type": "code",
      "metadata": {
        "id": "pMbMMad-g0nE"
      },
      "source": [
        "elem_3_de_l4 <- l4[[3]]"
      ],
      "execution_count": 37,
      "outputs": []
    },
    {
      "cell_type": "code",
      "metadata": {
        "id": "vQ7915PLhHt9",
        "outputId": "590868d1-ed58-4b42-9f4b-6850b395e7e1",
        "colab": {
          "base_uri": "https://localhost:8080/",
          "height": 35
        }
      },
      "source": [
        "elem_3_de_l4[2]"
      ],
      "execution_count": 38,
      "outputs": [
        {
          "output_type": "display_data",
          "data": {
            "text/plain": [
              "[1] 20"
            ],
            "text/latex": "20",
            "text/markdown": "20",
            "text/html": [
              "20"
            ]
          },
          "metadata": {
            "tags": []
          }
        }
      ]
    },
    {
      "cell_type": "code",
      "metadata": {
        "trusted": true,
        "id": "kaOJqYJETpSC",
        "outputId": "18cff298-78af-42d4-bd03-cdd62f0bbab0",
        "colab": {
          "base_uri": "https://localhost:8080/",
          "height": 35
        }
      },
      "source": [
        "# de la lista l4[[4]], quiero el elemento de posición (3,3)\n",
        "l4[[4]][3,3]"
      ],
      "execution_count": 40,
      "outputs": [
        {
          "output_type": "display_data",
          "data": {
            "text/plain": [
              "[1] 12"
            ],
            "text/latex": "12",
            "text/markdown": "12",
            "text/html": [
              "12"
            ]
          },
          "metadata": {
            "tags": []
          }
        }
      ]
    },
    {
      "cell_type": "code",
      "metadata": {
        "id": "Ur4aXGtPhpiM",
        "outputId": "37d8888a-ee57-4b16-8d9c-54cda13d57f3",
        "colab": {
          "base_uri": "https://localhost:8080/",
          "height": 35
        }
      },
      "source": [
        ""
      ],
      "execution_count": 41,
      "outputs": [
        {
          "output_type": "display_data",
          "data": {
            "text/plain": [
              " [1] \"A\" \"B\" \"C\" \"D\" \"E\" \"F\" \"G\" \"H\" \"I\" \"J\" \"K\" \"L\" \"M\" \"N\" \"O\" \"P\" \"Q\" \"R\" \"S\"\n",
              "[20] \"T\" \"U\" \"V\" \"W\" \"X\" \"Y\" \"Z\""
            ],
            "text/latex": "\\begin{enumerate*}\n\\item 'A'\n\\item 'B'\n\\item 'C'\n\\item 'D'\n\\item 'E'\n\\item 'F'\n\\item 'G'\n\\item 'H'\n\\item 'I'\n\\item 'J'\n\\item 'K'\n\\item 'L'\n\\item 'M'\n\\item 'N'\n\\item 'O'\n\\item 'P'\n\\item 'Q'\n\\item 'R'\n\\item 'S'\n\\item 'T'\n\\item 'U'\n\\item 'V'\n\\item 'W'\n\\item 'X'\n\\item 'Y'\n\\item 'Z'\n\\end{enumerate*}\n",
            "text/markdown": "1. 'A'\n2. 'B'\n3. 'C'\n4. 'D'\n5. 'E'\n6. 'F'\n7. 'G'\n8. 'H'\n9. 'I'\n10. 'J'\n11. 'K'\n12. 'L'\n13. 'M'\n14. 'N'\n15. 'O'\n16. 'P'\n17. 'Q'\n18. 'R'\n19. 'S'\n20. 'T'\n21. 'U'\n22. 'V'\n23. 'W'\n24. 'X'\n25. 'Y'\n26. 'Z'\n\n\n",
            "text/html": [
              "<style>\n",
              ".list-inline {list-style: none; margin:0; padding: 0}\n",
              ".list-inline>li {display: inline-block}\n",
              ".list-inline>li:not(:last-child)::after {content: \"\\00b7\"; padding: 0 .5ex}\n",
              "</style>\n",
              "<ol class=list-inline><li>'A'</li><li>'B'</li><li>'C'</li><li>'D'</li><li>'E'</li><li>'F'</li><li>'G'</li><li>'H'</li><li>'I'</li><li>'J'</li><li>'K'</li><li>'L'</li><li>'M'</li><li>'N'</li><li>'O'</li><li>'P'</li><li>'Q'</li><li>'R'</li><li>'S'</li><li>'T'</li><li>'U'</li><li>'V'</li><li>'W'</li><li>'X'</li><li>'Y'</li><li>'Z'</li></ol>\n"
            ]
          },
          "metadata": {
            "tags": []
          }
        }
      ]
    },
    {
      "cell_type": "code",
      "metadata": {
        "id": "rlOsZ91Phd3R"
      },
      "source": [
        "l5 <- list(nuevo_valor = c(1,2),\n",
        "           nueva_lista = list(a = 1:9, let = LETTERS) ) # LETTERS es un vector con el alfabeto"
      ],
      "execution_count": 42,
      "outputs": []
    },
    {
      "cell_type": "code",
      "metadata": {
        "trusted": true,
        "id": "UZ4k5DQ9TpSE",
        "outputId": "7b6c739b-3801-4476-8d05-1d2516fa8322",
        "colab": {
          "base_uri": "https://localhost:8080/",
          "height": 35
        }
      },
      "source": [
        "# Quiero rescatar la 5ta letra del vector let, de la entrada llamada nueva_lista de la lista l5.\n",
        "\n",
        "l5[[2]][[2]][5] \n"
      ],
      "execution_count": 45,
      "outputs": [
        {
          "output_type": "display_data",
          "data": {
            "text/plain": [
              "[1] \"E\""
            ],
            "text/latex": "'E'",
            "text/markdown": "'E'",
            "text/html": [
              "'E'"
            ]
          },
          "metadata": {
            "tags": []
          }
        }
      ]
    },
    {
      "cell_type": "code",
      "metadata": {
        "trusted": true,
        "id": "jYFKb27-TpSG",
        "outputId": "9f630c1c-a8ed-4b99-a5d6-9e68cc9071a7",
        "colab": {
          "base_uri": "https://localhost:8080/",
          "height": 52
        }
      },
      "source": [
        "# Acceso mediante nombre\n",
        "l4[\"vector\"]# retorna una lista con el elemento\n",
        "\n"
      ],
      "execution_count": 50,
      "outputs": [
        {
          "output_type": "display_data",
          "data": {
            "text/plain": [
              "$vector\n",
              "[1] 10 20 30\n"
            ],
            "text/latex": "\\textbf{\\$vector} = \\begin{enumerate*}\n\\item 10\n\\item 20\n\\item 30\n\\end{enumerate*}\n",
            "text/markdown": "**$vector** = 1. 10\n2. 20\n3. 30\n\n\n",
            "text/html": [
              "<strong>$vector</strong> = <style>\n",
              ".list-inline {list-style: none; margin:0; padding: 0}\n",
              ".list-inline>li {display: inline-block}\n",
              ".list-inline>li:not(:last-child)::after {content: \"\\00b7\"; padding: 0 .5ex}\n",
              "</style>\n",
              "<ol class=list-inline><li>10</li><li>20</li><li>30</li></ol>\n"
            ]
          },
          "metadata": {
            "tags": []
          }
        }
      ]
    },
    {
      "cell_type": "code",
      "metadata": {
        "id": "dyRl4JF2i3X0",
        "outputId": "91b4c8e1-412d-4a69-ef80-81865193137a",
        "colab": {
          "base_uri": "https://localhost:8080/",
          "height": 35
        }
      },
      "source": [
        "l4[[\"vector\"]]# retorna directamente  el elemento"
      ],
      "execution_count": 49,
      "outputs": [
        {
          "output_type": "display_data",
          "data": {
            "text/plain": [
              "[1] 10 20 30"
            ],
            "text/latex": "\\begin{enumerate*}\n\\item 10\n\\item 20\n\\item 30\n\\end{enumerate*}\n",
            "text/markdown": "1. 10\n2. 20\n3. 30\n\n\n",
            "text/html": [
              "<style>\n",
              ".list-inline {list-style: none; margin:0; padding: 0}\n",
              ".list-inline>li {display: inline-block}\n",
              ".list-inline>li:not(:last-child)::after {content: \"\\00b7\"; padding: 0 .5ex}\n",
              "</style>\n",
              "<ol class=list-inline><li>10</li><li>20</li><li>30</li></ol>\n"
            ]
          },
          "metadata": {
            "tags": []
          }
        }
      ]
    },
    {
      "cell_type": "code",
      "metadata": {
        "id": "gcXJbv8Fi8En",
        "outputId": "df671da1-65e6-4412-9ab1-bcb2528783f2",
        "colab": {
          "base_uri": "https://localhost:8080/"
        }
      },
      "source": [
        "# La consulta anterior a la lista anidada:\n",
        "str(l5)\n"
      ],
      "execution_count": 51,
      "outputs": [
        {
          "output_type": "stream",
          "text": [
            "List of 2\n",
            " $ nuevo_valor: num [1:2] 1 2\n",
            " $ nueva_lista:List of 2\n",
            "  ..$ a  : int [1:9] 1 2 3 4 5 6 7 8 9\n",
            "  ..$ let: chr [1:26] \"A\" \"B\" \"C\" \"D\" ...\n"
          ],
          "name": "stdout"
        }
      ]
    },
    {
      "cell_type": "code",
      "metadata": {
        "id": "rLGktOKljBL1",
        "outputId": "cde51e70-9a62-44b8-fc74-53e7147c09a4",
        "colab": {
          "base_uri": "https://localhost:8080/",
          "height": 35
        }
      },
      "source": [
        "l5[[\"nueva_lista\"]][[\"let\"]][5]"
      ],
      "execution_count": 54,
      "outputs": [
        {
          "output_type": "display_data",
          "data": {
            "text/plain": [
              "[1] \"E\""
            ],
            "text/latex": "'E'",
            "text/markdown": "'E'",
            "text/html": [
              "'E'"
            ]
          },
          "metadata": {
            "tags": []
          }
        }
      ]
    },
    {
      "cell_type": "code",
      "metadata": {
        "id": "LbTZy6Awjzk_",
        "outputId": "8a7214c5-54c0-4f78-9248-46ea5fe43c22",
        "colab": {
          "base_uri": "https://localhost:8080/"
        }
      },
      "source": [
        "str(l4)"
      ],
      "execution_count": 57,
      "outputs": [
        {
          "output_type": "stream",
          "text": [
            "List of 6\n",
            " $ num       : num 10\n",
            " $ letra     : chr \"A\"\n",
            " $ vector    : num [1:3] 10 20 30\n",
            " $ matr      : int [1:4, 1:4] 10 0 0 0 0 11 0 0 0 0 ...\n",
            " $ otro_num  : num 100\n",
            " $ otra_letra: chr \"X\"\n"
          ],
          "name": "stdout"
        }
      ]
    },
    {
      "cell_type": "code",
      "metadata": {
        "trusted": true,
        "id": "a9UBaNOuTpSI",
        "outputId": "8ad7d020-6266-4413-9938-05ba8af902de",
        "colab": {
          "base_uri": "https://localhost:8080/",
          "height": 69
        }
      },
      "source": [
        "# acceso vía \"$\"\n",
        "l4$num # Es lo mismo  que\n",
        "l4[[\"num\"]]\n",
        "l4[[1]]\n",
        "\n"
      ],
      "execution_count": 58,
      "outputs": [
        {
          "output_type": "display_data",
          "data": {
            "text/plain": [
              "[1] 10"
            ],
            "text/latex": "10",
            "text/markdown": "10",
            "text/html": [
              "10"
            ]
          },
          "metadata": {
            "tags": []
          }
        },
        {
          "output_type": "display_data",
          "data": {
            "text/plain": [
              "[1] 10"
            ],
            "text/latex": "10",
            "text/markdown": "10",
            "text/html": [
              "10"
            ]
          },
          "metadata": {
            "tags": []
          }
        },
        {
          "output_type": "display_data",
          "data": {
            "text/plain": [
              "[1] 10"
            ],
            "text/latex": "10",
            "text/markdown": "10",
            "text/html": [
              "10"
            ]
          },
          "metadata": {
            "tags": []
          }
        }
      ]
    },
    {
      "cell_type": "code",
      "metadata": {
        "id": "UlfhTn_aj8Hv",
        "outputId": "23570390-c57b-49a3-9d98-45b5ad300d36",
        "colab": {
          "base_uri": "https://localhost:8080/",
          "height": 35
        }
      },
      "source": [
        "# Nuestra consulta anidada....\n",
        "l5$nueva_lista$let[5]\n",
        "\n",
        "\n"
      ],
      "execution_count": 61,
      "outputs": [
        {
          "output_type": "display_data",
          "data": {
            "text/plain": [
              "[1] \"E\""
            ],
            "text/latex": "'E'",
            "text/markdown": "'E'",
            "text/html": [
              "'E'"
            ]
          },
          "metadata": {
            "tags": []
          }
        }
      ]
    },
    {
      "cell_type": "code",
      "metadata": {
        "trusted": true,
        "id": "Dumeo0-NTpSM",
        "outputId": "6d5dd41f-4900-4231-adc7-c4d93944eeb5",
        "colab": {
          "base_uri": "https://localhost:8080/",
          "height": 52
        }
      },
      "source": [
        "# para saber el largo de la lista/vector\n",
        "length(l4)\n",
        "# Para obtener los nombres de la lista\n",
        "names(l4)\n",
        "\n"
      ],
      "execution_count": 66,
      "outputs": [
        {
          "output_type": "display_data",
          "data": {
            "text/plain": [
              "[1] 6"
            ],
            "text/latex": "6",
            "text/markdown": "6",
            "text/html": [
              "6"
            ]
          },
          "metadata": {
            "tags": []
          }
        },
        {
          "output_type": "display_data",
          "data": {
            "text/plain": [
              "[1] \"num\"        \"letra\"      \"vector\"     \"matr\"       \"otro_num\"  \n",
              "[6] \"otra_letra\""
            ],
            "text/latex": "\\begin{enumerate*}\n\\item 'num'\n\\item 'letra'\n\\item 'vector'\n\\item 'matr'\n\\item 'otro\\_num'\n\\item 'otra\\_letra'\n\\end{enumerate*}\n",
            "text/markdown": "1. 'num'\n2. 'letra'\n3. 'vector'\n4. 'matr'\n5. 'otro_num'\n6. 'otra_letra'\n\n\n",
            "text/html": [
              "<style>\n",
              ".list-inline {list-style: none; margin:0; padding: 0}\n",
              ".list-inline>li {display: inline-block}\n",
              ".list-inline>li:not(:last-child)::after {content: \"\\00b7\"; padding: 0 .5ex}\n",
              "</style>\n",
              "<ol class=list-inline><li>'num'</li><li>'letra'</li><li>'vector'</li><li>'matr'</li><li>'otro_num'</li><li>'otra_letra'</li></ol>\n"
            ]
          },
          "metadata": {
            "tags": []
          }
        }
      ]
    },
    {
      "cell_type": "code",
      "metadata": {
        "id": "xLaqGzeDkzDX"
      },
      "source": [
        "# si quisiéramos renombrar los slots:\n",
        "# Ej: Cambiar el nombre de la 5ta entrada\n",
        "names(l4)[5] <- \"nuevo_nombre\"\n"
      ],
      "execution_count": 69,
      "outputs": []
    },
    {
      "cell_type": "code",
      "metadata": {
        "id": "0LY7RZyTk-aP",
        "outputId": "44e337f3-01ef-4d4a-def8-ce20bbb1c36e",
        "colab": {
          "base_uri": "https://localhost:8080/"
        }
      },
      "source": [
        "str(l4)"
      ],
      "execution_count": 70,
      "outputs": [
        {
          "output_type": "stream",
          "text": [
            "List of 6\n",
            " $ num         : num 10\n",
            " $ letra       : chr \"A\"\n",
            " $ vector      : num [1:3] 10 20 30\n",
            " $ matr        : int [1:4, 1:4] 10 0 0 0 0 11 0 0 0 0 ...\n",
            " $ nuevo_nombre: num 100\n",
            " $ otra_letra  : chr \"X\"\n"
          ],
          "name": "stdout"
        }
      ]
    },
    {
      "cell_type": "code",
      "metadata": {
        "trusted": true,
        "id": "Uij1PdVrTpSO"
      },
      "source": [
        "# También podemos crear nuevos \"slots\"\n",
        "## Indicando nombre en [[]] y luego asignando\n",
        "l4[[\"nueva_entrada\"]] <- c(T,F,F)"
      ],
      "execution_count": 71,
      "outputs": []
    },
    {
      "cell_type": "code",
      "metadata": {
        "id": "GZVIjeOPll8C"
      },
      "source": [
        "str(l4)"
      ],
      "execution_count": null,
      "outputs": []
    },
    {
      "cell_type": "code",
      "metadata": {
        "id": "uqNY14AAlUQe"
      },
      "source": [
        "## Indicando el nombre luego del \"$\" y luego asignando\n",
        "\n",
        "l4$otra_nueva_entrada <- letters[5:10]"
      ],
      "execution_count": 74,
      "outputs": []
    },
    {
      "cell_type": "code",
      "metadata": {
        "id": "y8esbhVflPzs",
        "outputId": "e3d56b64-71eb-4fdb-e7f1-a42a677427dd",
        "colab": {
          "base_uri": "https://localhost:8080/"
        }
      },
      "source": [
        "str(l4)"
      ],
      "execution_count": 75,
      "outputs": [
        {
          "output_type": "stream",
          "text": [
            "List of 8\n",
            " $ num               : num 10\n",
            " $ letra             : chr \"A\"\n",
            " $ vector            : num [1:3] 10 20 30\n",
            " $ matr              : int [1:4, 1:4] 10 0 0 0 0 11 0 0 0 0 ...\n",
            " $ nuevo_nombre      : num 100\n",
            " $ otra_letra        : chr \"X\"\n",
            " $ nueva_entrada     : logi [1:3] TRUE FALSE FALSE\n",
            " $ otra_nueva_entrada: chr [1:6] \"e\" \"f\" \"g\" \"h\" ...\n"
          ],
          "name": "stdout"
        }
      ]
    },
    {
      "cell_type": "code",
      "metadata": {
        "trusted": true,
        "id": "rBB4hT9RTpSQ",
        "outputId": "6118af21-b2ea-44ea-a518-14fd7982dab0",
        "colab": {
          "base_uri": "https://localhost:8080/"
        }
      },
      "source": [
        "# podemos modificar elementos dentro de un slot\n",
        "l4$vector[2] <- 99\n",
        "str(l4)\n"
      ],
      "execution_count": 76,
      "outputs": [
        {
          "output_type": "stream",
          "text": [
            "List of 8\n",
            " $ num               : num 10\n",
            " $ letra             : chr \"A\"\n",
            " $ vector            : num [1:3] 10 99 30\n",
            " $ matr              : int [1:4, 1:4] 10 0 0 0 0 11 0 0 0 0 ...\n",
            " $ nuevo_nombre      : num 100\n",
            " $ otra_letra        : chr \"X\"\n",
            " $ nueva_entrada     : logi [1:3] TRUE FALSE FALSE\n",
            " $ otra_nueva_entrada: chr [1:6] \"e\" \"f\" \"g\" \"h\" ...\n"
          ],
          "name": "stdout"
        }
      ]
    },
    {
      "cell_type": "markdown",
      "metadata": {
        "id": "128wI4ZoTpSS"
      },
      "source": [
        "### 5.2 Dataframes\n",
        "\n",
        "Un dataframe es un caso particular de una lista, donde los objetos de cada entrada corresponden a vectores de datos del mismo largo. E este caso cada vector corresponde a una columna del data.frame, mientras que la cantidad de filas corresponde al largo común de los vectores de cada entrada. El objeto resultante es una *tabla*, de ahora en adelante *data.frame*, cuyas columnas poseen distintos tipos de datos entre sí. \n",
        "\n",
        " * ¿Cómo se declara un dataframe?<br>\n",
        "     Mediante la función data.frame(), indicando los vectores que conformarán las columnas.\n",
        " \n",
        " * ¿Cómo se accede a los datos de un data.frame?<br>\n",
        "    Al ser una lista, se puede acceder de la misma manera. Sin embargo también es posible acceder del modo en que se accede a los elementos de una matriz."
      ]
    },
    {
      "cell_type": "code",
      "metadata": {
        "trusted": true,
        "id": "qJ-2zVWVTpST"
      },
      "source": [
        "# 5.2 Dataframes ----------\n",
        "# Ejemplo sencillo de definición de un data.frame\n",
        "# recordar que 1:3 es lo mismo que c(1,2,3)\n",
        "n1 <- 1:4\n",
        "let <- LETTERS[1:4]\n",
        "nom <- c(\"miguel\",\"andré\", \"Angel\", \"Cynthia\")\n",
        "\n",
        "\n",
        "df <- data.frame(num = n1,\n",
        "                 letra = let ,\n",
        "                 nombre = nom ) \n"
      ],
      "execution_count": 77,
      "outputs": []
    },
    {
      "cell_type": "code",
      "metadata": {
        "id": "WFN9p2AonMpe",
        "outputId": "f1fdd5c4-8fc1-44a9-ffac-6c4e4187b235",
        "colab": {
          "base_uri": "https://localhost:8080/",
          "height": 223
        }
      },
      "source": [
        "df"
      ],
      "execution_count": 78,
      "outputs": [
        {
          "output_type": "display_data",
          "data": {
            "text/plain": [
              "  num letra nombre \n",
              "1 1   A     miguel \n",
              "2 2   B     andré  \n",
              "3 3   C     Angel  \n",
              "4 4   D     Cynthia"
            ],
            "text/latex": "A data.frame: 4 × 3\n\\begin{tabular}{lll}\n num & letra & nombre\\\\\n <int> & <chr> & <chr>\\\\\n\\hline\n\t 1 & A & miguel \\\\\n\t 2 & B & andré  \\\\\n\t 3 & C & Angel  \\\\\n\t 4 & D & Cynthia\\\\\n\\end{tabular}\n",
            "text/markdown": "\nA data.frame: 4 × 3\n\n| num &lt;int&gt; | letra &lt;chr&gt; | nombre &lt;chr&gt; |\n|---|---|---|\n| 1 | A | miguel  |\n| 2 | B | andré   |\n| 3 | C | Angel   |\n| 4 | D | Cynthia |\n\n",
            "text/html": [
              "<table class=\"dataframe\">\n",
              "<caption>A data.frame: 4 × 3</caption>\n",
              "<thead>\n",
              "\t<tr><th scope=col>num</th><th scope=col>letra</th><th scope=col>nombre</th></tr>\n",
              "\t<tr><th scope=col>&lt;int&gt;</th><th scope=col>&lt;chr&gt;</th><th scope=col>&lt;chr&gt;</th></tr>\n",
              "</thead>\n",
              "<tbody>\n",
              "\t<tr><td>1</td><td>A</td><td>miguel </td></tr>\n",
              "\t<tr><td>2</td><td>B</td><td>andré  </td></tr>\n",
              "\t<tr><td>3</td><td>C</td><td>Angel  </td></tr>\n",
              "\t<tr><td>4</td><td>D</td><td>Cynthia</td></tr>\n",
              "</tbody>\n",
              "</table>\n"
            ]
          },
          "metadata": {
            "tags": []
          }
        }
      ]
    },
    {
      "cell_type": "code",
      "metadata": {
        "id": "nUXZoIoknWKw",
        "outputId": "3d2f2b80-fc23-42c0-ba11-fd345f21332f",
        "colab": {
          "base_uri": "https://localhost:8080/",
          "height": 35
        }
      },
      "source": [
        "# NOTA\n",
        "# Dimensión de un data.frame (mismo concepto que en el caso de una matriz)\n",
        "dim(df)"
      ],
      "execution_count": 79,
      "outputs": [
        {
          "output_type": "display_data",
          "data": {
            "text/plain": [
              "[1] 4 3"
            ],
            "text/latex": "\\begin{enumerate*}\n\\item 4\n\\item 3\n\\end{enumerate*}\n",
            "text/markdown": "1. 4\n2. 3\n\n\n",
            "text/html": [
              "<style>\n",
              ".list-inline {list-style: none; margin:0; padding: 0}\n",
              ".list-inline>li {display: inline-block}\n",
              ".list-inline>li:not(:last-child)::after {content: \"\\00b7\"; padding: 0 .5ex}\n",
              "</style>\n",
              "<ol class=list-inline><li>4</li><li>3</li></ol>\n"
            ]
          },
          "metadata": {
            "tags": []
          }
        }
      ]
    },
    {
      "cell_type": "code",
      "metadata": {
        "trusted": true,
        "id": "nv7stC8ITpSY",
        "outputId": "a425c36f-5d0a-4127-bac5-66ca345e0a18",
        "colab": {
          "base_uri": "https://localhost:8080/",
          "height": 52
        }
      },
      "source": [
        "# Acceso a columnas de un data.frame\n",
        "## Igual que en una lista (o matriz)\n",
        "\n",
        "# Por posición (como en una matriz)\n",
        "df[,3]\n",
        "\n",
        "# Por nombre (como en una matriz)\n",
        "df[,\"nombre\"]\n"
      ],
      "execution_count": 81,
      "outputs": [
        {
          "output_type": "display_data",
          "data": {
            "text/plain": [
              "[1] \"miguel\"  \"andré\"   \"Angel\"   \"Cynthia\""
            ],
            "text/latex": "\\begin{enumerate*}\n\\item 'miguel'\n\\item 'andré'\n\\item 'Angel'\n\\item 'Cynthia'\n\\end{enumerate*}\n",
            "text/markdown": "1. 'miguel'\n2. 'andré'\n3. 'Angel'\n4. 'Cynthia'\n\n\n",
            "text/html": [
              "<style>\n",
              ".list-inline {list-style: none; margin:0; padding: 0}\n",
              ".list-inline>li {display: inline-block}\n",
              ".list-inline>li:not(:last-child)::after {content: \"\\00b7\"; padding: 0 .5ex}\n",
              "</style>\n",
              "<ol class=list-inline><li>'miguel'</li><li>'andré'</li><li>'Angel'</li><li>'Cynthia'</li></ol>\n"
            ]
          },
          "metadata": {
            "tags": []
          }
        },
        {
          "output_type": "display_data",
          "data": {
            "text/plain": [
              "[1] \"miguel\"  \"andré\"   \"Angel\"   \"Cynthia\""
            ],
            "text/latex": "\\begin{enumerate*}\n\\item 'miguel'\n\\item 'andré'\n\\item 'Angel'\n\\item 'Cynthia'\n\\end{enumerate*}\n",
            "text/markdown": "1. 'miguel'\n2. 'andré'\n3. 'Angel'\n4. 'Cynthia'\n\n\n",
            "text/html": [
              "<style>\n",
              ".list-inline {list-style: none; margin:0; padding: 0}\n",
              ".list-inline>li {display: inline-block}\n",
              ".list-inline>li:not(:last-child)::after {content: \"\\00b7\"; padding: 0 .5ex}\n",
              "</style>\n",
              "<ol class=list-inline><li>'miguel'</li><li>'andré'</li><li>'Angel'</li><li>'Cynthia'</li></ol>\n"
            ]
          },
          "metadata": {
            "tags": []
          }
        }
      ]
    },
    {
      "cell_type": "code",
      "metadata": {
        "id": "5afAYn9xn33Y",
        "outputId": "7706256b-a066-49f8-f5d3-2b31f689e754",
        "colab": {
          "base_uri": "https://localhost:8080/",
          "height": 275
        }
      },
      "source": [
        "# Como en una lista\n",
        "# Por posición (como lista)\n",
        "df[3]  # un data.frame con la columna\n",
        "df[[3]]# Los elementos de la columna, directamente.\n",
        "\n"
      ],
      "execution_count": 83,
      "outputs": [
        {
          "output_type": "display_data",
          "data": {
            "text/plain": [
              "  nombre \n",
              "1 miguel \n",
              "2 andré  \n",
              "3 Angel  \n",
              "4 Cynthia"
            ],
            "text/latex": "A data.frame: 4 × 1\n\\begin{tabular}{l}\n nombre\\\\\n <chr>\\\\\n\\hline\n\t miguel \\\\\n\t andré  \\\\\n\t Angel  \\\\\n\t Cynthia\\\\\n\\end{tabular}\n",
            "text/markdown": "\nA data.frame: 4 × 1\n\n| nombre &lt;chr&gt; |\n|---|\n| miguel  |\n| andré   |\n| Angel   |\n| Cynthia |\n\n",
            "text/html": [
              "<table class=\"dataframe\">\n",
              "<caption>A data.frame: 4 × 1</caption>\n",
              "<thead>\n",
              "\t<tr><th scope=col>nombre</th></tr>\n",
              "\t<tr><th scope=col>&lt;chr&gt;</th></tr>\n",
              "</thead>\n",
              "<tbody>\n",
              "\t<tr><td>miguel </td></tr>\n",
              "\t<tr><td>andré  </td></tr>\n",
              "\t<tr><td>Angel  </td></tr>\n",
              "\t<tr><td>Cynthia</td></tr>\n",
              "</tbody>\n",
              "</table>\n"
            ]
          },
          "metadata": {
            "tags": []
          }
        },
        {
          "output_type": "display_data",
          "data": {
            "text/plain": [
              "[1] \"miguel\"  \"andré\"   \"Angel\"   \"Cynthia\""
            ],
            "text/latex": "\\begin{enumerate*}\n\\item 'miguel'\n\\item 'andré'\n\\item 'Angel'\n\\item 'Cynthia'\n\\end{enumerate*}\n",
            "text/markdown": "1. 'miguel'\n2. 'andré'\n3. 'Angel'\n4. 'Cynthia'\n\n\n",
            "text/html": [
              "<style>\n",
              ".list-inline {list-style: none; margin:0; padding: 0}\n",
              ".list-inline>li {display: inline-block}\n",
              ".list-inline>li:not(:last-child)::after {content: \"\\00b7\"; padding: 0 .5ex}\n",
              "</style>\n",
              "<ol class=list-inline><li>'miguel'</li><li>'andré'</li><li>'Angel'</li><li>'Cynthia'</li></ol>\n"
            ]
          },
          "metadata": {
            "tags": []
          }
        }
      ]
    },
    {
      "cell_type": "code",
      "metadata": {
        "id": "tplWOdaMoK1N",
        "outputId": "9adc896c-1537-4b95-a2ab-161a0807b81d",
        "colab": {
          "base_uri": "https://localhost:8080/",
          "height": 275
        }
      },
      "source": [
        "# Por nombre (como lista)\n",
        "df[\"nombre\"]  # un data.frame con la columna\n",
        "df[[\"nombre\"]]# Los elementos de la columna, directamente."
      ],
      "execution_count": 85,
      "outputs": [
        {
          "output_type": "display_data",
          "data": {
            "text/plain": [
              "  nombre \n",
              "1 miguel \n",
              "2 andré  \n",
              "3 Angel  \n",
              "4 Cynthia"
            ],
            "text/latex": "A data.frame: 4 × 1\n\\begin{tabular}{l}\n nombre\\\\\n <chr>\\\\\n\\hline\n\t miguel \\\\\n\t andré  \\\\\n\t Angel  \\\\\n\t Cynthia\\\\\n\\end{tabular}\n",
            "text/markdown": "\nA data.frame: 4 × 1\n\n| nombre &lt;chr&gt; |\n|---|\n| miguel  |\n| andré   |\n| Angel   |\n| Cynthia |\n\n",
            "text/html": [
              "<table class=\"dataframe\">\n",
              "<caption>A data.frame: 4 × 1</caption>\n",
              "<thead>\n",
              "\t<tr><th scope=col>nombre</th></tr>\n",
              "\t<tr><th scope=col>&lt;chr&gt;</th></tr>\n",
              "</thead>\n",
              "<tbody>\n",
              "\t<tr><td>miguel </td></tr>\n",
              "\t<tr><td>andré  </td></tr>\n",
              "\t<tr><td>Angel  </td></tr>\n",
              "\t<tr><td>Cynthia</td></tr>\n",
              "</tbody>\n",
              "</table>\n"
            ]
          },
          "metadata": {
            "tags": []
          }
        },
        {
          "output_type": "display_data",
          "data": {
            "text/plain": [
              "[1] \"miguel\"  \"andré\"   \"Angel\"   \"Cynthia\""
            ],
            "text/latex": "\\begin{enumerate*}\n\\item 'miguel'\n\\item 'andré'\n\\item 'Angel'\n\\item 'Cynthia'\n\\end{enumerate*}\n",
            "text/markdown": "1. 'miguel'\n2. 'andré'\n3. 'Angel'\n4. 'Cynthia'\n\n\n",
            "text/html": [
              "<style>\n",
              ".list-inline {list-style: none; margin:0; padding: 0}\n",
              ".list-inline>li {display: inline-block}\n",
              ".list-inline>li:not(:last-child)::after {content: \"\\00b7\"; padding: 0 .5ex}\n",
              "</style>\n",
              "<ol class=list-inline><li>'miguel'</li><li>'andré'</li><li>'Angel'</li><li>'Cynthia'</li></ol>\n"
            ]
          },
          "metadata": {
            "tags": []
          }
        }
      ]
    },
    {
      "cell_type": "code",
      "metadata": {
        "trusted": true,
        "id": "3t6_J3BHTpSb",
        "outputId": "6688e874-6a86-4105-9f03-94d4eac518d9",
        "colab": {
          "base_uri": "https://localhost:8080/",
          "height": 35
        }
      },
      "source": [
        "# Por \"$\" (como lista)\n",
        "df$nombre # Los elementos de la columna, directamente."
      ],
      "execution_count": 86,
      "outputs": [
        {
          "output_type": "display_data",
          "data": {
            "text/plain": [
              "[1] \"miguel\"  \"andré\"   \"Angel\"   \"Cynthia\""
            ],
            "text/latex": "\\begin{enumerate*}\n\\item 'miguel'\n\\item 'andré'\n\\item 'Angel'\n\\item 'Cynthia'\n\\end{enumerate*}\n",
            "text/markdown": "1. 'miguel'\n2. 'andré'\n3. 'Angel'\n4. 'Cynthia'\n\n\n",
            "text/html": [
              "<style>\n",
              ".list-inline {list-style: none; margin:0; padding: 0}\n",
              ".list-inline>li {display: inline-block}\n",
              ".list-inline>li:not(:last-child)::after {content: \"\\00b7\"; padding: 0 .5ex}\n",
              "</style>\n",
              "<ol class=list-inline><li>'miguel'</li><li>'andré'</li><li>'Angel'</li><li>'Cynthia'</li></ol>\n"
            ]
          },
          "metadata": {
            "tags": []
          }
        }
      ]
    },
    {
      "cell_type": "code",
      "metadata": {
        "trusted": true,
        "id": "CojdmEs9TpSd",
        "outputId": "4730dcb9-558a-42a8-fc20-12d170363cf6",
        "colab": {
          "base_uri": "https://localhost:8080/",
          "height": 146
        }
      },
      "source": [
        "##  Ganamos acceso como matriz\n",
        "# segundafila de df\n",
        "df[2,]\n",
        "\n",
        "# segunda columna y segunda fila\n",
        "\n",
        "df[2,2]\n"
      ],
      "execution_count": 88,
      "outputs": [
        {
          "output_type": "display_data",
          "data": {
            "text/plain": [
              "  num letra nombre\n",
              "2 2   B     andré "
            ],
            "text/latex": "A data.frame: 1 × 3\n\\begin{tabular}{r|lll}\n  & num & letra & nombre\\\\\n  & <int> & <chr> & <chr>\\\\\n\\hline\n\t2 & 2 & B & andré\\\\\n\\end{tabular}\n",
            "text/markdown": "\nA data.frame: 1 × 3\n\n| <!--/--> | num &lt;int&gt; | letra &lt;chr&gt; | nombre &lt;chr&gt; |\n|---|---|---|---|\n| 2 | 2 | B | andré |\n\n",
            "text/html": [
              "<table class=\"dataframe\">\n",
              "<caption>A data.frame: 1 × 3</caption>\n",
              "<thead>\n",
              "\t<tr><th></th><th scope=col>num</th><th scope=col>letra</th><th scope=col>nombre</th></tr>\n",
              "\t<tr><th></th><th scope=col>&lt;int&gt;</th><th scope=col>&lt;chr&gt;</th><th scope=col>&lt;chr&gt;</th></tr>\n",
              "</thead>\n",
              "<tbody>\n",
              "\t<tr><th scope=row>2</th><td>2</td><td>B</td><td>andré</td></tr>\n",
              "</tbody>\n",
              "</table>\n"
            ]
          },
          "metadata": {
            "tags": []
          }
        },
        {
          "output_type": "display_data",
          "data": {
            "text/plain": [
              "[1] \"B\""
            ],
            "text/latex": "'B'",
            "text/markdown": "'B'",
            "text/html": [
              "'B'"
            ]
          },
          "metadata": {
            "tags": []
          }
        }
      ]
    },
    {
      "cell_type": "code",
      "metadata": {
        "trusted": true,
        "id": "FgD5Q8hFTpSf",
        "outputId": "c5d407f3-db77-45e4-828d-039109084555",
        "colab": {
          "base_uri": "https://localhost:8080/",
          "height": 223
        }
      },
      "source": [
        "#Podemos crear nuevas columnas , del mismmo modo que creamos \"slots\" en una lista\n",
        "df$edad <- c(32,32,26,16)\n",
        "df"
      ],
      "execution_count": 89,
      "outputs": [
        {
          "output_type": "display_data",
          "data": {
            "text/plain": [
              "  num letra nombre  edad\n",
              "1 1   A     miguel  32  \n",
              "2 2   B     andré   32  \n",
              "3 3   C     Angel   26  \n",
              "4 4   D     Cynthia 16  "
            ],
            "text/latex": "A data.frame: 4 × 4\n\\begin{tabular}{llll}\n num & letra & nombre & edad\\\\\n <int> & <chr> & <chr> & <dbl>\\\\\n\\hline\n\t 1 & A & miguel  & 32\\\\\n\t 2 & B & andré   & 32\\\\\n\t 3 & C & Angel   & 26\\\\\n\t 4 & D & Cynthia & 16\\\\\n\\end{tabular}\n",
            "text/markdown": "\nA data.frame: 4 × 4\n\n| num &lt;int&gt; | letra &lt;chr&gt; | nombre &lt;chr&gt; | edad &lt;dbl&gt; |\n|---|---|---|---|\n| 1 | A | miguel  | 32 |\n| 2 | B | andré   | 32 |\n| 3 | C | Angel   | 26 |\n| 4 | D | Cynthia | 16 |\n\n",
            "text/html": [
              "<table class=\"dataframe\">\n",
              "<caption>A data.frame: 4 × 4</caption>\n",
              "<thead>\n",
              "\t<tr><th scope=col>num</th><th scope=col>letra</th><th scope=col>nombre</th><th scope=col>edad</th></tr>\n",
              "\t<tr><th scope=col>&lt;int&gt;</th><th scope=col>&lt;chr&gt;</th><th scope=col>&lt;chr&gt;</th><th scope=col>&lt;dbl&gt;</th></tr>\n",
              "</thead>\n",
              "<tbody>\n",
              "\t<tr><td>1</td><td>A</td><td>miguel </td><td>32</td></tr>\n",
              "\t<tr><td>2</td><td>B</td><td>andré  </td><td>32</td></tr>\n",
              "\t<tr><td>3</td><td>C</td><td>Angel  </td><td>26</td></tr>\n",
              "\t<tr><td>4</td><td>D</td><td>Cynthia</td><td>16</td></tr>\n",
              "</tbody>\n",
              "</table>\n"
            ]
          },
          "metadata": {
            "tags": []
          }
        }
      ]
    },
    {
      "cell_type": "code",
      "metadata": {
        "trusted": true,
        "id": "LcNQ5JHVTpSh",
        "outputId": "5d89e405-959c-49d5-bfa7-09a5869f0058",
        "colab": {
          "base_uri": "https://localhost:8080/",
          "height": 240
        }
      },
      "source": [
        "# podemos seleccionar más de una columna a la vez. Ej: seleccionar col1y col3\n",
        "\n",
        "# Referenciando el nombre de las columnas\n",
        "df[,c(\"nombre\",\"edad\")] #mismo comportamiento que una matriz"
      ],
      "execution_count": 90,
      "outputs": [
        {
          "output_type": "display_data",
          "data": {
            "text/plain": [
              "  nombre  edad\n",
              "1 miguel  32  \n",
              "2 andré   32  \n",
              "3 Angel   26  \n",
              "4 Cynthia 16  "
            ],
            "text/latex": "A data.frame: 4 × 2\n\\begin{tabular}{ll}\n nombre & edad\\\\\n <chr> & <dbl>\\\\\n\\hline\n\t miguel  & 32\\\\\n\t andré   & 32\\\\\n\t Angel   & 26\\\\\n\t Cynthia & 16\\\\\n\\end{tabular}\n",
            "text/markdown": "\nA data.frame: 4 × 2\n\n| nombre &lt;chr&gt; | edad &lt;dbl&gt; |\n|---|---|\n| miguel  | 32 |\n| andré   | 32 |\n| Angel   | 26 |\n| Cynthia | 16 |\n\n",
            "text/html": [
              "<table class=\"dataframe\">\n",
              "<caption>A data.frame: 4 × 2</caption>\n",
              "<thead>\n",
              "\t<tr><th scope=col>nombre</th><th scope=col>edad</th></tr>\n",
              "\t<tr><th scope=col>&lt;chr&gt;</th><th scope=col>&lt;dbl&gt;</th></tr>\n",
              "</thead>\n",
              "<tbody>\n",
              "\t<tr><td>miguel </td><td>32</td></tr>\n",
              "\t<tr><td>andré  </td><td>32</td></tr>\n",
              "\t<tr><td>Angel  </td><td>26</td></tr>\n",
              "\t<tr><td>Cynthia</td><td>16</td></tr>\n",
              "</tbody>\n",
              "</table>\n"
            ]
          },
          "metadata": {
            "tags": []
          }
        }
      ]
    },
    {
      "cell_type": "code",
      "metadata": {
        "trusted": true,
        "id": "NHtO3MHwTpSj",
        "outputId": "88bbba21-e27d-4e5c-9780-77cd1e9993e6",
        "colab": {
          "base_uri": "https://localhost:8080/",
          "height": 240
        }
      },
      "source": [
        "# Referenciando las posiciones de las columnas\n",
        "df[,c(3,4)] #mismo comportamiento que una matriz"
      ],
      "execution_count": 91,
      "outputs": [
        {
          "output_type": "display_data",
          "data": {
            "text/plain": [
              "  nombre  edad\n",
              "1 miguel  32  \n",
              "2 andré   32  \n",
              "3 Angel   26  \n",
              "4 Cynthia 16  "
            ],
            "text/latex": "A data.frame: 4 × 2\n\\begin{tabular}{ll}\n nombre & edad\\\\\n <chr> & <dbl>\\\\\n\\hline\n\t miguel  & 32\\\\\n\t andré   & 32\\\\\n\t Angel   & 26\\\\\n\t Cynthia & 16\\\\\n\\end{tabular}\n",
            "text/markdown": "\nA data.frame: 4 × 2\n\n| nombre &lt;chr&gt; | edad &lt;dbl&gt; |\n|---|---|\n| miguel  | 32 |\n| andré   | 32 |\n| Angel   | 26 |\n| Cynthia | 16 |\n\n",
            "text/html": [
              "<table class=\"dataframe\">\n",
              "<caption>A data.frame: 4 × 2</caption>\n",
              "<thead>\n",
              "\t<tr><th scope=col>nombre</th><th scope=col>edad</th></tr>\n",
              "\t<tr><th scope=col>&lt;chr&gt;</th><th scope=col>&lt;dbl&gt;</th></tr>\n",
              "</thead>\n",
              "<tbody>\n",
              "\t<tr><td>miguel </td><td>32</td></tr>\n",
              "\t<tr><td>andré  </td><td>32</td></tr>\n",
              "\t<tr><td>Angel  </td><td>26</td></tr>\n",
              "\t<tr><td>Cynthia</td><td>16</td></tr>\n",
              "</tbody>\n",
              "</table>\n"
            ]
          },
          "metadata": {
            "tags": []
          }
        }
      ]
    },
    {
      "cell_type": "code",
      "metadata": {
        "trusted": true,
        "id": "RmsAhhsWTpSm",
        "outputId": "50a4ca8a-5575-4c2d-e42e-664c3283e261",
        "colab": {
          "base_uri": "https://localhost:8080/",
          "height": 240
        }
      },
      "source": [
        "# Se mantiene la lógica de acceso a los sots de una lista.\n",
        "df[c(\"nombre\",\"edad\")] # mismo comportamiento que una lista"
      ],
      "execution_count": 92,
      "outputs": [
        {
          "output_type": "display_data",
          "data": {
            "text/plain": [
              "  nombre  edad\n",
              "1 miguel  32  \n",
              "2 andré   32  \n",
              "3 Angel   26  \n",
              "4 Cynthia 16  "
            ],
            "text/latex": "A data.frame: 4 × 2\n\\begin{tabular}{ll}\n nombre & edad\\\\\n <chr> & <dbl>\\\\\n\\hline\n\t miguel  & 32\\\\\n\t andré   & 32\\\\\n\t Angel   & 26\\\\\n\t Cynthia & 16\\\\\n\\end{tabular}\n",
            "text/markdown": "\nA data.frame: 4 × 2\n\n| nombre &lt;chr&gt; | edad &lt;dbl&gt; |\n|---|---|\n| miguel  | 32 |\n| andré   | 32 |\n| Angel   | 26 |\n| Cynthia | 16 |\n\n",
            "text/html": [
              "<table class=\"dataframe\">\n",
              "<caption>A data.frame: 4 × 2</caption>\n",
              "<thead>\n",
              "\t<tr><th scope=col>nombre</th><th scope=col>edad</th></tr>\n",
              "\t<tr><th scope=col>&lt;chr&gt;</th><th scope=col>&lt;dbl&gt;</th></tr>\n",
              "</thead>\n",
              "<tbody>\n",
              "\t<tr><td>miguel </td><td>32</td></tr>\n",
              "\t<tr><td>andré  </td><td>32</td></tr>\n",
              "\t<tr><td>Angel  </td><td>26</td></tr>\n",
              "\t<tr><td>Cynthia</td><td>16</td></tr>\n",
              "</tbody>\n",
              "</table>\n"
            ]
          },
          "metadata": {
            "tags": []
          }
        }
      ]
    }
  ]
}