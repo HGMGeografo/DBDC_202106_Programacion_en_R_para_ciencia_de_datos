{
  "nbformat": 4,
  "nbformat_minor": 0,
  "metadata": {
    "colab": {
      "name": "Clase_2_01_matrices.ipynb",
      "provenance": [],
      "include_colab_link": true
    },
    "kernelspec": {
      "name": "ir",
      "display_name": "R"
    }
  },
  "cells": [
    {
      "cell_type": "markdown",
      "metadata": {
        "id": "view-in-github",
        "colab_type": "text"
      },
      "source": [
        "<a href=\"https://colab.research.google.com/github/majorquev/DBDC_202106_Programacion_en_R_para_ciencia_de_datos/blob/main/Clases/Clase2/Clase_2_01_matrices_desarrollo.ipynb\" target=\"_parent\"><img src=\"https://colab.research.google.com/assets/colab-badge.svg\" alt=\"Open In Colab\"/></a>"
      ]
    },
    {
      "cell_type": "markdown",
      "metadata": {
        "collapsed": true,
        "id": "qGvtNqVzSqoX"
      },
      "source": [
        "# Parte 1: Introducción a R (continuación)\n",
        "\n",
        "**Autor:** Miguel Jorquera Viguera<br>\n",
        "**E-mail:** majorquev@gmail.com<br>\n",
        "**Ayudante:** Jorge Arévalo Labarca <br>\n",
        "**E-mail ayudante:** jorge.arevalol@usach.cl\n",
        "\n",
        "\n",
        "\n",
        "### 3.2 Matrices\n",
        "\n",
        "En R, así como en otros lenguajes de programación, una maztriz es básicamente un arreglo bi-dimensional, donde las entradas horizontales se entienden como filas y las verticales como columnas. Es posible imaginar una matriz como un arreglo de vectores como columnas (o filas) del mismo largo.\n",
        "\n",
        " * ¿Qué se guarda en una matriz?<br>\n",
        "    Sólo datos de un mismo tipo. \n",
        "     \n",
        " * ¿Cómo se declara una matriz?<br>\n",
        "    Se puede definir de varias maneras, indicando los elementos que la componen, o combinando vectores como filas o columnas.\n",
        " \n",
        " * ¿Cómo se accede a sus elementos?<br>\n",
        "    Indicando la posición del vector fila, seguido de la posición del vector columna (como es usual)."
      ]
    },
    {
      "cell_type": "code",
      "metadata": {
        "trusted": true,
        "id": "TKVO3cuZSqoY",
        "outputId": "80f8bb2e-dee9-4563-eb47-204c37ae581e",
        "colab": {
          "base_uri": "https://localhost:8080/",
          "height": 114
        }
      },
      "source": [
        "# 3.2 Matrices ------------\n",
        "#?matrix de dos filas y 3 columnas, parametros ncol, nrow y byrow\n",
        "# recibe un vector de elementos\n",
        "\n",
        "M1 <- matrix(c(10,30,40,100,600,59), ncol = 3, nrow = 2 )\n",
        "M1"
      ],
      "execution_count": 3,
      "outputs": [
        {
          "output_type": "display_data",
          "data": {
            "text/plain": [
              "     [,1] [,2] [,3]\n",
              "[1,] 10    40  600 \n",
              "[2,] 30   100   59 "
            ],
            "text/latex": "A matrix: 2 × 3 of type dbl\n\\begin{tabular}{lll}\n\t 10 &  40 & 600\\\\\n\t 30 & 100 &  59\\\\\n\\end{tabular}\n",
            "text/markdown": "\nA matrix: 2 × 3 of type dbl\n\n| 10 |  40 | 600 |\n| 30 | 100 |  59 |\n\n",
            "text/html": [
              "<table class=\"dataframe\">\n",
              "<caption>A matrix: 2 × 3 of type dbl</caption>\n",
              "<tbody>\n",
              "\t<tr><td>10</td><td> 40</td><td>600</td></tr>\n",
              "\t<tr><td>30</td><td>100</td><td> 59</td></tr>\n",
              "</tbody>\n",
              "</table>\n"
            ]
          },
          "metadata": {
            "tags": []
          }
        }
      ]
    },
    {
      "cell_type": "code",
      "metadata": {
        "id": "NArar9K0VbTD",
        "outputId": "7b796359-6ee3-406e-ac22-c64d804f640b",
        "colab": {
          "base_uri": "https://localhost:8080/",
          "height": 114
        }
      },
      "source": [
        "M1 <- matrix(c(10,30,40,100,600,59), ncol = 3, nrow = 2, byrow = TRUE)\n",
        "M1"
      ],
      "execution_count": 4,
      "outputs": [
        {
          "output_type": "display_data",
          "data": {
            "text/plain": [
              "     [,1] [,2] [,3]\n",
              "[1,]  10   30  40  \n",
              "[2,] 100  600  59  "
            ],
            "text/latex": "A matrix: 2 × 3 of type dbl\n\\begin{tabular}{lll}\n\t  10 &  30 & 40\\\\\n\t 100 & 600 & 59\\\\\n\\end{tabular}\n",
            "text/markdown": "\nA matrix: 2 × 3 of type dbl\n\n|  10 |  30 | 40 |\n| 100 | 600 | 59 |\n\n",
            "text/html": [
              "<table class=\"dataframe\">\n",
              "<caption>A matrix: 2 × 3 of type dbl</caption>\n",
              "<tbody>\n",
              "\t<tr><td> 10</td><td> 30</td><td>40</td></tr>\n",
              "\t<tr><td>100</td><td>600</td><td>59</td></tr>\n",
              "</tbody>\n",
              "</table>\n"
            ]
          },
          "metadata": {
            "tags": []
          }
        }
      ]
    },
    {
      "cell_type": "code",
      "metadata": {
        "id": "fUR79L3QU_PL"
      },
      "source": [
        ""
      ],
      "execution_count": 1,
      "outputs": []
    },
    {
      "cell_type": "code",
      "metadata": {
        "trusted": true,
        "id": "Gm3PDTciSqof",
        "outputId": "f88bf8aa-32b1-4d43-f333-91924d93c44a",
        "colab": {
          "base_uri": "https://localhost:8080/",
          "height": 52
        }
      },
      "source": [
        "# clase y atributo dim\n",
        "class(M1)\n",
        "typeof(M1)"
      ],
      "execution_count": 6,
      "outputs": [
        {
          "output_type": "display_data",
          "data": {
            "text/plain": [
              "[1] \"matrix\" \"array\" "
            ],
            "text/latex": "\\begin{enumerate*}\n\\item 'matrix'\n\\item 'array'\n\\end{enumerate*}\n",
            "text/markdown": "1. 'matrix'\n2. 'array'\n\n\n",
            "text/html": [
              "<style>\n",
              ".list-inline {list-style: none; margin:0; padding: 0}\n",
              ".list-inline>li {display: inline-block}\n",
              ".list-inline>li:not(:last-child)::after {content: \"\\00b7\"; padding: 0 .5ex}\n",
              "</style>\n",
              "<ol class=list-inline><li>'matrix'</li><li>'array'</li></ol>\n"
            ]
          },
          "metadata": {
            "tags": []
          }
        },
        {
          "output_type": "display_data",
          "data": {
            "text/plain": [
              "[1] \"double\""
            ],
            "text/latex": "'double'",
            "text/markdown": "'double'",
            "text/html": [
              "'double'"
            ]
          },
          "metadata": {
            "tags": []
          }
        }
      ]
    },
    {
      "cell_type": "code",
      "metadata": {
        "trusted": true,
        "id": "2TXNSoedSqoh"
      },
      "source": [
        "# Genere dos vectores del mismo largo y forme una matriz.\n",
        "v1 <- c(8,7,6,5)\n",
        "v2 <- c(1,1,2,3)\n",
        "v3 <- c(0,1,0,1)\n"
      ],
      "execution_count": 8,
      "outputs": []
    },
    {
      "cell_type": "code",
      "metadata": {
        "trusted": true,
        "id": "W3g76XEkSqok",
        "outputId": "e5026ba2-1854-40a1-be3a-98ad5ca0cfcd",
        "colab": {
          "base_uri": "https://localhost:8080/",
          "height": 209
        }
      },
      "source": [
        "# funciones cbind() [une vectores como columnas]\n",
        "# y rbind() [une vectores como filas] (pensadas para matrices)\n",
        "#?cbind\n",
        "\n",
        "M2 <- cbind(v1,v2,v3) # Dispone los vectores como columnas\n",
        "M2\n"
      ],
      "execution_count": 9,
      "outputs": [
        {
          "output_type": "display_data",
          "data": {
            "text/plain": [
              "     v1 v2 v3\n",
              "[1,] 8  1  0 \n",
              "[2,] 7  1  1 \n",
              "[3,] 6  2  0 \n",
              "[4,] 5  3  1 "
            ],
            "text/latex": "A matrix: 4 × 3 of type dbl\n\\begin{tabular}{lll}\n v1 & v2 & v3\\\\\n\\hline\n\t 8 & 1 & 0\\\\\n\t 7 & 1 & 1\\\\\n\t 6 & 2 & 0\\\\\n\t 5 & 3 & 1\\\\\n\\end{tabular}\n",
            "text/markdown": "\nA matrix: 4 × 3 of type dbl\n\n| v1 | v2 | v3 |\n|---|---|---|\n| 8 | 1 | 0 |\n| 7 | 1 | 1 |\n| 6 | 2 | 0 |\n| 5 | 3 | 1 |\n\n",
            "text/html": [
              "<table class=\"dataframe\">\n",
              "<caption>A matrix: 4 × 3 of type dbl</caption>\n",
              "<thead>\n",
              "\t<tr><th scope=col>v1</th><th scope=col>v2</th><th scope=col>v3</th></tr>\n",
              "</thead>\n",
              "<tbody>\n",
              "\t<tr><td>8</td><td>1</td><td>0</td></tr>\n",
              "\t<tr><td>7</td><td>1</td><td>1</td></tr>\n",
              "\t<tr><td>6</td><td>2</td><td>0</td></tr>\n",
              "\t<tr><td>5</td><td>3</td><td>1</td></tr>\n",
              "</tbody>\n",
              "</table>\n"
            ]
          },
          "metadata": {
            "tags": []
          }
        }
      ]
    },
    {
      "cell_type": "code",
      "metadata": {
        "id": "MjdYBPuaWP5X",
        "outputId": "5890ad05-1f63-40cf-b3af-e5961eb49797",
        "colab": {
          "base_uri": "https://localhost:8080/",
          "height": 145
        }
      },
      "source": [
        "M3 <- rbind(v1,v2,v3) # Dispone los vectores como filas.\n",
        "M3\n"
      ],
      "execution_count": 10,
      "outputs": [
        {
          "output_type": "display_data",
          "data": {
            "text/plain": [
              "   [,1] [,2] [,3] [,4]\n",
              "v1 8    7    6    5   \n",
              "v2 1    1    2    3   \n",
              "v3 0    1    0    1   "
            ],
            "text/latex": "A matrix: 3 × 4 of type dbl\n\\begin{tabular}{r|llll}\n\tv1 & 8 & 7 & 6 & 5\\\\\n\tv2 & 1 & 1 & 2 & 3\\\\\n\tv3 & 0 & 1 & 0 & 1\\\\\n\\end{tabular}\n",
            "text/markdown": "\nA matrix: 3 × 4 of type dbl\n\n| v1 | 8 | 7 | 6 | 5 |\n| v2 | 1 | 1 | 2 | 3 |\n| v3 | 0 | 1 | 0 | 1 |\n\n",
            "text/html": [
              "<table class=\"dataframe\">\n",
              "<caption>A matrix: 3 × 4 of type dbl</caption>\n",
              "<tbody>\n",
              "\t<tr><th scope=row>v1</th><td>8</td><td>7</td><td>6</td><td>5</td></tr>\n",
              "\t<tr><th scope=row>v2</th><td>1</td><td>1</td><td>2</td><td>3</td></tr>\n",
              "\t<tr><th scope=row>v3</th><td>0</td><td>1</td><td>0</td><td>1</td></tr>\n",
              "</tbody>\n",
              "</table>\n"
            ]
          },
          "metadata": {
            "tags": []
          }
        }
      ]
    },
    {
      "cell_type": "code",
      "metadata": {
        "trusted": true,
        "id": "gDzbcsNVSqom",
        "outputId": "21ae97d3-453b-46f6-8f64-f4a4b8d395e9",
        "colab": {
          "base_uri": "https://localhost:8080/",
          "height": 133
        }
      },
      "source": [
        "# si combinamos vectores de distinto largo?\n",
        "# R recicla valores (recordar explicación)\n",
        "v4 <- c(100,200,300)\n",
        "rbind(v1,v4)\n",
        "\n"
      ],
      "execution_count": 15,
      "outputs": [
        {
          "output_type": "stream",
          "text": [
            "Warning message in rbind(v1, v4):\n",
            "“number of columns of result is not a multiple of vector length (arg 2)”\n"
          ],
          "name": "stderr"
        },
        {
          "output_type": "display_data",
          "data": {
            "text/plain": [
              "   [,1] [,2] [,3] [,4]\n",
              "v1   8    7    6    5 \n",
              "v4 100  200  300  100 "
            ],
            "text/latex": "A matrix: 2 × 4 of type dbl\n\\begin{tabular}{r|llll}\n\tv1 &   8 &   7 &   6 &   5\\\\\n\tv4 & 100 & 200 & 300 & 100\\\\\n\\end{tabular}\n",
            "text/markdown": "\nA matrix: 2 × 4 of type dbl\n\n| v1 |   8 |   7 |   6 |   5 |\n| v4 | 100 | 200 | 300 | 100 |\n\n",
            "text/html": [
              "<table class=\"dataframe\">\n",
              "<caption>A matrix: 2 × 4 of type dbl</caption>\n",
              "<tbody>\n",
              "\t<tr><th scope=row>v1</th><td>  8</td><td>  7</td><td>  6</td><td>  5</td></tr>\n",
              "\t<tr><th scope=row>v4</th><td>100</td><td>200</td><td>300</td><td>100</td></tr>\n",
              "</tbody>\n",
              "</table>\n"
            ]
          },
          "metadata": {
            "tags": []
          }
        }
      ]
    },
    {
      "cell_type": "code",
      "metadata": {
        "trusted": true,
        "id": "QLOH0514Sqoo",
        "outputId": "2420b66c-8754-4d2f-c486-3a9b4978ee35",
        "colab": {
          "base_uri": "https://localhost:8080/",
          "height": 208
        }
      },
      "source": [
        "# función diag para la definición de matrices diagonales\n",
        "#?diag \n",
        "\n",
        "diag(c(1,2,3,4,5))\n",
        "\n"
      ],
      "execution_count": 12,
      "outputs": [
        {
          "output_type": "display_data",
          "data": {
            "text/plain": [
              "     [,1] [,2] [,3] [,4] [,5]\n",
              "[1,] 1    0    0    0    0   \n",
              "[2,] 0    2    0    0    0   \n",
              "[3,] 0    0    3    0    0   \n",
              "[4,] 0    0    0    4    0   \n",
              "[5,] 0    0    0    0    5   "
            ],
            "text/latex": "A matrix: 5 × 5 of type dbl\n\\begin{tabular}{lllll}\n\t 1 & 0 & 0 & 0 & 0\\\\\n\t 0 & 2 & 0 & 0 & 0\\\\\n\t 0 & 0 & 3 & 0 & 0\\\\\n\t 0 & 0 & 0 & 4 & 0\\\\\n\t 0 & 0 & 0 & 0 & 5\\\\\n\\end{tabular}\n",
            "text/markdown": "\nA matrix: 5 × 5 of type dbl\n\n| 1 | 0 | 0 | 0 | 0 |\n| 0 | 2 | 0 | 0 | 0 |\n| 0 | 0 | 3 | 0 | 0 |\n| 0 | 0 | 0 | 4 | 0 |\n| 0 | 0 | 0 | 0 | 5 |\n\n",
            "text/html": [
              "<table class=\"dataframe\">\n",
              "<caption>A matrix: 5 × 5 of type dbl</caption>\n",
              "<tbody>\n",
              "\t<tr><td>1</td><td>0</td><td>0</td><td>0</td><td>0</td></tr>\n",
              "\t<tr><td>0</td><td>2</td><td>0</td><td>0</td><td>0</td></tr>\n",
              "\t<tr><td>0</td><td>0</td><td>3</td><td>0</td><td>0</td></tr>\n",
              "\t<tr><td>0</td><td>0</td><td>0</td><td>4</td><td>0</td></tr>\n",
              "\t<tr><td>0</td><td>0</td><td>0</td><td>0</td><td>5</td></tr>\n",
              "</tbody>\n",
              "</table>\n"
            ]
          },
          "metadata": {
            "tags": []
          }
        }
      ]
    },
    {
      "cell_type": "code",
      "metadata": {
        "trusted": true,
        "id": "xIfUV82ASqot",
        "outputId": "dd5d6c2e-3b1d-41ef-a290-3aa637034efc",
        "colab": {
          "base_uri": "https://localhost:8080/",
          "height": 244
        }
      },
      "source": [
        "# Podemos acceder a los elementos de una matriz\n",
        "# indicando la posición de la fila y la columna de la casilla correspondiente.\n",
        "# Ejemplo:\n",
        "M2\n",
        "# quiero rescatar el elemento \"(2,1)\", de M2\n",
        "\n",
        "M2[2,1]\n",
        "\n",
        "# CUIDADO:No es lo mismo que \n",
        "M2[c(2,1)] # R entiende también la matriz como un gran vector (por columnas) y lo anterior retorna los elmentos 2 y 1 de dicho vector"
      ],
      "execution_count": 16,
      "outputs": [
        {
          "output_type": "display_data",
          "data": {
            "text/plain": [
              "     v1 v2 v3\n",
              "[1,] 8  1  0 \n",
              "[2,] 7  1  1 \n",
              "[3,] 6  2  0 \n",
              "[4,] 5  3  1 "
            ],
            "text/latex": "A matrix: 4 × 3 of type dbl\n\\begin{tabular}{lll}\n v1 & v2 & v3\\\\\n\\hline\n\t 8 & 1 & 0\\\\\n\t 7 & 1 & 1\\\\\n\t 6 & 2 & 0\\\\\n\t 5 & 3 & 1\\\\\n\\end{tabular}\n",
            "text/markdown": "\nA matrix: 4 × 3 of type dbl\n\n| v1 | v2 | v3 |\n|---|---|---|\n| 8 | 1 | 0 |\n| 7 | 1 | 1 |\n| 6 | 2 | 0 |\n| 5 | 3 | 1 |\n\n",
            "text/html": [
              "<table class=\"dataframe\">\n",
              "<caption>A matrix: 4 × 3 of type dbl</caption>\n",
              "<thead>\n",
              "\t<tr><th scope=col>v1</th><th scope=col>v2</th><th scope=col>v3</th></tr>\n",
              "</thead>\n",
              "<tbody>\n",
              "\t<tr><td>8</td><td>1</td><td>0</td></tr>\n",
              "\t<tr><td>7</td><td>1</td><td>1</td></tr>\n",
              "\t<tr><td>6</td><td>2</td><td>0</td></tr>\n",
              "\t<tr><td>5</td><td>3</td><td>1</td></tr>\n",
              "</tbody>\n",
              "</table>\n"
            ]
          },
          "metadata": {
            "tags": []
          }
        },
        {
          "output_type": "display_data",
          "data": {
            "text/plain": [
              "v1 \n",
              " 7 "
            ],
            "text/latex": "\\textbf{v1:} 7",
            "text/markdown": "**v1:** 7",
            "text/html": [
              "<strong>v1:</strong> 7"
            ]
          },
          "metadata": {
            "tags": []
          }
        },
        {
          "output_type": "display_data",
          "data": {
            "text/plain": [
              "[1] 7 8"
            ],
            "text/latex": "\\begin{enumerate*}\n\\item 7\n\\item 8\n\\end{enumerate*}\n",
            "text/markdown": "1. 7\n2. 8\n\n\n",
            "text/html": [
              "<style>\n",
              ".list-inline {list-style: none; margin:0; padding: 0}\n",
              ".list-inline>li {display: inline-block}\n",
              ".list-inline>li:not(:last-child)::after {content: \"\\00b7\"; padding: 0 .5ex}\n",
              "</style>\n",
              "<ol class=list-inline><li>7</li><li>8</li></ol>\n"
            ]
          },
          "metadata": {
            "tags": []
          }
        }
      ]
    },
    {
      "cell_type": "code",
      "metadata": {
        "trusted": true,
        "id": "0irI-CBJSqou",
        "outputId": "70dd79c1-b580-4111-f692-650df21ae4f7",
        "colab": {
          "base_uri": "https://localhost:8080/",
          "height": 52
        }
      },
      "source": [
        "# Para acceder a una fila completa\n",
        "M2[2,]\n",
        "\n",
        "\n",
        "# Para acceder a una columna completa\n",
        "M2[,3]\n"
      ],
      "execution_count": 18,
      "outputs": [
        {
          "output_type": "display_data",
          "data": {
            "text/plain": [
              "v1 v2 v3 \n",
              " 7  1  1 "
            ],
            "text/latex": "\\begin{description*}\n\\item[v1] 7\n\\item[v2] 1\n\\item[v3] 1\n\\end{description*}\n",
            "text/markdown": "v1\n:   7v2\n:   1v3\n:   1\n\n",
            "text/html": [
              "<style>\n",
              ".dl-inline {width: auto; margin:0; padding: 0}\n",
              ".dl-inline>dt, .dl-inline>dd {float: none; width: auto; display: inline-block}\n",
              ".dl-inline>dt::after {content: \":\\0020\"; padding-right: .5ex}\n",
              ".dl-inline>dt:not(:first-of-type) {padding-left: .5ex}\n",
              "</style><dl class=dl-inline><dt>v1</dt><dd>7</dd><dt>v2</dt><dd>1</dd><dt>v3</dt><dd>1</dd></dl>\n"
            ]
          },
          "metadata": {
            "tags": []
          }
        },
        {
          "output_type": "display_data",
          "data": {
            "text/plain": [
              "[1] 0 1 0 1"
            ],
            "text/latex": "\\begin{enumerate*}\n\\item 0\n\\item 1\n\\item 0\n\\item 1\n\\end{enumerate*}\n",
            "text/markdown": "1. 0\n2. 1\n3. 0\n4. 1\n\n\n",
            "text/html": [
              "<style>\n",
              ".list-inline {list-style: none; margin:0; padding: 0}\n",
              ".list-inline>li {display: inline-block}\n",
              ".list-inline>li:not(:last-child)::after {content: \"\\00b7\"; padding: 0 .5ex}\n",
              "</style>\n",
              "<ol class=list-inline><li>0</li><li>1</li><li>0</li><li>1</li></ol>\n"
            ]
          },
          "metadata": {
            "tags": []
          }
        }
      ]
    },
    {
      "cell_type": "code",
      "metadata": {
        "trusted": true,
        "id": "rkq7J4nLSqow"
      },
      "source": [
        "#Recordemos que podemos actualizar elementos de un vector como:\n",
        "\n",
        "# quiero cambiar el 1 por un 99 (el 1 de la pos 2,2)\n",
        "M2[2,2] <- 99 "
      ],
      "execution_count": 19,
      "outputs": []
    },
    {
      "cell_type": "code",
      "metadata": {
        "id": "wmXp5oCaYgyd",
        "outputId": "81a045d3-f388-403c-836f-da3feeb7a058",
        "colab": {
          "base_uri": "https://localhost:8080/",
          "height": 209
        }
      },
      "source": [
        "M2"
      ],
      "execution_count": 20,
      "outputs": [
        {
          "output_type": "display_data",
          "data": {
            "text/plain": [
              "     v1 v2 v3\n",
              "[1,] 8   1 0 \n",
              "[2,] 7  99 1 \n",
              "[3,] 6   2 0 \n",
              "[4,] 5   3 1 "
            ],
            "text/latex": "A matrix: 4 × 3 of type dbl\n\\begin{tabular}{lll}\n v1 & v2 & v3\\\\\n\\hline\n\t 8 &  1 & 0\\\\\n\t 7 & 99 & 1\\\\\n\t 6 &  2 & 0\\\\\n\t 5 &  3 & 1\\\\\n\\end{tabular}\n",
            "text/markdown": "\nA matrix: 4 × 3 of type dbl\n\n| v1 | v2 | v3 |\n|---|---|---|\n| 8 |  1 | 0 |\n| 7 | 99 | 1 |\n| 6 |  2 | 0 |\n| 5 |  3 | 1 |\n\n",
            "text/html": [
              "<table class=\"dataframe\">\n",
              "<caption>A matrix: 4 × 3 of type dbl</caption>\n",
              "<thead>\n",
              "\t<tr><th scope=col>v1</th><th scope=col>v2</th><th scope=col>v3</th></tr>\n",
              "</thead>\n",
              "<tbody>\n",
              "\t<tr><td>8</td><td> 1</td><td>0</td></tr>\n",
              "\t<tr><td>7</td><td>99</td><td>1</td></tr>\n",
              "\t<tr><td>6</td><td> 2</td><td>0</td></tr>\n",
              "\t<tr><td>5</td><td> 3</td><td>1</td></tr>\n",
              "</tbody>\n",
              "</table>\n"
            ]
          },
          "metadata": {
            "tags": []
          }
        }
      ]
    },
    {
      "cell_type": "code",
      "metadata": {
        "id": "KstW38ylSkSV",
        "outputId": "a31f1179-0b55-420b-c0ab-281e6d0e6848",
        "colab": {
          "base_uri": "https://localhost:8080/",
          "height": 53
        }
      },
      "source": [
        "# Nombres de columnas\n",
        "colnames(M2)\n",
        "# Nomrbes de las filas\n",
        "rownames(M2)"
      ],
      "execution_count": 22,
      "outputs": [
        {
          "output_type": "display_data",
          "data": {
            "text/plain": [
              "[1] \"v1\" \"v2\" \"v3\""
            ],
            "text/latex": "\\begin{enumerate*}\n\\item 'v1'\n\\item 'v2'\n\\item 'v3'\n\\end{enumerate*}\n",
            "text/markdown": "1. 'v1'\n2. 'v2'\n3. 'v3'\n\n\n",
            "text/html": [
              "<style>\n",
              ".list-inline {list-style: none; margin:0; padding: 0}\n",
              ".list-inline>li {display: inline-block}\n",
              ".list-inline>li:not(:last-child)::after {content: \"\\00b7\"; padding: 0 .5ex}\n",
              "</style>\n",
              "<ol class=list-inline><li>'v1'</li><li>'v2'</li><li>'v3'</li></ol>\n"
            ]
          },
          "metadata": {
            "tags": []
          }
        },
        {
          "output_type": "display_data",
          "data": {
            "text/plain": [
              "NULL"
            ]
          },
          "metadata": {
            "tags": []
          }
        }
      ]
    },
    {
      "cell_type": "code",
      "metadata": {
        "id": "8xwjm0bYZCGd"
      },
      "source": [
        "rownames(M2) <- c(\"fila1\" , \"fila2\", \"fila3\", \"fila4\")"
      ],
      "execution_count": 23,
      "outputs": []
    },
    {
      "cell_type": "code",
      "metadata": {
        "id": "QiFPmE3PZKtz",
        "outputId": "efedf739-0a80-400d-a976-76afc43d0109",
        "colab": {
          "base_uri": "https://localhost:8080/",
          "height": 209
        }
      },
      "source": [
        "M2"
      ],
      "execution_count": 24,
      "outputs": [
        {
          "output_type": "display_data",
          "data": {
            "text/plain": [
              "      v1 v2 v3\n",
              "fila1 8   1 0 \n",
              "fila2 7  99 1 \n",
              "fila3 6   2 0 \n",
              "fila4 5   3 1 "
            ],
            "text/latex": "A matrix: 4 × 3 of type dbl\n\\begin{tabular}{r|lll}\n  & v1 & v2 & v3\\\\\n\\hline\n\tfila1 & 8 &  1 & 0\\\\\n\tfila2 & 7 & 99 & 1\\\\\n\tfila3 & 6 &  2 & 0\\\\\n\tfila4 & 5 &  3 & 1\\\\\n\\end{tabular}\n",
            "text/markdown": "\nA matrix: 4 × 3 of type dbl\n\n| <!--/--> | v1 | v2 | v3 |\n|---|---|---|---|\n| fila1 | 8 |  1 | 0 |\n| fila2 | 7 | 99 | 1 |\n| fila3 | 6 |  2 | 0 |\n| fila4 | 5 |  3 | 1 |\n\n",
            "text/html": [
              "<table class=\"dataframe\">\n",
              "<caption>A matrix: 4 × 3 of type dbl</caption>\n",
              "<thead>\n",
              "\t<tr><th></th><th scope=col>v1</th><th scope=col>v2</th><th scope=col>v3</th></tr>\n",
              "</thead>\n",
              "<tbody>\n",
              "\t<tr><th scope=row>fila1</th><td>8</td><td> 1</td><td>0</td></tr>\n",
              "\t<tr><th scope=row>fila2</th><td>7</td><td>99</td><td>1</td></tr>\n",
              "\t<tr><th scope=row>fila3</th><td>6</td><td> 2</td><td>0</td></tr>\n",
              "\t<tr><th scope=row>fila4</th><td>5</td><td> 3</td><td>1</td></tr>\n",
              "</tbody>\n",
              "</table>\n"
            ]
          },
          "metadata": {
            "tags": []
          }
        }
      ]
    },
    {
      "cell_type": "code",
      "metadata": {
        "id": "cm1x9DJmY5wn",
        "outputId": "6b58a99f-f237-4c4c-ebf0-fc3f77dfc6a5",
        "colab": {
          "base_uri": "https://localhost:8080/",
          "height": 35
        }
      },
      "source": [
        "# Acceso mediante nombres\n",
        "M2[\"fila2\",\"v1\"]"
      ],
      "execution_count": 25,
      "outputs": [
        {
          "output_type": "display_data",
          "data": {
            "text/plain": [
              "[1] 7"
            ],
            "text/latex": "7",
            "text/markdown": "7",
            "text/html": [
              "7"
            ]
          },
          "metadata": {
            "tags": []
          }
        }
      ]
    },
    {
      "cell_type": "code",
      "metadata": {
        "trusted": true,
        "id": "qt9bcwQgSqo0",
        "outputId": "5815071e-55c1-4eda-e051-260413b0926e",
        "colab": {
          "base_uri": "https://localhost:8080/",
          "height": 159
        }
      },
      "source": [
        "# Acceso mediante \"indicatrices\" lógicas \n",
        "#Quiero obtener los elementos (1,1) y (2,3) de M2\n",
        "# 1: Crear una matriz de 4x3 con TRUE en dichas posiciones y FALSE en las restantes.\n",
        "\n",
        "\n",
        "indices <- matrix(c(T,F,F,F, F,F,F,F  ,F,T,F,F),\n",
        "                  nrow = 4, \n",
        "                  ncol = 3,\n",
        "                  byrow = FALSE)\n",
        "indices "
      ],
      "execution_count": 28,
      "outputs": [
        {
          "output_type": "display_data",
          "data": {
            "text/plain": [
              "     [,1]  [,2]  [,3] \n",
              "[1,]  TRUE FALSE FALSE\n",
              "[2,] FALSE FALSE  TRUE\n",
              "[3,] FALSE FALSE FALSE\n",
              "[4,] FALSE FALSE FALSE"
            ],
            "text/latex": "A matrix: 4 × 3 of type lgl\n\\begin{tabular}{lll}\n\t  TRUE & FALSE & FALSE\\\\\n\t FALSE & FALSE &  TRUE\\\\\n\t FALSE & FALSE & FALSE\\\\\n\t FALSE & FALSE & FALSE\\\\\n\\end{tabular}\n",
            "text/markdown": "\nA matrix: 4 × 3 of type lgl\n\n|  TRUE | FALSE | FALSE |\n| FALSE | FALSE |  TRUE |\n| FALSE | FALSE | FALSE |\n| FALSE | FALSE | FALSE |\n\n",
            "text/html": [
              "<table class=\"dataframe\">\n",
              "<caption>A matrix: 4 × 3 of type lgl</caption>\n",
              "<tbody>\n",
              "\t<tr><td> TRUE</td><td>FALSE</td><td>FALSE</td></tr>\n",
              "\t<tr><td>FALSE</td><td>FALSE</td><td> TRUE</td></tr>\n",
              "\t<tr><td>FALSE</td><td>FALSE</td><td>FALSE</td></tr>\n",
              "\t<tr><td>FALSE</td><td>FALSE</td><td>FALSE</td></tr>\n",
              "</tbody>\n",
              "</table>\n"
            ]
          },
          "metadata": {
            "tags": []
          }
        }
      ]
    },
    {
      "cell_type": "code",
      "metadata": {
        "trusted": true,
        "id": "m4DDikCTSqo2",
        "outputId": "75b5e3e1-e8e7-48e0-95fa-e009e4e6f68e",
        "colab": {
          "base_uri": "https://localhost:8080/",
          "height": 35
        }
      },
      "source": [
        "# Podemos evaluar las casillas de una atriz mediante sentencias lógicas\n",
        "M2[indices]"
      ],
      "execution_count": 29,
      "outputs": [
        {
          "output_type": "display_data",
          "data": {
            "text/plain": [
              "[1] 8 1"
            ],
            "text/latex": "\\begin{enumerate*}\n\\item 8\n\\item 1\n\\end{enumerate*}\n",
            "text/markdown": "1. 8\n2. 1\n\n\n",
            "text/html": [
              "<style>\n",
              ".list-inline {list-style: none; margin:0; padding: 0}\n",
              ".list-inline>li {display: inline-block}\n",
              ".list-inline>li:not(:last-child)::after {content: \"\\00b7\"; padding: 0 .5ex}\n",
              "</style>\n",
              "<ol class=list-inline><li>8</li><li>1</li></ol>\n"
            ]
          },
          "metadata": {
            "tags": []
          }
        }
      ]
    },
    {
      "cell_type": "code",
      "metadata": {
        "id": "b0DZKzrzaiJf",
        "outputId": "52adc94b-9cdc-44c7-bcdd-4b2dbc342e1f",
        "colab": {
          "base_uri": "https://localhost:8080/",
          "height": 192
        }
      },
      "source": [
        "# Podríamos consultar los casos en que los valores de M2 son enores o iguales a 4\n",
        "M2 <= 4"
      ],
      "execution_count": 30,
      "outputs": [
        {
          "output_type": "display_data",
          "data": {
            "text/plain": [
              "      v1    v2    v3  \n",
              "fila1 FALSE  TRUE TRUE\n",
              "fila2 FALSE FALSE TRUE\n",
              "fila3 FALSE  TRUE TRUE\n",
              "fila4 FALSE  TRUE TRUE"
            ],
            "text/latex": "A matrix: 4 × 3 of type lgl\n\\begin{tabular}{r|lll}\n  & v1 & v2 & v3\\\\\n\\hline\n\tfila1 & FALSE &  TRUE & TRUE\\\\\n\tfila2 & FALSE & FALSE & TRUE\\\\\n\tfila3 & FALSE &  TRUE & TRUE\\\\\n\tfila4 & FALSE &  TRUE & TRUE\\\\\n\\end{tabular}\n",
            "text/markdown": "\nA matrix: 4 × 3 of type lgl\n\n| <!--/--> | v1 | v2 | v3 |\n|---|---|---|---|\n| fila1 | FALSE |  TRUE | TRUE |\n| fila2 | FALSE | FALSE | TRUE |\n| fila3 | FALSE |  TRUE | TRUE |\n| fila4 | FALSE |  TRUE | TRUE |\n\n",
            "text/html": [
              "<table class=\"dataframe\">\n",
              "<caption>A matrix: 4 × 3 of type lgl</caption>\n",
              "<thead>\n",
              "\t<tr><th></th><th scope=col>v1</th><th scope=col>v2</th><th scope=col>v3</th></tr>\n",
              "</thead>\n",
              "<tbody>\n",
              "\t<tr><th scope=row>fila1</th><td>FALSE</td><td> TRUE</td><td>TRUE</td></tr>\n",
              "\t<tr><th scope=row>fila2</th><td>FALSE</td><td>FALSE</td><td>TRUE</td></tr>\n",
              "\t<tr><th scope=row>fila3</th><td>FALSE</td><td> TRUE</td><td>TRUE</td></tr>\n",
              "\t<tr><th scope=row>fila4</th><td>FALSE</td><td> TRUE</td><td>TRUE</td></tr>\n",
              "</tbody>\n",
              "</table>\n"
            ]
          },
          "metadata": {
            "tags": []
          }
        }
      ]
    },
    {
      "cell_type": "code",
      "metadata": {
        "id": "zCspeZZZax8m",
        "outputId": "1341978b-1f38-4cf5-ceda-e6d6beac88b4",
        "colab": {
          "base_uri": "https://localhost:8080/",
          "height": 35
        }
      },
      "source": [
        "M2[M2 <= 4]"
      ],
      "execution_count": 31,
      "outputs": [
        {
          "output_type": "display_data",
          "data": {
            "text/plain": [
              "[1] 1 2 3 0 1 0 1"
            ],
            "text/latex": "\\begin{enumerate*}\n\\item 1\n\\item 2\n\\item 3\n\\item 0\n\\item 1\n\\item 0\n\\item 1\n\\end{enumerate*}\n",
            "text/markdown": "1. 1\n2. 2\n3. 3\n4. 0\n5. 1\n6. 0\n7. 1\n\n\n",
            "text/html": [
              "<style>\n",
              ".list-inline {list-style: none; margin:0; padding: 0}\n",
              ".list-inline>li {display: inline-block}\n",
              ".list-inline>li:not(:last-child)::after {content: \"\\00b7\"; padding: 0 .5ex}\n",
              "</style>\n",
              "<ol class=list-inline><li>1</li><li>2</li><li>3</li><li>0</li><li>1</li><li>0</li><li>1</li></ol>\n"
            ]
          },
          "metadata": {
            "tags": []
          }
        }
      ]
    },
    {
      "cell_type": "code",
      "metadata": {
        "id": "yVifRksHbJYH",
        "outputId": "0c6c1bfe-3506-4f14-afd7-925e8d46c4b5",
        "colab": {
          "base_uri": "https://localhost:8080/",
          "height": 209
        }
      },
      "source": [
        "M2"
      ],
      "execution_count": 33,
      "outputs": [
        {
          "output_type": "display_data",
          "data": {
            "text/plain": [
              "      v1 v2 v3\n",
              "fila1 8   1 0 \n",
              "fila2 1  99 1 \n",
              "fila3 6   2 0 \n",
              "fila4 5   3 1 "
            ],
            "text/latex": "A matrix: 4 × 3 of type dbl\n\\begin{tabular}{r|lll}\n  & v1 & v2 & v3\\\\\n\\hline\n\tfila1 & 8 &  1 & 0\\\\\n\tfila2 & 1 & 99 & 1\\\\\n\tfila3 & 6 &  2 & 0\\\\\n\tfila4 & 5 &  3 & 1\\\\\n\\end{tabular}\n",
            "text/markdown": "\nA matrix: 4 × 3 of type dbl\n\n| <!--/--> | v1 | v2 | v3 |\n|---|---|---|---|\n| fila1 | 8 |  1 | 0 |\n| fila2 | 1 | 99 | 1 |\n| fila3 | 6 |  2 | 0 |\n| fila4 | 5 |  3 | 1 |\n\n",
            "text/html": [
              "<table class=\"dataframe\">\n",
              "<caption>A matrix: 4 × 3 of type dbl</caption>\n",
              "<thead>\n",
              "\t<tr><th></th><th scope=col>v1</th><th scope=col>v2</th><th scope=col>v3</th></tr>\n",
              "</thead>\n",
              "<tbody>\n",
              "\t<tr><th scope=row>fila1</th><td>8</td><td> 1</td><td>0</td></tr>\n",
              "\t<tr><th scope=row>fila2</th><td>1</td><td>99</td><td>1</td></tr>\n",
              "\t<tr><th scope=row>fila3</th><td>6</td><td> 2</td><td>0</td></tr>\n",
              "\t<tr><th scope=row>fila4</th><td>5</td><td> 3</td><td>1</td></tr>\n",
              "</tbody>\n",
              "</table>\n"
            ]
          },
          "metadata": {
            "tags": []
          }
        }
      ]
    },
    {
      "cell_type": "markdown",
      "metadata": {
        "id": "DtKi8VpVSqo8"
      },
      "source": [
        "**Álgebra de matrices**\n",
        "\n",
        "Las operaciones suma (resta) y ponderación por escalar se llevan cabo mediante los mismos operadores utilizados para valores numéricos y vectores (+,-,*, /). Para multiplicar matrices en cambio, se utiliza el operador %*%, mientras que para invertirlas se utiliza la función solve(), t() para transponer y det() para el cálculo del determinante en el caso de matrices cuadradas."
      ]
    },
    {
      "cell_type": "code",
      "metadata": {
        "trusted": true,
        "id": "yxrjsz27Sqo8",
        "outputId": "9482c329-b806-49a5-d5da-1fb386af0e43",
        "colab": {
          "base_uri": "https://localhost:8080/",
          "height": 352
        }
      },
      "source": [
        "# transponer una matriz\n",
        "M2\n",
        "t(M2)"
      ],
      "execution_count": 37,
      "outputs": [
        {
          "output_type": "display_data",
          "data": {
            "text/plain": [
              "      v1 v2 v3\n",
              "fila1 8   1 0 \n",
              "fila2 1  99 1 \n",
              "fila3 6   2 0 \n",
              "fila4 5   3 1 "
            ],
            "text/latex": "A matrix: 4 × 3 of type dbl\n\\begin{tabular}{r|lll}\n  & v1 & v2 & v3\\\\\n\\hline\n\tfila1 & 8 &  1 & 0\\\\\n\tfila2 & 1 & 99 & 1\\\\\n\tfila3 & 6 &  2 & 0\\\\\n\tfila4 & 5 &  3 & 1\\\\\n\\end{tabular}\n",
            "text/markdown": "\nA matrix: 4 × 3 of type dbl\n\n| <!--/--> | v1 | v2 | v3 |\n|---|---|---|---|\n| fila1 | 8 |  1 | 0 |\n| fila2 | 1 | 99 | 1 |\n| fila3 | 6 |  2 | 0 |\n| fila4 | 5 |  3 | 1 |\n\n",
            "text/html": [
              "<table class=\"dataframe\">\n",
              "<caption>A matrix: 4 × 3 of type dbl</caption>\n",
              "<thead>\n",
              "\t<tr><th></th><th scope=col>v1</th><th scope=col>v2</th><th scope=col>v3</th></tr>\n",
              "</thead>\n",
              "<tbody>\n",
              "\t<tr><th scope=row>fila1</th><td>8</td><td> 1</td><td>0</td></tr>\n",
              "\t<tr><th scope=row>fila2</th><td>1</td><td>99</td><td>1</td></tr>\n",
              "\t<tr><th scope=row>fila3</th><td>6</td><td> 2</td><td>0</td></tr>\n",
              "\t<tr><th scope=row>fila4</th><td>5</td><td> 3</td><td>1</td></tr>\n",
              "</tbody>\n",
              "</table>\n"
            ]
          },
          "metadata": {
            "tags": []
          }
        },
        {
          "output_type": "display_data",
          "data": {
            "text/plain": [
              "   fila1 fila2 fila3 fila4\n",
              "v1 8      1    6     5    \n",
              "v2 1     99    2     3    \n",
              "v3 0      1    0     1    "
            ],
            "text/latex": "A matrix: 3 × 4 of type dbl\n\\begin{tabular}{r|llll}\n  & fila1 & fila2 & fila3 & fila4\\\\\n\\hline\n\tv1 & 8 &  1 & 6 & 5\\\\\n\tv2 & 1 & 99 & 2 & 3\\\\\n\tv3 & 0 &  1 & 0 & 1\\\\\n\\end{tabular}\n",
            "text/markdown": "\nA matrix: 3 × 4 of type dbl\n\n| <!--/--> | fila1 | fila2 | fila3 | fila4 |\n|---|---|---|---|---|\n| v1 | 8 |  1 | 6 | 5 |\n| v2 | 1 | 99 | 2 | 3 |\n| v3 | 0 |  1 | 0 | 1 |\n\n",
            "text/html": [
              "<table class=\"dataframe\">\n",
              "<caption>A matrix: 3 × 4 of type dbl</caption>\n",
              "<thead>\n",
              "\t<tr><th></th><th scope=col>fila1</th><th scope=col>fila2</th><th scope=col>fila3</th><th scope=col>fila4</th></tr>\n",
              "</thead>\n",
              "<tbody>\n",
              "\t<tr><th scope=row>v1</th><td>8</td><td> 1</td><td>6</td><td>5</td></tr>\n",
              "\t<tr><th scope=row>v2</th><td>1</td><td>99</td><td>2</td><td>3</td></tr>\n",
              "\t<tr><th scope=row>v3</th><td>0</td><td> 1</td><td>0</td><td>1</td></tr>\n",
              "</tbody>\n",
              "</table>\n"
            ]
          },
          "metadata": {
            "tags": []
          }
        }
      ]
    },
    {
      "cell_type": "code",
      "metadata": {
        "trusted": true,
        "id": "tSphDch3Sqo-",
        "outputId": "93811086-0919-4fec-affb-fa8f390ac4b7",
        "colab": {
          "base_uri": "https://localhost:8080/",
          "height": 177
        }
      },
      "source": [
        "# 3.2 Álgbra de matrices  ------------\n",
        "# Ejemplo simple de álgebra de matrices\n",
        "\n",
        "M3 %*% M2"
      ],
      "execution_count": 38,
      "outputs": [
        {
          "output_type": "display_data",
          "data": {
            "text/plain": [
              "   v1  v2  v3\n",
              "v1 132 728 12\n",
              "v2  36 113  4\n",
              "v3   6 102  2"
            ],
            "text/latex": "A matrix: 3 × 3 of type dbl\n\\begin{tabular}{r|lll}\n  & v1 & v2 & v3\\\\\n\\hline\n\tv1 & 132 & 728 & 12\\\\\n\tv2 &  36 & 113 &  4\\\\\n\tv3 &   6 & 102 &  2\\\\\n\\end{tabular}\n",
            "text/markdown": "\nA matrix: 3 × 3 of type dbl\n\n| <!--/--> | v1 | v2 | v3 |\n|---|---|---|---|\n| v1 | 132 | 728 | 12 |\n| v2 |  36 | 113 |  4 |\n| v3 |   6 | 102 |  2 |\n\n",
            "text/html": [
              "<table class=\"dataframe\">\n",
              "<caption>A matrix: 3 × 3 of type dbl</caption>\n",
              "<thead>\n",
              "\t<tr><th></th><th scope=col>v1</th><th scope=col>v2</th><th scope=col>v3</th></tr>\n",
              "</thead>\n",
              "<tbody>\n",
              "\t<tr><th scope=row>v1</th><td>132</td><td>728</td><td>12</td></tr>\n",
              "\t<tr><th scope=row>v2</th><td> 36</td><td>113</td><td> 4</td></tr>\n",
              "\t<tr><th scope=row>v3</th><td>  6</td><td>102</td><td> 2</td></tr>\n",
              "</tbody>\n",
              "</table>\n"
            ]
          },
          "metadata": {
            "tags": []
          }
        }
      ]
    },
    {
      "cell_type": "code",
      "metadata": {
        "trusted": true,
        "id": "crNocLSqSqpA",
        "outputId": "cc9614dc-16a0-4ca8-fe47-f41f6de1a22d",
        "colab": {
          "base_uri": "https://localhost:8080/",
          "height": 98
        }
      },
      "source": [
        "# Multiplicación de matrices\n",
        "M2 * M3 # multiplicación componente a componente\n"
      ],
      "execution_count": 39,
      "outputs": [
        {
          "output_type": "error",
          "ename": "ERROR",
          "evalue": "ignored",
          "traceback": [
            "Error in M2 * M3: non-conformable arrays\nTraceback:\n"
          ]
        }
      ]
    },
    {
      "cell_type": "code",
      "metadata": {
        "id": "KLekQ8pEcHwz",
        "outputId": "b8268963-2685-46b4-b861-7c6a07b7adf1",
        "colab": {
          "base_uri": "https://localhost:8080/",
          "height": 209
        }
      },
      "source": [
        "M2 * M2"
      ],
      "execution_count": 40,
      "outputs": [
        {
          "output_type": "display_data",
          "data": {
            "text/plain": [
              "      v1 v2   v3\n",
              "fila1 64    1 0 \n",
              "fila2  1 9801 1 \n",
              "fila3 36    4 0 \n",
              "fila4 25    9 1 "
            ],
            "text/latex": "A matrix: 4 × 3 of type dbl\n\\begin{tabular}{r|lll}\n  & v1 & v2 & v3\\\\\n\\hline\n\tfila1 & 64 &    1 & 0\\\\\n\tfila2 &  1 & 9801 & 1\\\\\n\tfila3 & 36 &    4 & 0\\\\\n\tfila4 & 25 &    9 & 1\\\\\n\\end{tabular}\n",
            "text/markdown": "\nA matrix: 4 × 3 of type dbl\n\n| <!--/--> | v1 | v2 | v3 |\n|---|---|---|---|\n| fila1 | 64 |    1 | 0 |\n| fila2 |  1 | 9801 | 1 |\n| fila3 | 36 |    4 | 0 |\n| fila4 | 25 |    9 | 1 |\n\n",
            "text/html": [
              "<table class=\"dataframe\">\n",
              "<caption>A matrix: 4 × 3 of type dbl</caption>\n",
              "<thead>\n",
              "\t<tr><th></th><th scope=col>v1</th><th scope=col>v2</th><th scope=col>v3</th></tr>\n",
              "</thead>\n",
              "<tbody>\n",
              "\t<tr><th scope=row>fila1</th><td>64</td><td>   1</td><td>0</td></tr>\n",
              "\t<tr><th scope=row>fila2</th><td> 1</td><td>9801</td><td>1</td></tr>\n",
              "\t<tr><th scope=row>fila3</th><td>36</td><td>   4</td><td>0</td></tr>\n",
              "\t<tr><th scope=row>fila4</th><td>25</td><td>   9</td><td>1</td></tr>\n",
              "</tbody>\n",
              "</table>\n"
            ]
          },
          "metadata": {
            "tags": []
          }
        }
      ]
    },
    {
      "cell_type": "code",
      "metadata": {
        "trusted": true,
        "id": "RdPKIzaySqpC"
      },
      "source": [
        "# podemos calcular determinantes\n",
        "# ?det\n",
        "\n",
        "M <- M3 %*% M2\n"
      ],
      "execution_count": 41,
      "outputs": []
    },
    {
      "cell_type": "code",
      "metadata": {
        "id": "9gkUVt1AcPCH",
        "outputId": "cf04a984-f01b-4c93-f2f4-f1abdb5ca0f7",
        "colab": {
          "base_uri": "https://localhost:8080/",
          "height": 35
        }
      },
      "source": [
        "det(M)"
      ],
      "execution_count": 42,
      "outputs": [
        {
          "output_type": "display_data",
          "data": {
            "text/plain": [
              "[1] -23040"
            ],
            "text/latex": "-23040",
            "text/markdown": "-23040",
            "text/html": [
              "-23040"
            ]
          },
          "metadata": {
            "tags": []
          }
        }
      ]
    },
    {
      "cell_type": "code",
      "metadata": {
        "trusted": true,
        "id": "Tymq9t9NSqpH",
        "outputId": "0d3f4a0e-19a9-45fa-bd0e-96d02f8abad5",
        "colab": {
          "base_uri": "https://localhost:8080/",
          "height": 160
        }
      },
      "source": [
        "# Podemos invertir matrices\n",
        "# ?solve\n",
        "solve(M)"
      ],
      "execution_count": 43,
      "outputs": [
        {
          "output_type": "display_data",
          "data": {
            "text/plain": [
              "   v1           v2           v3          \n",
              "v1  0.007899306  0.010069444 -0.067534722\n",
              "v2  0.002083333 -0.008333333  0.004166667\n",
              "v3 -0.129947917  0.394791667  0.490104167"
            ],
            "text/latex": "A matrix: 3 × 3 of type dbl\n\\begin{tabular}{r|lll}\n  & v1 & v2 & v3\\\\\n\\hline\n\tv1 &  0.007899306 &  0.010069444 & -0.067534722\\\\\n\tv2 &  0.002083333 & -0.008333333 &  0.004166667\\\\\n\tv3 & -0.129947917 &  0.394791667 &  0.490104167\\\\\n\\end{tabular}\n",
            "text/markdown": "\nA matrix: 3 × 3 of type dbl\n\n| <!--/--> | v1 | v2 | v3 |\n|---|---|---|---|\n| v1 |  0.007899306 |  0.010069444 | -0.067534722 |\n| v2 |  0.002083333 | -0.008333333 |  0.004166667 |\n| v3 | -0.129947917 |  0.394791667 |  0.490104167 |\n\n",
            "text/html": [
              "<table class=\"dataframe\">\n",
              "<caption>A matrix: 3 × 3 of type dbl</caption>\n",
              "<thead>\n",
              "\t<tr><th></th><th scope=col>v1</th><th scope=col>v2</th><th scope=col>v3</th></tr>\n",
              "</thead>\n",
              "<tbody>\n",
              "\t<tr><th scope=row>v1</th><td> 0.007899306</td><td> 0.010069444</td><td>-0.067534722</td></tr>\n",
              "\t<tr><th scope=row>v2</th><td> 0.002083333</td><td>-0.008333333</td><td> 0.004166667</td></tr>\n",
              "\t<tr><th scope=row>v3</th><td>-0.129947917</td><td> 0.394791667</td><td> 0.490104167</td></tr>\n",
              "</tbody>\n",
              "</table>\n"
            ]
          },
          "metadata": {
            "tags": []
          }
        }
      ]
    }
  ]
}