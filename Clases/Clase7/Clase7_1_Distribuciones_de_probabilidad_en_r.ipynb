{
  "nbformat": 4,
  "nbformat_minor": 0,
  "metadata": {
    "colab": {
      "name": "Clase7_1_Distribuciones_de_probabilidad_en_r.ipynb",
      "provenance": [],
      "include_colab_link": true
    },
    "kernelspec": {
      "name": "ir",
      "display_name": "R"
    }
  },
  "cells": [
    {
      "cell_type": "markdown",
      "metadata": {
        "id": "view-in-github",
        "colab_type": "text"
      },
      "source": [
        "<a href=\"https://colab.research.google.com/github/majorquev/DBDC_202106_Programacion_en_R_para_ciencia_de_datos/blob/main/Clases/Clase7/Clase7_1_Distribuciones_de_probabilidad_en_r.ipynb\" target=\"_parent\"><img src=\"https://colab.research.google.com/assets/colab-badge.svg\" alt=\"Open In Colab\"/></a>"
      ]
    },
    {
      "cell_type": "markdown",
      "metadata": {
        "collapsed": true,
        "id": "OejoCTBMIzQV"
      },
      "source": [
        "# Parte 6: Distribuciones de probabilidad\n",
        "\n",
        "**Autor:** Miguel Jorquera Viguera.<br>\n",
        "**E-mail:** majorquev@gmail.com<br>\n",
        "**Ayudante:** Jorge Arévalo Labarca<br>\n",
        "**E-mail ayudante:** jorge.arevalol@usach.cl\n",
        "\n",
        "En R podemos obtener valores tanto de las funciones de densidad, distribución de probabilidad, cuantiles de una distribución o bien generar valores aleatorios de diversas distribuciones paramétricas.\n",
        "Casi todas las distribuciones que se encuentran implementadas en la librería base de R se referencian de la misma manera.\n",
        "\n",
        "* Funciones de densidad (PDFs) comienzan con la letra “d.”\n",
        "* Funciones de distribución acumulada comienzan con la letra “p.”\n",
        "* Funcioenes que retornan quantiles de una distribución comienzan con la letra “q.”\n",
        "* Funciones que generan valores aleatorios comienzan con la letra“r.” \n",
        "\n",
        "Por defecto, en R contamos con una amplia variedad familias de distribuciones enre las que destacan las siguientes.\n",
        "\n",
        "\n",
        "\n",
        "**Distribution**| **R name**| **additional arguments**\n",
        "-----| -----| -----\n",
        "beta |`beta` |shape1, shape2, ncp\n",
        "binomial| `binom`| size, prob\n",
        "Cauchy|`cauchy` |location, scale\n",
        "chi-squared| `chisq`| df, ncp\n",
        "exponential| `exp` |rate\n",
        "F| `f` |df1, df2, ncp\n",
        "gamma |`gamma` |shape, scale\n",
        "geometric |`geom` |prob\n",
        "hypergeometric| `hyper`| m, n, k\n",
        "log-normal| `lnorm` |meanlog, sdlog\n",
        "logistic |`logis` |location, scale\n",
        "negative| `binomial`| nbinom size, prob\n",
        "normal |`norm` |mean, sd\n",
        "Poisson| `pois`| lambda\n",
        "signed rank |`signrank`| n\n",
        "Student’s t| `t`| df, ncp\n",
        "uniform |`unif`| min, max\n",
        "Weibull| `weibull`| shape, scale\n",
        "Wilcoxon |`wilcox`|m, n\n",
        "\n",
        "\n"
      ]
    },
    {
      "cell_type": "markdown",
      "metadata": {
        "id": "-PTP0v_EIzQV"
      },
      "source": [
        "# I) Distribución normal\n",
        "\n",
        "## Función de densidad\n",
        "$$f(x) = \\frac{1}{\\sqrt{2 π \\sigma^2}} e^{-\\frac{1}{2\\sigma^2}(x - \\mu)^2}$$\n",
        "\n",
        "## En R...\n",
        "\n",
        "* `dnorm(x, mean = 0, sd = 1, log = FALSE)`: Evalúa la función de densidad.\n",
        "* `pnorm(q, mean = 0, sd = 1, lower.tail = TRUE, log.p = FALSE)`: Calcula la probabilidad acumulada (función de distribución).\n",
        "* `qnorm(p, mean = 0, sd = 1, lower.tail = TRUE, log.p = FALSE)`: Calcula los quantiles de la distribución. (Función inversa de la función de distribución de probabilidad).\n",
        "* `rnorm(n, mean = 0, sd = 1)`: Genera muestras aleatroias.\n",
        "\n",
        "\n",
        "\n",
        "\n",
        "**P1.** Se sabe que la estatura de la población adulta de sexo masculino chilena sigue una distribución normal con media 171,8 cms y una desviación estándar de 5cms\n",
        "\n",
        "**a)** ¿Cuál es la probabilidad de encontrar de que una persona hombre  adulta tenga una estatura\n",
        "menor o igual a 160 cms?"
      ]
    },
    {
      "cell_type": "code",
      "metadata": {
        "trusted": true,
        "id": "ToHwVVRJIzQV",
        "outputId": "a8233758-a1e3-473b-9222-de558ce096cf",
        "colab": {
          "base_uri": "https://localhost:8080/",
          "height": 34
        }
      },
      "source": [
        "# pnorm()\n",
        "#?pnorm\n",
        "pnorm(160, mean = 171.8, sd = 5) # P(X <= 160)\n",
        "# Hay un 0.9% de probabilidad de que la persona mida menos de 1.60 mts.\n",
        "\n"
      ],
      "execution_count": 1,
      "outputs": [
        {
          "output_type": "display_data",
          "data": {
            "text/plain": [
              "[1] 0.009137468"
            ],
            "text/latex": "0.00913746753057262",
            "text/markdown": "0.00913746753057262",
            "text/html": [
              "0.00913746753057262"
            ]
          },
          "metadata": {
            "tags": []
          }
        }
      ]
    },
    {
      "cell_type": "code",
      "metadata": {
        "trusted": true,
        "id": "aurFMEakIzQW"
      },
      "source": [
        "?pnorm"
      ],
      "execution_count": 2,
      "outputs": []
    },
    {
      "cell_type": "markdown",
      "metadata": {
        "id": "h-zASRnGIzQW"
      },
      "source": [
        "  \n",
        "**b)** ¿Cuál es la probabilidad de encontrar de que una persona adulta tenga una estatura mayor  a 160 cms?\n",
        "  "
      ]
    },
    {
      "cell_type": "code",
      "metadata": {
        "trusted": true,
        "id": "jQ8cahkIIzQW",
        "outputId": "405ee87b-036f-4018-9d31-b7eab1177601",
        "colab": {
          "base_uri": "https://localhost:8080/",
          "height": 50
        }
      },
      "source": [
        "#P(estatura > 160) = 1- P(estatura <= 160)\n",
        "1- pnorm(160, mean = 171.8, sd = 5)\n",
        "\n",
        "#NOTA \n",
        "# lower.tail \n",
        "pnorm(160, mean = 171.8, sd = 5,lower.tail = FALSE)"
      ],
      "execution_count": 4,
      "outputs": [
        {
          "output_type": "display_data",
          "data": {
            "text/plain": [
              "[1] 0.9908625"
            ],
            "text/latex": "0.990862532469427",
            "text/markdown": "0.990862532469427",
            "text/html": [
              "0.990862532469427"
            ]
          },
          "metadata": {
            "tags": []
          }
        },
        {
          "output_type": "display_data",
          "data": {
            "text/plain": [
              "[1] 0.9908625"
            ],
            "text/latex": "0.990862532469427",
            "text/markdown": "0.990862532469427",
            "text/html": [
              "0.990862532469427"
            ]
          },
          "metadata": {
            "tags": []
          }
        }
      ]
    },
    {
      "cell_type": "markdown",
      "metadata": {
        "id": "RW1a4CYOIzQW"
      },
      "source": [
        "**c)** ¿Cuál es la probabilidad de encontrar una persona con estatura entre 180cms y 190 cms?"
      ]
    },
    {
      "cell_type": "code",
      "metadata": {
        "trusted": true,
        "id": "OvapQgJnIzQW",
        "outputId": "073ff144-b862-4eb8-ff10-322a9dbba8ca",
        "colab": {
          "base_uri": "https://localhost:8080/",
          "height": 34
        }
      },
      "source": [
        "# P(est <= 190) - P(est <= 180) = P(180 <= est <= 190)\n",
        "pnorm(190, mean = 171.8, sd = 5) - pnorm(180, mean = 171.8, sd = 5)\n",
        "\n",
        "# Hay un 5% de probabilidad de encontrar una persona con estatura entre 180 y 190."
      ],
      "execution_count": 5,
      "outputs": [
        {
          "output_type": "display_data",
          "data": {
            "text/plain": [
              "[1] 0.05036626"
            ],
            "text/latex": "0.0503662644536582",
            "text/markdown": "0.0503662644536582",
            "text/html": [
              "0.0503662644536582"
            ]
          },
          "metadata": {
            "tags": []
          }
        }
      ]
    },
    {
      "cell_type": "markdown",
      "metadata": {
        "id": "wKeJk1S1IzQX"
      },
      "source": [
        "**d)** ¿Cuál es la estatura que corresponde al percentil 90?"
      ]
    },
    {
      "cell_type": "code",
      "metadata": {
        "trusted": true,
        "id": "uH4r-tSjIzQX",
        "outputId": "d7236e7d-ba36-4828-9aa4-4177f8094f76",
        "colab": {
          "base_uri": "https://localhost:8080/",
          "height": 34
        }
      },
      "source": [
        "# Cómo interpretamos este valor\n",
        "qnorm(0.9, mean = 171.8, sd = 5)\n",
        "\n",
        "# El 90% de las personas de género masculino,en chile, tiene una estatura menor o igual a 178.2 cms.\n",
        "\n",
        "\n"
      ],
      "execution_count": 6,
      "outputs": [
        {
          "output_type": "display_data",
          "data": {
            "text/plain": [
              "[1] 178.2078"
            ],
            "text/latex": "178.207757827723",
            "text/markdown": "178.207757827723",
            "text/html": [
              "178.207757827723"
            ]
          },
          "metadata": {
            "tags": []
          }
        }
      ]
    },
    {
      "cell_type": "code",
      "metadata": {
        "id": "DnUVeBYbfr86",
        "outputId": "289dae0e-8a81-4896-edf4-5e8c49d541e6",
        "colab": {
          "base_uri": "https://localhost:8080/",
          "height": 34
        }
      },
      "source": [
        "qnorm(0.1, mean = 171.8, sd = 5, lower.tail = FALSE) # El percentil (valor de la variable), sobre la cual se acumula el 10% superior."
      ],
      "execution_count": 7,
      "outputs": [
        {
          "output_type": "display_data",
          "data": {
            "text/plain": [
              "[1] 178.2078"
            ],
            "text/latex": "178.207757827723",
            "text/markdown": "178.207757827723",
            "text/html": [
              "178.207757827723"
            ]
          },
          "metadata": {
            "tags": []
          }
        }
      ]
    },
    {
      "cell_type": "markdown",
      "metadata": {
        "id": "8BETYF90IzQX"
      },
      "source": [
        "**d)**  Genere una muestra aleatoria de tamaño 1000 y guárdela en un vector llamado _estaturas_, provenientes de una distribución normal con media 171,8 y desviación estandar igual a 5."
      ]
    },
    {
      "cell_type": "code",
      "metadata": {
        "trusted": true,
        "id": "_jaKERD8IzQX"
      },
      "source": [
        "# estaturas\n",
        "set.seed(2021)\n",
        "estaturas <- rnorm(n = 1000, mean = 171.8, sd = 5)"
      ],
      "execution_count": 20,
      "outputs": []
    },
    {
      "cell_type": "code",
      "metadata": {
        "id": "ds_Xq6XWgaI5",
        "outputId": "4f66184b-5e85-4cfc-b729-f14b74beab4d",
        "colab": {
          "base_uri": "https://localhost:8080/",
          "height": 67
        }
      },
      "source": [
        "summary(estaturas)\n",
        "sd(estaturas)"
      ],
      "execution_count": 21,
      "outputs": [
        {
          "output_type": "display_data",
          "data": {
            "text/plain": [
              "   Min. 1st Qu.  Median    Mean 3rd Qu.    Max. \n",
              "  155.8   168.3   171.8   171.9   175.4   189.2 "
            ]
          },
          "metadata": {
            "tags": []
          }
        },
        {
          "output_type": "display_data",
          "data": {
            "text/plain": [
              "[1] 5.096141"
            ],
            "text/latex": "5.09614116733957",
            "text/markdown": "5.09614116733957",
            "text/html": [
              "5.09614116733957"
            ]
          },
          "metadata": {
            "tags": []
          }
        }
      ]
    },
    {
      "cell_type": "markdown",
      "metadata": {
        "id": "xcbBK1N0IzQX"
      },
      "source": [
        "**e)** Mediante la función _hist()_ y la función _curve()_  genere un histograma de la muestra creada y añada la curva de distribución normal con la media y desviación estandar reales."
      ]
    },
    {
      "cell_type": "code",
      "metadata": {
        "trusted": true,
        "id": "lAB7nivUIzQX",
        "outputId": "ffc50c17-3442-47e8-ded8-63a9eda3dba6",
        "colab": {
          "base_uri": "https://localhost:8080/",
          "height": 437
        }
      },
      "source": [
        "# Notar que en un histograma podemos visualizar los conteos o las frecuencias relativas.\n",
        "hist(estaturas, freq = F,breaks = 20)\n"
      ],
      "execution_count": 25,
      "outputs": [
        {
          "output_type": "display_data",
          "data": {
            "image/png": "[encoded data removed]",
            "text/plain": [
              "Plot with title “Histogram of estaturas”"
            ]
          },
          "metadata": {
            "tags": [],
            "image/png": {
              "width": 420,
              "height": 420
            }
          }
        }
      ]
    },
    {
      "cell_type": "code",
      "metadata": {
        "trusted": true,
        "id": "2iZisxlHIzQX",
        "outputId": "8bb1e041-b09f-4d42-e4ba-a56b7dc2b0f0",
        "colab": {
          "base_uri": "https://localhost:8080/",
          "height": 34
        }
      },
      "source": [
        "## NOTA\n",
        "# dnorm() evalúa la función de densidad en el argumento dado\n",
        "dnorm(1.2, mean = 0, sd = 1) # evaluación de la densidad en el punto 1.2, de una distrib. normal con media 1 y sd 0.\n"
      ],
      "execution_count": 26,
      "outputs": [
        {
          "output_type": "display_data",
          "data": {
            "text/plain": [
              "[1] 0.1941861"
            ],
            "text/latex": "0.194186054983213",
            "text/markdown": "0.194186054983213",
            "text/html": [
              "0.194186054983213"
            ]
          },
          "metadata": {
            "tags": []
          }
        }
      ]
    },
    {
      "cell_type": "code",
      "metadata": {
        "id": "-57gCiGUiwCv",
        "outputId": "d2781397-061d-49eb-a808-e088ec36b00e",
        "colab": {
          "base_uri": "https://localhost:8080/",
          "height": 34
        }
      },
      "source": [
        "dnorm(165,mean = 171.8, sd = 5)"
      ],
      "execution_count": 27,
      "outputs": [
        {
          "output_type": "display_data",
          "data": {
            "text/plain": [
              "[1] 0.03164496"
            ],
            "text/latex": "0.0316449580740765",
            "text/markdown": "0.0316449580740765",
            "text/html": [
              "0.0316449580740765"
            ]
          },
          "metadata": {
            "tags": []
          }
        }
      ]
    },
    {
      "cell_type": "code",
      "metadata": {
        "trusted": true,
        "id": "EDPAiGwpIzQX",
        "outputId": "95a19006-222c-4c28-8234-64b20058d141",
        "colab": {
          "base_uri": "https://localhost:8080/",
          "height": 50
        }
      },
      "source": [
        "(mu_est <- mean(estaturas))\n",
        "(sd_est <- sd(estaturas))\n"
      ],
      "execution_count": 31,
      "outputs": [
        {
          "output_type": "display_data",
          "data": {
            "text/plain": [
              "[1] 171.8638"
            ],
            "text/latex": "171.863759791182",
            "text/markdown": "171.863759791182",
            "text/html": [
              "171.863759791182"
            ]
          },
          "metadata": {
            "tags": []
          }
        },
        {
          "output_type": "display_data",
          "data": {
            "text/plain": [
              "[1] 5.096141"
            ],
            "text/latex": "5.09614116733957",
            "text/markdown": "5.09614116733957",
            "text/html": [
              "5.09614116733957"
            ]
          },
          "metadata": {
            "tags": []
          }
        }
      ]
    },
    {
      "cell_type": "code",
      "metadata": {
        "id": "G2X754Z_jLuL",
        "outputId": "896113d8-893b-4cd0-d78d-dc75dec12b42",
        "colab": {
          "base_uri": "https://localhost:8080/",
          "height": 437
        }
      },
      "source": [
        "#Histograma de frecuencias relativas con las curvas de la densidad real y la densidad con parámetros estimados\n",
        "hist(estaturas, freq = F,breaks = 20, main = \"Distribución de estaturas\", xla = \"Estatura de hombres adultos en Chile\")\n",
        "curve(dnorm(x,mean = 171.8, sd = 5), add = T, col = \"red\")\n",
        "curve(dnorm(x,mean = mu_est, sd = sd_est), add = T, col = \"blue\")"
      ],
      "execution_count": 34,
      "outputs": [
        {
          "output_type": "display_data",
          "data": {
            "image/png": "[encoded data removed]",
            "text/plain": [
              "Plot with title “Distribución de estaturas”"
            ]
          },
          "metadata": {
            "tags": [],
            "image/png": {
              "width": 420,
              "height": 420
            }
          }
        }
      ]
    },
    {
      "cell_type": "code",
      "metadata": {
        "trusted": true,
        "id": "R0pEKJLdIzQX"
      },
      "source": [
        "?hist"
      ],
      "execution_count": null,
      "outputs": []
    },
    {
      "cell_type": "code",
      "metadata": {
        "trusted": true,
        "id": "8GRr0dw3IzQX",
        "outputId": "051b803e-fe9c-4dd3-d761-b17c22face72",
        "colab": {
          "base_uri": "https://localhost:8080/"
        }
      },
      "source": [
        "# Podemos realizar lo mismo con ggplot, aunque con un poco de dificultad adicional\n",
        "library(ggplot2)\n",
        "library(dplyr)"
      ],
      "execution_count": 35,
      "outputs": [
        {
          "output_type": "stream",
          "text": [
            "\n",
            "Attaching package: ‘dplyr’\n",
            "\n",
            "\n",
            "The following objects are masked from ‘package:stats’:\n",
            "\n",
            "    filter, lag\n",
            "\n",
            "\n",
            "The following objects are masked from ‘package:base’:\n",
            "\n",
            "    intersect, setdiff, setequal, union\n",
            "\n",
            "\n"
          ],
          "name": "stderr"
        }
      ]
    },
    {
      "cell_type": "code",
      "metadata": {
        "trusted": true,
        "id": "sVh_j3WgIzQX",
        "outputId": "bbc8e3c8-931e-4b15-e25b-433ff0055546",
        "colab": {
          "base_uri": "https://localhost:8080/",
          "height": 298
        }
      },
      "source": [
        "df <- data.frame(est = estaturas)\n",
        "head(df)"
      ],
      "execution_count": 36,
      "outputs": [
        {
          "output_type": "display_data",
          "data": {
            "text/plain": [
              "  est     \n",
              "1 171.1877\n",
              "2 174.5623\n",
              "3 173.5432\n",
              "4 173.5982\n",
              "5 176.2903\n",
              "6 162.1872"
            ],
            "text/latex": "A data.frame: 6 × 1\n\\begin{tabular}{r|l}\n  & est\\\\\n  & <dbl>\\\\\n\\hline\n\t1 & 171.1877\\\\\n\t2 & 174.5623\\\\\n\t3 & 173.5432\\\\\n\t4 & 173.5982\\\\\n\t5 & 176.2903\\\\\n\t6 & 162.1872\\\\\n\\end{tabular}\n",
            "text/markdown": "\nA data.frame: 6 × 1\n\n| <!--/--> | est &lt;dbl&gt; |\n|---|---|\n| 1 | 171.1877 |\n| 2 | 174.5623 |\n| 3 | 173.5432 |\n| 4 | 173.5982 |\n| 5 | 176.2903 |\n| 6 | 162.1872 |\n\n",
            "text/html": [
              "<table class=\"dataframe\">\n",
              "<caption>A data.frame: 6 × 1</caption>\n",
              "<thead>\n",
              "\t<tr><th></th><th scope=col>est</th></tr>\n",
              "\t<tr><th></th><th scope=col>&lt;dbl&gt;</th></tr>\n",
              "</thead>\n",
              "<tbody>\n",
              "\t<tr><th scope=row>1</th><td>171.1877</td></tr>\n",
              "\t<tr><th scope=row>2</th><td>174.5623</td></tr>\n",
              "\t<tr><th scope=row>3</th><td>173.5432</td></tr>\n",
              "\t<tr><th scope=row>4</th><td>173.5982</td></tr>\n",
              "\t<tr><th scope=row>5</th><td>176.2903</td></tr>\n",
              "\t<tr><th scope=row>6</th><td>162.1872</td></tr>\n",
              "</tbody>\n",
              "</table>\n"
            ]
          },
          "metadata": {
            "tags": []
          }
        }
      ]
    },
    {
      "cell_type": "code",
      "metadata": {
        "trusted": true,
        "id": "k3J42K9PIzQX"
      },
      "source": [
        ""
      ],
      "execution_count": null,
      "outputs": []
    },
    {
      "cell_type": "markdown",
      "metadata": {
        "id": "1N2Zcn_skeVS"
      },
      "source": [
        "# Paréntesis: Funciones en R\n",
        "````\n",
        "f <- function(...){\n",
        "  # la lógica de la función\n",
        "  return(valor)\n",
        "}\n",
        "````"
      ]
    },
    {
      "cell_type": "code",
      "metadata": {
        "id": "w7-hGfPpkbd2"
      },
      "source": [
        "suma <- function(a,b){\n",
        "  s <- a+b\n",
        "  return(s)\n",
        "}"
      ],
      "execution_count": 37,
      "outputs": []
    },
    {
      "cell_type": "code",
      "metadata": {
        "id": "HI-LzW-Qk9Ql",
        "outputId": "fff6767c-c0a1-478a-9281-d6ec401ab90a",
        "colab": {
          "base_uri": "https://localhost:8080/",
          "height": 34
        }
      },
      "source": [
        "suma(1,4)"
      ],
      "execution_count": 38,
      "outputs": [
        {
          "output_type": "display_data",
          "data": {
            "text/plain": [
              "[1] 5"
            ],
            "text/latex": "5",
            "text/markdown": "5",
            "text/html": [
              "5"
            ]
          },
          "metadata": {
            "tags": []
          }
        }
      ]
    },
    {
      "cell_type": "code",
      "metadata": {
        "id": "oivGxvwxlBQd",
        "outputId": "d83b079d-4213-4158-96f0-5a6f57db69e3",
        "colab": {
          "base_uri": "https://localhost:8080/",
          "height": 437
        }
      },
      "source": [
        "df %>%\n",
        "  ggplot()+\n",
        "  aes(x = est) +\n",
        "  geom_histogram(\n",
        "    bins = 15,\n",
        "    color = \"black\",\n",
        "    fill = \"white\",\n",
        "    aes(y = ..density..)\n",
        "  ) +\n",
        "  stat_function(\n",
        "    fun = function(x){dnorm(x,mean = 171.8, sd = 5)},\n",
        "    col = \"red\"\n",
        "  )+\n",
        "  stat_function(\n",
        "    fun = function(x){dnorm(x,mean = mu_est, sd = sd_est)},\n",
        "    col = \"blue\"\n",
        "  ) + \n",
        "  geom_density(color = \"green\") # Ggplot pupede estimar de manera no paramétrica (y sin un supuesto distribucional previo), la densidad de una distribución asociada a una aleatoria."
      ],
      "execution_count": 42,
      "outputs": [
        {
          "output_type": "display_data",
          "data": {
            "image/png": "[encoded data removed]",
            "text/plain": [
              "plot without title"
            ]
          },
          "metadata": {
            "tags": [],
            "image/png": {
              "width": 420,
              "height": 420
            }
          }
        }
      ]
    },
    {
      "cell_type": "markdown",
      "metadata": {
        "id": "fMwNisC-IzQX"
      },
      "source": [
        "# II)Distribucion binomial\n",
        "## Contexto\n",
        "Cuando una variable aleatoria representa la cantidad de éxitos en $n$ ensayos independientes de tipo Bernoulli (0 o 1), se dice que dicha variable sigue una distribución binomial.\n",
        "\n",
        "## Función de probabilidad\n",
        "\n",
        "\n",
        "$$p(x) = {n\\choose x}p^x(1-p)^{n-x}$$\n",
        "Donde $n$ es el total de ensayos realizados y $x$ es la cantidad de éxitos observados y $p$ es la probabilidad de éxito del evento de interés.\n",
        "\n",
        "## En R...\n",
        "\n",
        "* `dbinom(x, size, prob, log = FALSE)`: Evalúa la función de masa. En el caso discreto corresponde a la probabilidad del evento.\n",
        "* `pbinom(q, size, prob, lower.tail = TRUE, log.p = FALSE)`: Calcula la probabilidad acumulada.\n",
        "* `qbinom(p, size, prob, lower.tail = TRUE, log.p = FALSE)`: Retorna cuantiles de la distribución.\n",
        "* `rbinom(n, size, prob)`: Genera muestras aleatorias.\n",
        "\n",
        "**P2.** Suponga que un spot publicitario de un artículo tiene una tasa de efectividad de 20% sobre una determinada población.\n",
        "\n",
        "**a)** Suponga que se logra llegar con el spot a 100 personas. ¿Cuál es la probabilidad de que \n",
        " al menos 30  personas compren el artículo ofrecido?"
      ]
    },
    {
      "cell_type": "code",
      "metadata": {
        "trusted": true,
        "id": "MOm-FppMIzQX",
        "outputId": "68a08e45-9988-4a18-ec92-7950e7a5bd08",
        "colab": {
          "base_uri": "https://localhost:8080/",
          "height": 50
        }
      },
      "source": [
        "# Identifiquemos algunos elementos como\n",
        "# Experimento : Hacer llegar el spot a las 100 personas y registrar el número de clientes que efectivamente compraron el artículo.\n",
        "# Variable aleatoria : X: \"el número de clientes (de los 100) que compraron el artículo\"\n",
        "# Espacio muestral : {0,1,2,...,100}\n",
        "#-------parámetros de pbinom ---------\n",
        "#size (n): 100\n",
        "#prob (p): 0.2\n",
        "\n",
        "# Observaciòn sobre P(X >= 30) = 1-P(X < 30) = 1-P(X<=29)\n",
        "\n",
        "\n",
        "1-pbinom(29, size = 100, prob = 0.2) # P(X >=30) \n",
        "\n",
        "pbinom(29, size = 100, prob = 0.2, lower.tail = F)\n"
      ],
      "execution_count": 47,
      "outputs": [
        {
          "output_type": "display_data",
          "data": {
            "text/plain": [
              "[1] 0.01124898"
            ],
            "text/latex": "0.0112489787209917",
            "text/markdown": "0.0112489787209917",
            "text/html": [
              "0.0112489787209917"
            ]
          },
          "metadata": {
            "tags": []
          }
        },
        {
          "output_type": "display_data",
          "data": {
            "text/plain": [
              "[1] 0.01124898"
            ],
            "text/latex": "0.0112489787209917",
            "text/markdown": "0.0112489787209917",
            "text/html": [
              "0.0112489787209917"
            ]
          },
          "metadata": {
            "tags": []
          }
        }
      ]
    },
    {
      "cell_type": "code",
      "metadata": {
        "id": "JuEHwJnisoPh",
        "outputId": "31968918-83a6-450f-a75b-c6d82a2eedb7",
        "colab": {
          "base_uri": "https://localhost:8080/",
          "height": 34
        }
      },
      "source": [
        "pbinom(30, size = 100, prob = 0.2) # P(X <= 30)\n",
        "pbinom(29, size = 100, prob = 0.2) # P(X <= 29) = P(X < 30)"
      ],
      "execution_count": 53,
      "outputs": [
        {
          "output_type": "display_data",
          "data": {
            "text/plain": [
              "[1] 0.9939407"
            ],
            "text/latex": "0.993940664518957",
            "text/markdown": "0.993940664518957",
            "text/html": [
              "0.993940664518957"
            ]
          },
          "metadata": {
            "tags": []
          }
        }
      ]
    },
    {
      "cell_type": "code",
      "metadata": {
        "id": "3Hp-sgF4s5e1",
        "outputId": "18888463-b393-4a09-ff96-f3318e542328",
        "colab": {
          "base_uri": "https://localhost:8080/",
          "height": 50
        }
      },
      "source": [
        "1-pbinom(30, size = 100, prob = 0.2) # P(X > 30) = P(X >= 31)\n",
        "1-pbinom(29, size = 100, prob = 0.2) # P(X > 29) = P(X >= 30) *"
      ],
      "execution_count": 54,
      "outputs": [
        {
          "output_type": "display_data",
          "data": {
            "text/plain": [
              "[1] 0.006059335"
            ],
            "text/latex": "0.00605933548104298",
            "text/markdown": "0.00605933548104298",
            "text/html": [
              "0.00605933548104298"
            ]
          },
          "metadata": {
            "tags": []
          }
        },
        {
          "output_type": "display_data",
          "data": {
            "text/plain": [
              "[1] 0.01124898"
            ],
            "text/latex": "0.0112489787209917",
            "text/markdown": "0.0112489787209917",
            "text/html": [
              "0.0112489787209917"
            ]
          },
          "metadata": {
            "tags": []
          }
        }
      ]
    },
    {
      "cell_type": "code",
      "metadata": {
        "trusted": true,
        "id": "hNMwMfgAIzQX",
        "outputId": "e057768e-8b26-4aeb-a08d-2d965d150267",
        "colab": {
          "base_uri": "https://localhost:8080/",
          "height": 50
        }
      },
      "source": [
        "# ¿Cuál es la probabilidad de que exactamente 30 personas compren el artículo ofrecido?\n",
        "dbinom(x = 30,size = 100, prob = 0.2)\n",
        "\n",
        "# otra alternativa\n",
        "pbinom(30,size = 100, prob = 0.2) - pbinom(29,size = 100, prob = 0.2)\n",
        "\n"
      ],
      "execution_count": 51,
      "outputs": [
        {
          "output_type": "display_data",
          "data": {
            "text/plain": [
              "[1] 0.005189643"
            ],
            "text/latex": "0.00518964323994865",
            "text/markdown": "0.00518964323994865",
            "text/html": [
              "0.00518964323994865"
            ]
          },
          "metadata": {
            "tags": []
          }
        },
        {
          "output_type": "display_data",
          "data": {
            "text/plain": [
              "[1] 0.005189643"
            ],
            "text/latex": "0.00518964323994875",
            "text/markdown": "0.00518964323994875",
            "text/html": [
              "0.00518964323994875"
            ]
          },
          "metadata": {
            "tags": []
          }
        }
      ]
    },
    {
      "cell_type": "markdown",
      "metadata": {
        "id": "cNebkKaeIzQX"
      },
      "source": [
        "**P3.** En una localidad se sabe que el 70% de las casas tienen un televisor.  Se quiere realizar una encuesta a 8 casas ¿cuál es la probabilidad de que 6 o más de ellas tengan televisor?"
      ]
    },
    {
      "cell_type": "code",
      "metadata": {
        "trusted": true,
        "id": "nb9XiMpSIzQX",
        "outputId": "c5a4250d-5a75-47ff-fa4d-79a9510b1a66",
        "colab": {
          "base_uri": "https://localhost:8080/",
          "height": 50
        }
      },
      "source": [
        "# Variable al: X: Total de casas con tv\n",
        "# size = 8\n",
        "# prob = 0.7\n",
        "\n",
        "pbinom(5,size = 8, prob = 0.7, lower.tail = F)\n",
        "\n",
        "# NOTA:\n",
        "dbinom(6,size = 8, prob = 0.7) +dbinom(7,size = 8, prob = 0.7)+dbinom(8,size = 8, prob = 0.7)\n",
        "\n"
      ],
      "execution_count": 57,
      "outputs": [
        {
          "output_type": "display_data",
          "data": {
            "text/plain": [
              "[1] 0.5517738"
            ],
            "text/latex": "0.55177381",
            "text/markdown": "0.55177381",
            "text/html": [
              "0.55177381"
            ]
          },
          "metadata": {
            "tags": []
          }
        },
        {
          "output_type": "display_data",
          "data": {
            "text/plain": [
              "[1] 0.5517738"
            ],
            "text/latex": "0.55177381",
            "text/markdown": "0.55177381",
            "text/html": [
              "0.55177381"
            ]
          },
          "metadata": {
            "tags": []
          }
        }
      ]
    },
    {
      "cell_type": "markdown",
      "metadata": {
        "id": "9SSV-KEkIzQX"
      },
      "source": [
        "## Lanzando una moneda \n",
        "**P4** Supongamos que una **honesta** se lanza 14 veces y se anota el número veces que se obtuvo cara.\n",
        "\n",
        "**a)** ¿Cuál es la probabilidad de obtener exactamente 4 caras? ¿y al menos 10?"
      ]
    },
    {
      "cell_type": "code",
      "metadata": {
        "trusted": true,
        "id": "MyXXdYQ8IzQX",
        "outputId": "86ce0776-3d07-4977-ae5b-9e256118bbab",
        "colab": {
          "base_uri": "https://localhost:8080/",
          "height": 50
        }
      },
      "source": [
        "#size = n = 14, y prob = p = 0.5 ?\n",
        "dbinom(4,size = 14, prob = 0.5)#6% de prob de observar exactamente 4 caras\n",
        "pbinom(9,size = 14, prob = 0.5, lower.tail = F)# 9% de prob de observar 10 o más caras\n"
      ],
      "execution_count": 59,
      "outputs": [
        {
          "output_type": "display_data",
          "data": {
            "text/plain": [
              "[1] 0.06109619"
            ],
            "text/latex": "0.0610961914062499",
            "text/markdown": "0.0610961914062499",
            "text/html": [
              "0.0610961914062499"
            ]
          },
          "metadata": {
            "tags": []
          }
        },
        {
          "output_type": "display_data",
          "data": {
            "text/plain": [
              "[1] 0.08978271"
            ],
            "text/latex": "0.08978271484375",
            "text/markdown": "0.08978271484375",
            "text/html": [
              "0.08978271484375"
            ]
          },
          "metadata": {
            "tags": []
          }
        }
      ]
    },
    {
      "cell_type": "markdown",
      "metadata": {
        "id": "AlXH-gaYIzQY"
      },
      "source": [
        "  \n",
        "**b)** Si se repite el experimento 5 veces. ¿Qué proporción de caras se debería esperar?¿y si se repite más veces?  Utillice la función rbinom para simular el experimento 1000 veces."
      ]
    },
    {
      "cell_type": "code",
      "metadata": {
        "id": "jaQSkvXDyKE2"
      },
      "source": [
        "set.seed(2021)"
      ],
      "execution_count": 81,
      "outputs": []
    },
    {
      "cell_type": "code",
      "metadata": {
        "trusted": true,
        "id": "bVAWrKGZIzQY"
      },
      "source": [
        "# simulamos un experimento binomial\n",
        "lanzamientos <- rbinom(n = 1000, size = 14, prob = 0.5)"
      ],
      "execution_count": 82,
      "outputs": []
    },
    {
      "cell_type": "code",
      "metadata": {
        "id": "I1B9ieHqyM3l",
        "outputId": "b52186ca-c127-4549-9c72-4ab608febc9c",
        "colab": {
          "base_uri": "https://localhost:8080/",
          "height": 185
        }
      },
      "source": [
        "lanzamientos"
      ],
      "execution_count": 83,
      "outputs": [
        {
          "output_type": "display_data",
          "data": {
            "text/plain": [
              "   [1]  7  8  8  6  8  8  8  6  9 11  3  9  7  7  9  6  7  9 10  7  5 10  6  6\n",
              "  [25]  7 10 10  9 10  9  4 10 10  9  7  6 10  6 10  7  5  9  7 10  5  9  9  3\n",
              "  [49]  4  9  7  8  4  7  6  5  7  6  9  8  3  7  4  7  9  5  4  8  6  4  4  8\n",
              "  [73]  5 10  4  7  7  6  8 12  7  7 10  8  6  6 11  9  7  7  6  8 10  7  6  9\n",
              "  [97]  8  8  8  8  6  6  3  9  7  6  6  7  5  8  7  5  8  8  7  7  4  6  4  4\n",
              " [121]  7  6  7  8  8  6  6  9  7  6  5  6  8  7 10  4  7 10  5  7  6 11  7  6\n",
              " [145]  4  7 10  9  5  7  7  4  5  7  4  8  9  6  8  8  6  6  6  7  3  9  8  6\n",
              " [169]  7  7  5  8  8  3  4  5  5  5  8  8  9  6  6  8  7  6  8  8  7  6  7  5\n",
              " [193]  6  7  5 10  6  7  3  7  7  5  8  9  7  6  6  7  5  5  7  6  7  6  2  5\n",
              " [217]  6  4  8 11  8  9  7  8  5  5  7  8  3  7 10  5  8  4 10  6  7  8  4  9\n",
              " [241]  8  7  6  4  4  8  3  8 11  7  8  4  9  4  8  7  9  7 11  7  7  5  8  8\n",
              " [265]  7  6  3  7  8  6  6  5  8  9  6  9  7  3  7  7  5  8  8  6  2  8  5  6\n",
              " [289]  8  6  5  7  7  5  8  6  7  9 10  8  6  5  7  5  5  6  8  7  5  8  6 12\n",
              " [313]  6  6  8  7  5  5  6  7  9  8  8  6  7  5  9  8  6  9  6  4  4  9 11  4\n",
              " [337] 12 10 11  5  9 10  7  4  6  8  9  6  5  6  9  9  8  7 10  8  6  7  7 10\n",
              " [361]  5  5  5 10  8  9  9  8  8  9  7  8 10  8  7  9  8  5  7  4  5  9  7  7\n",
              " [385]  9  8  6  7  8  5  4  7  7  4  8  5  7  5  8  6  8  9  4  5  5  7  6  7\n",
              " [409]  6  7  7  3  5  7  8  6  7  6  6  6 10  6  8  7  7 11  9  9  9  7  7 11\n",
              " [433]  6  8  6  5  5  8  6 10  7  8 10  5  7  7  8  5 11  3  7  9 10  7  8 11\n",
              " [457]  7  6  8  7  4  7  4  9 10  8  7 10  9  6  8  4  7  8  7  8  4  6  7  6\n",
              " [481] 11  5  9  7  3  5  9  5  9  7  4  5  9  7  6  6  3 10  8  7  7  4  6  8\n",
              " [505]  4  4  5  3  8  5  7  4  9  9  4  8  7 10 10  5  5  8  9  7  7  9  9  8\n",
              " [529]  6  8  5  7  9  4  7 12  8  8 10  6  5  8  9  6  7  8  8  5  5  7  9  2\n",
              " [553]  5 10  7  9  6  6 11  9  7  9  8  7  9 10  8  6  6  8 12  6  7  9  4  7\n",
              " [577]  3  5  4  6  7  9  5  4  9  7  5  7  7  4  9  6  7  8  6  7  6  6  6  4\n",
              " [601]  9 11  9  7 10  6  8 11  8  4  6  8  6  7  8  4  7  7  4 11  5  6  8  8\n",
              " [625]  5  7  7  7  7  7  5  6  6  4  6  5 10  5  8  4  8  6  8  3  7 10  5  5\n",
              " [649]  7  9  8  8  7  7  8  5  6  5  8  6  7  7  5  7  4  8  6  7  3  6  9  7\n",
              " [673]  5  7  7 10  8  5  7  5  4  7  8  7  4  8  5  5  7  3 10  7  6  3  3  4\n",
              " [697]  5  8  4  4  9  8  4  9  9  9  7  7  7  5  9  6  9 11  5  2  7 10  9  4\n",
              " [721]  8  6  4  6  5  9  6 11  6  8  7  8  5  8  4 11  8  8  5  2  8  9  6  8\n",
              " [745]  7  6  6  4  9  6  8  7  6  8  9  4  6  6  6  6  8  8  7  6  8  7  5  6\n",
              " [769]  3  5  7 11  6  4  9  7  7  7  8  4  6  7  4  6  7  6  9  6  5  9  8 10\n",
              " [793]  8  9 10  4 11  7  7  9  6  6  7  4  8  8  6  6  9  4  4  8  7  6  9  8\n",
              " [817]  8  7  7  6  5  9  6  8  4  8  8  9  6  7 10  7 10  6  7  5  8  7  5  7\n",
              " [841]  9  7  8  7  7  9  4  7  9  6  9 10  9  4  9  8 11  5 10  9 10  7  9  7\n",
              " [865]  5  9 10  7  6  7 10  5  6  7  6  3  7  7 11  6  7  7  9  7  5  8  7  3\n",
              " [889]  7  7  8  9  8  5  8  9  7 10 11 10  9  7  5  9  6  7  7  6  7  6  5  4\n",
              " [913]  5  8  8  5  9  8 11  8 10  6  8  8  6  7  7  4  5  4  7  8 10  8  8  7\n",
              " [937]  8  5 10 10  7  8  7  8 10  7  7  4  7  8  3  7  8  9  6  6  7  8 11  5\n",
              " [961]  7  7  5  7  5  7  6  6 12  8  7  4  6 10  9  4  8  6  5  5  6  7  5  6\n",
              " [985]  9  8  7  8  4 10  9  7  9 10 10  6 10  7  7 10"
            ],
            "text/latex": "\\begin{enumerate*}\n\\item 7\n\\item 8\n\\item 8\n\\item 6\n\\item 8\n\\item 8\n\\item 8\n\\item 6\n\\item 9\n\\item 11\n\\item 3\n\\item 9\n\\item 7\n\\item 7\n\\item 9\n\\item 6\n\\item 7\n\\item 9\n\\item 10\n\\item 7\n\\item 5\n\\item 10\n\\item 6\n\\item 6\n\\item 7\n\\item 10\n\\item 10\n\\item 9\n\\item 10\n\\item 9\n\\item 4\n\\item 10\n\\item 10\n\\item 9\n\\item 7\n\\item 6\n\\item 10\n\\item 6\n\\item 10\n\\item 7\n\\item 5\n\\item 9\n\\item 7\n\\item 10\n\\item 5\n\\item 9\n\\item 9\n\\item 3\n\\item 4\n\\item 9\n\\item 7\n\\item 8\n\\item 4\n\\item 7\n\\item 6\n\\item 5\n\\item 7\n\\item 6\n\\item 9\n\\item 8\n\\item 3\n\\item 7\n\\item 4\n\\item 7\n\\item 9\n\\item 5\n\\item 4\n\\item 8\n\\item 6\n\\item 4\n\\item 4\n\\item 8\n\\item 5\n\\item 10\n\\item 4\n\\item 7\n\\item 7\n\\item 6\n\\item 8\n\\item 12\n\\item 7\n\\item 7\n\\item 10\n\\item 8\n\\item 6\n\\item 6\n\\item 11\n\\item 9\n\\item 7\n\\item 7\n\\item 6\n\\item 8\n\\item 10\n\\item 7\n\\item 6\n\\item 9\n\\item 8\n\\item 8\n\\item 8\n\\item 8\n\\item 6\n\\item 6\n\\item 3\n\\item 9\n\\item 7\n\\item 6\n\\item 6\n\\item 7\n\\item 5\n\\item 8\n\\item 7\n\\item 5\n\\item 8\n\\item 8\n\\item 7\n\\item 7\n\\item 4\n\\item 6\n\\item 4\n\\item 4\n\\item 7\n\\item 6\n\\item 7\n\\item 8\n\\item 8\n\\item 6\n\\item 6\n\\item 9\n\\item 7\n\\item 6\n\\item 5\n\\item 6\n\\item 8\n\\item 7\n\\item 10\n\\item 4\n\\item 7\n\\item 10\n\\item 5\n\\item 7\n\\item 6\n\\item 11\n\\item 7\n\\item 6\n\\item 4\n\\item 7\n\\item 10\n\\item 9\n\\item 5\n\\item 7\n\\item 7\n\\item 4\n\\item 5\n\\item 7\n\\item 4\n\\item 8\n\\item 9\n\\item 6\n\\item 8\n\\item 8\n\\item 6\n\\item 6\n\\item 6\n\\item 7\n\\item 3\n\\item 9\n\\item 8\n\\item 6\n\\item 7\n\\item 7\n\\item 5\n\\item 8\n\\item 8\n\\item 3\n\\item 4\n\\item 5\n\\item 5\n\\item 5\n\\item 8\n\\item 8\n\\item 9\n\\item 6\n\\item 6\n\\item 8\n\\item 7\n\\item 6\n\\item 8\n\\item 8\n\\item 7\n\\item 6\n\\item 7\n\\item 5\n\\item 6\n\\item 7\n\\item 5\n\\item 10\n\\item 6\n\\item 7\n\\item 3\n\\item 7\n\\item ⋯\n\\item 6\n\\item 6\n\\item 7\n\\item 4\n\\item 8\n\\item 8\n\\item 6\n\\item 6\n\\item 9\n\\item 4\n\\item 4\n\\item 8\n\\item 7\n\\item 6\n\\item 9\n\\item 8\n\\item 8\n\\item 7\n\\item 7\n\\item 6\n\\item 5\n\\item 9\n\\item 6\n\\item 8\n\\item 4\n\\item 8\n\\item 8\n\\item 9\n\\item 6\n\\item 7\n\\item 10\n\\item 7\n\\item 10\n\\item 6\n\\item 7\n\\item 5\n\\item 8\n\\item 7\n\\item 5\n\\item 7\n\\item 9\n\\item 7\n\\item 8\n\\item 7\n\\item 7\n\\item 9\n\\item 4\n\\item 7\n\\item 9\n\\item 6\n\\item 9\n\\item 10\n\\item 9\n\\item 4\n\\item 9\n\\item 8\n\\item 11\n\\item 5\n\\item 10\n\\item 9\n\\item 10\n\\item 7\n\\item 9\n\\item 7\n\\item 5\n\\item 9\n\\item 10\n\\item 7\n\\item 6\n\\item 7\n\\item 10\n\\item 5\n\\item 6\n\\item 7\n\\item 6\n\\item 3\n\\item 7\n\\item 7\n\\item 11\n\\item 6\n\\item 7\n\\item 7\n\\item 9\n\\item 7\n\\item 5\n\\item 8\n\\item 7\n\\item 3\n\\item 7\n\\item 7\n\\item 8\n\\item 9\n\\item 8\n\\item 5\n\\item 8\n\\item 9\n\\item 7\n\\item 10\n\\item 11\n\\item 10\n\\item 9\n\\item 7\n\\item 5\n\\item 9\n\\item 6\n\\item 7\n\\item 7\n\\item 6\n\\item 7\n\\item 6\n\\item 5\n\\item 4\n\\item 5\n\\item 8\n\\item 8\n\\item 5\n\\item 9\n\\item 8\n\\item 11\n\\item 8\n\\item 10\n\\item 6\n\\item 8\n\\item 8\n\\item 6\n\\item 7\n\\item 7\n\\item 4\n\\item 5\n\\item 4\n\\item 7\n\\item 8\n\\item 10\n\\item 8\n\\item 8\n\\item 7\n\\item 8\n\\item 5\n\\item 10\n\\item 10\n\\item 7\n\\item 8\n\\item 7\n\\item 8\n\\item 10\n\\item 7\n\\item 7\n\\item 4\n\\item 7\n\\item 8\n\\item 3\n\\item 7\n\\item 8\n\\item 9\n\\item 6\n\\item 6\n\\item 7\n\\item 8\n\\item 11\n\\item 5\n\\item 7\n\\item 7\n\\item 5\n\\item 7\n\\item 5\n\\item 7\n\\item 6\n\\item 6\n\\item 12\n\\item 8\n\\item 7\n\\item 4\n\\item 6\n\\item 10\n\\item 9\n\\item 4\n\\item 8\n\\item 6\n\\item 5\n\\item 5\n\\item 6\n\\item 7\n\\item 5\n\\item 6\n\\item 9\n\\item 8\n\\item 7\n\\item 8\n\\item 4\n\\item 10\n\\item 9\n\\item 7\n\\item 9\n\\item 10\n\\item 10\n\\item 6\n\\item 10\n\\item 7\n\\item 7\n\\item 10\n\\end{enumerate*}\n",
            "text/markdown": "1. 7\n2. 8\n3. 8\n4. 6\n5. 8\n6. 8\n7. 8\n8. 6\n9. 9\n10. 11\n11. 3\n12. 9\n13. 7\n14. 7\n15. 9\n16. 6\n17. 7\n18. 9\n19. 10\n20. 7\n21. 5\n22. 10\n23. 6\n24. 6\n25. 7\n26. 10\n27. 10\n28. 9\n29. 10\n30. 9\n31. 4\n32. 10\n33. 10\n34. 9\n35. 7\n36. 6\n37. 10\n38. 6\n39. 10\n40. 7\n41. 5\n42. 9\n43. 7\n44. 10\n45. 5\n46. 9\n47. 9\n48. 3\n49. 4\n50. 9\n51. 7\n52. 8\n53. 4\n54. 7\n55. 6\n56. 5\n57. 7\n58. 6\n59. 9\n60. 8\n61. 3\n62. 7\n63. 4\n64. 7\n65. 9\n66. 5\n67. 4\n68. 8\n69. 6\n70. 4\n71. 4\n72. 8\n73. 5\n74. 10\n75. 4\n76. 7\n77. 7\n78. 6\n79. 8\n80. 12\n81. 7\n82. 7\n83. 10\n84. 8\n85. 6\n86. 6\n87. 11\n88. 9\n89. 7\n90. 7\n91. 6\n92. 8\n93. 10\n94. 7\n95. 6\n96. 9\n97. 8\n98. 8\n99. 8\n100. 8\n101. 6\n102. 6\n103. 3\n104. 9\n105. 7\n106. 6\n107. 6\n108. 7\n109. 5\n110. 8\n111. 7\n112. 5\n113. 8\n114. 8\n115. 7\n116. 7\n117. 4\n118. 6\n119. 4\n120. 4\n121. 7\n122. 6\n123. 7\n124. 8\n125. 8\n126. 6\n127. 6\n128. 9\n129. 7\n130. 6\n131. 5\n132. 6\n133. 8\n134. 7\n135. 10\n136. 4\n137. 7\n138. 10\n139. 5\n140. 7\n141. 6\n142. 11\n143. 7\n144. 6\n145. 4\n146. 7\n147. 10\n148. 9\n149. 5\n150. 7\n151. 7\n152. 4\n153. 5\n154. 7\n155. 4\n156. 8\n157. 9\n158. 6\n159. 8\n160. 8\n161. 6\n162. 6\n163. 6\n164. 7\n165. 3\n166. 9\n167. 8\n168. 6\n169. 7\n170. 7\n171. 5\n172. 8\n173. 8\n174. 3\n175. 4\n176. 5\n177. 5\n178. 5\n179. 8\n180. 8\n181. 9\n182. 6\n183. 6\n184. 8\n185. 7\n186. 6\n187. 8\n188. 8\n189. 7\n190. 6\n191. 7\n192. 5\n193. 6\n194. 7\n195. 5\n196. 10\n197. 6\n198. 7\n199. 3\n200. 7\n201. ⋯\n202. 6\n203. 6\n204. 7\n205. 4\n206. 8\n207. 8\n208. 6\n209. 6\n210. 9\n211. 4\n212. 4\n213. 8\n214. 7\n215. 6\n216. 9\n217. 8\n218. 8\n219. 7\n220. 7\n221. 6\n222. 5\n223. 9\n224. 6\n225. 8\n226. 4\n227. 8\n228. 8\n229. 9\n230. 6\n231. 7\n232. 10\n233. 7\n234. 10\n235. 6\n236. 7\n237. 5\n238. 8\n239. 7\n240. 5\n241. 7\n242. 9\n243. 7\n244. 8\n245. 7\n246. 7\n247. 9\n248. 4\n249. 7\n250. 9\n251. 6\n252. 9\n253. 10\n254. 9\n255. 4\n256. 9\n257. 8\n258. 11\n259. 5\n260. 10\n261. 9\n262. 10\n263. 7\n264. 9\n265. 7\n266. 5\n267. 9\n268. 10\n269. 7\n270. 6\n271. 7\n272. 10\n273. 5\n274. 6\n275. 7\n276. 6\n277. 3\n278. 7\n279. 7\n280. 11\n281. 6\n282. 7\n283. 7\n284. 9\n285. 7\n286. 5\n287. 8\n288. 7\n289. 3\n290. 7\n291. 7\n292. 8\n293. 9\n294. 8\n295. 5\n296. 8\n297. 9\n298. 7\n299. 10\n300. 11\n301. 10\n302. 9\n303. 7\n304. 5\n305. 9\n306. 6\n307. 7\n308. 7\n309. 6\n310. 7\n311. 6\n312. 5\n313. 4\n314. 5\n315. 8\n316. 8\n317. 5\n318. 9\n319. 8\n320. 11\n321. 8\n322. 10\n323. 6\n324. 8\n325. 8\n326. 6\n327. 7\n328. 7\n329. 4\n330. 5\n331. 4\n332. 7\n333. 8\n334. 10\n335. 8\n336. 8\n337. 7\n338. 8\n339. 5\n340. 10\n341. 10\n342. 7\n343. 8\n344. 7\n345. 8\n346. 10\n347. 7\n348. 7\n349. 4\n350. 7\n351. 8\n352. 3\n353. 7\n354. 8\n355. 9\n356. 6\n357. 6\n358. 7\n359. 8\n360. 11\n361. 5\n362. 7\n363. 7\n364. 5\n365. 7\n366. 5\n367. 7\n368. 6\n369. 6\n370. 12\n371. 8\n372. 7\n373. 4\n374. 6\n375. 10\n376. 9\n377. 4\n378. 8\n379. 6\n380. 5\n381. 5\n382. 6\n383. 7\n384. 5\n385. 6\n386. 9\n387. 8\n388. 7\n389. 8\n390. 4\n391. 10\n392. 9\n393. 7\n394. 9\n395. 10\n396. 10\n397. 6\n398. 10\n399. 7\n400. 7\n401. 10\n\n\n",
            "text/html": [
              "<style>\n",
              ".list-inline {list-style: none; margin:0; padding: 0}\n",
              ".list-inline>li {display: inline-block}\n",
              ".list-inline>li:not(:last-child)::after {content: \"\\00b7\"; padding: 0 .5ex}\n",
              "</style>\n",
              "<ol class=list-inline><li>7</li><li>8</li><li>8</li><li>6</li><li>8</li><li>8</li><li>8</li><li>6</li><li>9</li><li>11</li><li>3</li><li>9</li><li>7</li><li>7</li><li>9</li><li>6</li><li>7</li><li>9</li><li>10</li><li>7</li><li>5</li><li>10</li><li>6</li><li>6</li><li>7</li><li>10</li><li>10</li><li>9</li><li>10</li><li>9</li><li>4</li><li>10</li><li>10</li><li>9</li><li>7</li><li>6</li><li>10</li><li>6</li><li>10</li><li>7</li><li>5</li><li>9</li><li>7</li><li>10</li><li>5</li><li>9</li><li>9</li><li>3</li><li>4</li><li>9</li><li>7</li><li>8</li><li>4</li><li>7</li><li>6</li><li>5</li><li>7</li><li>6</li><li>9</li><li>8</li><li>3</li><li>7</li><li>4</li><li>7</li><li>9</li><li>5</li><li>4</li><li>8</li><li>6</li><li>4</li><li>4</li><li>8</li><li>5</li><li>10</li><li>4</li><li>7</li><li>7</li><li>6</li><li>8</li><li>12</li><li>7</li><li>7</li><li>10</li><li>8</li><li>6</li><li>6</li><li>11</li><li>9</li><li>7</li><li>7</li><li>6</li><li>8</li><li>10</li><li>7</li><li>6</li><li>9</li><li>8</li><li>8</li><li>8</li><li>8</li><li>6</li><li>6</li><li>3</li><li>9</li><li>7</li><li>6</li><li>6</li><li>7</li><li>5</li><li>8</li><li>7</li><li>5</li><li>8</li><li>8</li><li>7</li><li>7</li><li>4</li><li>6</li><li>4</li><li>4</li><li>7</li><li>6</li><li>7</li><li>8</li><li>8</li><li>6</li><li>6</li><li>9</li><li>7</li><li>6</li><li>5</li><li>6</li><li>8</li><li>7</li><li>10</li><li>4</li><li>7</li><li>10</li><li>5</li><li>7</li><li>6</li><li>11</li><li>7</li><li>6</li><li>4</li><li>7</li><li>10</li><li>9</li><li>5</li><li>7</li><li>7</li><li>4</li><li>5</li><li>7</li><li>4</li><li>8</li><li>9</li><li>6</li><li>8</li><li>8</li><li>6</li><li>6</li><li>6</li><li>7</li><li>3</li><li>9</li><li>8</li><li>6</li><li>7</li><li>7</li><li>5</li><li>8</li><li>8</li><li>3</li><li>4</li><li>5</li><li>5</li><li>5</li><li>8</li><li>8</li><li>9</li><li>6</li><li>6</li><li>8</li><li>7</li><li>6</li><li>8</li><li>8</li><li>7</li><li>6</li><li>7</li><li>5</li><li>6</li><li>7</li><li>5</li><li>10</li><li>6</li><li>7</li><li>3</li><li>7</li><li>⋯</li><li>6</li><li>6</li><li>7</li><li>4</li><li>8</li><li>8</li><li>6</li><li>6</li><li>9</li><li>4</li><li>4</li><li>8</li><li>7</li><li>6</li><li>9</li><li>8</li><li>8</li><li>7</li><li>7</li><li>6</li><li>5</li><li>9</li><li>6</li><li>8</li><li>4</li><li>8</li><li>8</li><li>9</li><li>6</li><li>7</li><li>10</li><li>7</li><li>10</li><li>6</li><li>7</li><li>5</li><li>8</li><li>7</li><li>5</li><li>7</li><li>9</li><li>7</li><li>8</li><li>7</li><li>7</li><li>9</li><li>4</li><li>7</li><li>9</li><li>6</li><li>9</li><li>10</li><li>9</li><li>4</li><li>9</li><li>8</li><li>11</li><li>5</li><li>10</li><li>9</li><li>10</li><li>7</li><li>9</li><li>7</li><li>5</li><li>9</li><li>10</li><li>7</li><li>6</li><li>7</li><li>10</li><li>5</li><li>6</li><li>7</li><li>6</li><li>3</li><li>7</li><li>7</li><li>11</li><li>6</li><li>7</li><li>7</li><li>9</li><li>7</li><li>5</li><li>8</li><li>7</li><li>3</li><li>7</li><li>7</li><li>8</li><li>9</li><li>8</li><li>5</li><li>8</li><li>9</li><li>7</li><li>10</li><li>11</li><li>10</li><li>9</li><li>7</li><li>5</li><li>9</li><li>6</li><li>7</li><li>7</li><li>6</li><li>7</li><li>6</li><li>5</li><li>4</li><li>5</li><li>8</li><li>8</li><li>5</li><li>9</li><li>8</li><li>11</li><li>8</li><li>10</li><li>6</li><li>8</li><li>8</li><li>6</li><li>7</li><li>7</li><li>4</li><li>5</li><li>4</li><li>7</li><li>8</li><li>10</li><li>8</li><li>8</li><li>7</li><li>8</li><li>5</li><li>10</li><li>10</li><li>7</li><li>8</li><li>7</li><li>8</li><li>10</li><li>7</li><li>7</li><li>4</li><li>7</li><li>8</li><li>3</li><li>7</li><li>8</li><li>9</li><li>6</li><li>6</li><li>7</li><li>8</li><li>11</li><li>5</li><li>7</li><li>7</li><li>5</li><li>7</li><li>5</li><li>7</li><li>6</li><li>6</li><li>12</li><li>8</li><li>7</li><li>4</li><li>6</li><li>10</li><li>9</li><li>4</li><li>8</li><li>6</li><li>5</li><li>5</li><li>6</li><li>7</li><li>5</li><li>6</li><li>9</li><li>8</li><li>7</li><li>8</li><li>4</li><li>10</li><li>9</li><li>7</li><li>9</li><li>10</li><li>10</li><li>6</li><li>10</li><li>7</li><li>7</li><li>10</li></ol>\n"
            ]
          },
          "metadata": {
            "tags": []
          }
        }
      ]
    },
    {
      "cell_type": "code",
      "metadata": {
        "id": "YFVKrrawyU0B",
        "outputId": "82017e5c-5bb0-4b92-f4fc-ad27e5871633",
        "colab": {
          "base_uri": "https://localhost:8080/",
          "height": 34
        }
      },
      "source": [
        "mean(lanzamientos) # Cerca del 50% de los 14 lanzamientos por experimento"
      ],
      "execution_count": 84,
      "outputs": [
        {
          "output_type": "display_data",
          "data": {
            "text/plain": [
              "[1] 6.973"
            ],
            "text/latex": "6.973",
            "text/markdown": "6.973",
            "text/html": [
              "6.973"
            ]
          },
          "metadata": {
            "tags": []
          }
        }
      ]
    },
    {
      "cell_type": "code",
      "metadata": {
        "trusted": true,
        "id": "Xz05Mz7kIzQY",
        "outputId": "962eb487-9850-4d8e-fbd5-e714f32ee228",
        "colab": {
          "base_uri": "https://localhost:8080/",
          "height": 315
        }
      },
      "source": [
        "# podemos construir un gráfico de barras con los conteos\n",
        "df <- data.frame(caras  = lanzamientos)\n",
        "head(df)\n"
      ],
      "execution_count": 85,
      "outputs": [
        {
          "output_type": "display_data",
          "data": {
            "text/plain": [
              "  caras\n",
              "1 7    \n",
              "2 8    \n",
              "3 8    \n",
              "4 6    \n",
              "5 8    \n",
              "6 8    "
            ],
            "text/latex": "A data.frame: 6 × 1\n\\begin{tabular}{r|l}\n  & caras\\\\\n  & <int>\\\\\n\\hline\n\t1 & 7\\\\\n\t2 & 8\\\\\n\t3 & 8\\\\\n\t4 & 6\\\\\n\t5 & 8\\\\\n\t6 & 8\\\\\n\\end{tabular}\n",
            "text/markdown": "\nA data.frame: 6 × 1\n\n| <!--/--> | caras &lt;int&gt; |\n|---|---|\n| 1 | 7 |\n| 2 | 8 |\n| 3 | 8 |\n| 4 | 6 |\n| 5 | 8 |\n| 6 | 8 |\n\n",
            "text/html": [
              "<table class=\"dataframe\">\n",
              "<caption>A data.frame: 6 × 1</caption>\n",
              "<thead>\n",
              "\t<tr><th></th><th scope=col>caras</th></tr>\n",
              "\t<tr><th></th><th scope=col>&lt;int&gt;</th></tr>\n",
              "</thead>\n",
              "<tbody>\n",
              "\t<tr><th scope=row>1</th><td>7</td></tr>\n",
              "\t<tr><th scope=row>2</th><td>8</td></tr>\n",
              "\t<tr><th scope=row>3</th><td>8</td></tr>\n",
              "\t<tr><th scope=row>4</th><td>6</td></tr>\n",
              "\t<tr><th scope=row>5</th><td>8</td></tr>\n",
              "\t<tr><th scope=row>6</th><td>8</td></tr>\n",
              "</tbody>\n",
              "</table>\n"
            ]
          },
          "metadata": {
            "tags": []
          }
        }
      ]
    },
    {
      "cell_type": "code",
      "metadata": {
        "id": "2yGaPlduzZ99",
        "outputId": "9eefadc5-690d-4513-c482-04f835dba5ad",
        "colab": {
          "base_uri": "https://localhost:8080/",
          "height": 452
        }
      },
      "source": [
        "df %>% \n",
        "  count(caras)"
      ],
      "execution_count": 86,
      "outputs": [
        {
          "output_type": "display_data",
          "data": {
            "text/plain": [
              "   caras n  \n",
              "1   2      5\n",
              "2   3     26\n",
              "3   4     81\n",
              "4   5    115\n",
              "5   6    161\n",
              "6   7    227\n",
              "7   8    172\n",
              "8   9    114\n",
              "9  10     66\n",
              "10 11     27\n",
              "11 12      6"
            ],
            "text/latex": "A data.frame: 11 × 2\n\\begin{tabular}{ll}\n caras & n\\\\\n <int> & <int>\\\\\n\\hline\n\t  2 &   5\\\\\n\t  3 &  26\\\\\n\t  4 &  81\\\\\n\t  5 & 115\\\\\n\t  6 & 161\\\\\n\t  7 & 227\\\\\n\t  8 & 172\\\\\n\t  9 & 114\\\\\n\t 10 &  66\\\\\n\t 11 &  27\\\\\n\t 12 &   6\\\\\n\\end{tabular}\n",
            "text/markdown": "\nA data.frame: 11 × 2\n\n| caras &lt;int&gt; | n &lt;int&gt; |\n|---|---|\n|  2 |   5 |\n|  3 |  26 |\n|  4 |  81 |\n|  5 | 115 |\n|  6 | 161 |\n|  7 | 227 |\n|  8 | 172 |\n|  9 | 114 |\n| 10 |  66 |\n| 11 |  27 |\n| 12 |   6 |\n\n",
            "text/html": [
              "<table class=\"dataframe\">\n",
              "<caption>A data.frame: 11 × 2</caption>\n",
              "<thead>\n",
              "\t<tr><th scope=col>caras</th><th scope=col>n</th></tr>\n",
              "\t<tr><th scope=col>&lt;int&gt;</th><th scope=col>&lt;int&gt;</th></tr>\n",
              "</thead>\n",
              "<tbody>\n",
              "\t<tr><td> 2</td><td>  5</td></tr>\n",
              "\t<tr><td> 3</td><td> 26</td></tr>\n",
              "\t<tr><td> 4</td><td> 81</td></tr>\n",
              "\t<tr><td> 5</td><td>115</td></tr>\n",
              "\t<tr><td> 6</td><td>161</td></tr>\n",
              "\t<tr><td> 7</td><td>227</td></tr>\n",
              "\t<tr><td> 8</td><td>172</td></tr>\n",
              "\t<tr><td> 9</td><td>114</td></tr>\n",
              "\t<tr><td>10</td><td> 66</td></tr>\n",
              "\t<tr><td>11</td><td> 27</td></tr>\n",
              "\t<tr><td>12</td><td>  6</td></tr>\n",
              "</tbody>\n",
              "</table>\n"
            ]
          },
          "metadata": {
            "tags": []
          }
        }
      ]
    },
    {
      "cell_type": "code",
      "metadata": {
        "id": "y09wVyWi0xjv",
        "outputId": "e6e6c26c-82db-4269-b498-7613d7b0fed8",
        "colab": {
          "base_uri": "https://localhost:8080/",
          "height": 34
        }
      },
      "source": [
        "(N <- nrow(df))"
      ],
      "execution_count": 91,
      "outputs": [
        {
          "output_type": "display_data",
          "data": {
            "text/plain": [
              "[1] 1000"
            ],
            "text/latex": "1000",
            "text/markdown": "1000",
            "text/html": [
              "1000"
            ]
          },
          "metadata": {
            "tags": []
          }
        }
      ]
    },
    {
      "cell_type": "code",
      "metadata": {
        "trusted": true,
        "id": "hMv43FOOIzQY",
        "outputId": "7c7eb5b8-9531-402c-c8cb-20adfc6ee2c1",
        "colab": {
          "base_uri": "https://localhost:8080/",
          "height": 437
        }
      },
      "source": [
        "# gráfio ggplot \n",
        "\n",
        "df %>% \n",
        "    ggplot() +\n",
        "    aes(x = caras) +\n",
        "    geom_bar(stat = \"count\")\n",
        "\n"
      ],
      "execution_count": 93,
      "outputs": [
        {
          "output_type": "display_data",
          "data": {
            "image/png": "[encoded data removed]",
            "text/plain": [
              "plot without title"
            ]
          },
          "metadata": {
            "tags": [],
            "image/png": {
              "width": 420,
              "height": 420
            }
          }
        }
      ]
    },
    {
      "cell_type": "code",
      "metadata": {
        "id": "Mh1BclyD151Z"
      },
      "source": [
        "# Tabla con conteos por cada total de caras y sus probabilidades observadas\n",
        "df %>% \n",
        "  group_by(caras) %>%\n",
        "  summarise(count = n(),\n",
        "            prob_obs = count/N) "
      ],
      "execution_count": null,
      "outputs": []
    },
    {
      "cell_type": "code",
      "metadata": {
        "id": "kwPFr5-K1Rqb",
        "outputId": "f78ada5e-5a4c-4f8e-b13b-82dec577c2a3",
        "colab": {
          "base_uri": "https://localhost:8080/",
          "height": 437
        }
      },
      "source": [
        "# Frecuencias relativas\n",
        "df %>% \n",
        "  group_by(caras) %>%\n",
        "  summarise(count = n(),\n",
        "            prob_obs = count/N) %>%\n",
        "    ggplot() +\n",
        "    aes(x = caras, y = prob_obs) +\n",
        "    geom_bar(stat = \"identity\")"
      ],
      "execution_count": 97,
      "outputs": [
        {
          "output_type": "display_data",
          "data": {
            "image/png": "[encoded data removed]",
            "text/plain": [
              "plot without title"
            ]
          },
          "metadata": {
            "tags": [],
            "image/png": {
              "width": 420,
              "height": 420
            }
          }
        }
      ]
    },
    {
      "cell_type": "code",
      "metadata": {
        "id": "kbiZ3s7q1d80"
      },
      "source": [
        "?geom_bar"
      ],
      "execution_count": 94,
      "outputs": []
    },
    {
      "cell_type": "code",
      "metadata": {
        "trusted": true,
        "id": "Y85JLZ7NIzQY",
        "outputId": "711213b9-8f3e-43db-8783-2cda7f122e5a",
        "colab": {
          "base_uri": "https://localhost:8080/",
          "height": 437
        }
      },
      "source": [
        "# Pero si queremos visualizar las frecuencias relativas observadas?\n",
        "# Adicionalmente nos interesaría poder visualizar la función de masa de probabilidad.\n",
        "df %>% \n",
        "  group_by(caras) %>%\n",
        "  summarise(count = n(),\n",
        "            prob_obs = count/N) %>%\n",
        "  mutate(prob_real = dbinom(caras, size = 14, prob = 0.5)) %>%\n",
        "  ggplot() +\n",
        "  aes(x = caras, y = prob_obs) +\n",
        "  geom_bar(stat = \"identity\") +\n",
        "  geom_point(aes(y = prob_real), color = \"blue\", size =5)"
      ],
      "execution_count": 104,
      "outputs": [
        {
          "output_type": "display_data",
          "data": {
            "image/png": "[encoded data removed]",
            "text/plain": [
              "plot without title"
            ]
          },
          "metadata": {
            "tags": [],
            "image/png": {
              "width": 420,
              "height": 420
            }
          }
        }
      ]
    },
    {
      "cell_type": "code",
      "metadata": {
        "trusted": true,
        "id": "Rmq-HnPAIzQY"
      },
      "source": [
        ""
      ],
      "execution_count": null,
      "outputs": []
    },
    {
      "cell_type": "code",
      "metadata": {
        "trusted": true,
        "id": "mFBsXgatIzQY"
      },
      "source": [
        ""
      ],
      "execution_count": null,
      "outputs": []
    },
    {
      "cell_type": "markdown",
      "metadata": {
        "id": "4LDcECLUIzQY"
      },
      "source": [
        "# III) Distribución poisson\n",
        "## Contexto\n",
        "Usualmente una variable aleatoria poisson, representa la cantidad de eventos registrados en un interval fijo de tiempo con una cierta tasa de ocurrencia.\n",
        "## Función de probabilidad\n",
        "\n",
        "$$p(x) = \\lambda^x \\dfrac{e^{-\\lambda}}{x!}$$\n",
        "\n",
        "Donde $\\lambda$ corresponde a la tasa de ocurrencia y $x$ la cantida de eventos observados.\n",
        "\n",
        "## Funciones en R\n",
        " * `dpois(x, lambda, log = FALSE)`\n",
        " * `ppois(q, lambda, lower.tail = TRUE, log.p = FALSE)`\n",
        " * `qpois(p, lambda, lower.tail = TRUE, log.p = FALSE)`\n",
        " * `rpois(n, lambda)`"
      ]
    },
    {
      "cell_type": "code",
      "metadata": {
        "trusted": true,
        "id": "RbyWC9WRIzQY"
      },
      "source": [
        ""
      ],
      "execution_count": null,
      "outputs": []
    },
    {
      "cell_type": "markdown",
      "metadata": {
        "id": "9gR972O-IzQY"
      },
      "source": [
        "**P5.** Suponga que en un restaurant de comida se tiene una tasa de llegada de clientes de 2 clientes por cada 3 minutos en promedio. \n",
        "¿Cuál es la probabilidad de que 5 o más clientes lleguen en un período de 9 minutos?.\n"
      ]
    },
    {
      "cell_type": "code",
      "metadata": {
        "trusted": true,
        "id": "O57Ov87FIzQY",
        "outputId": "114b624d-78c0-494e-96ee-c0ff1f8e378a",
        "colab": {
          "base_uri": "https://localhost:8080/",
          "height": 34
        }
      },
      "source": [
        "# La tasa de éxito en una dist. poisson es el parámetro lambda \n",
        "# Dada la info, se tiene una tasa de 6 clientes cada 9 minutos\n",
        "\n",
        "# Lambda: 6 lientes cada 9 min\n",
        "\n",
        "ppois(q = 4, lambda = 6, lower.tail = F)\n",
        "\n",
        "#71% de prob de que lleguen 5 o más clientes en un período de 9 min\n",
        "\n"
      ],
      "execution_count": 108,
      "outputs": [
        {
          "output_type": "display_data",
          "data": {
            "text/plain": [
              "[1] 0.7149435"
            ],
            "text/latex": "0.714943499683369",
            "text/markdown": "0.714943499683369",
            "text/html": [
              "0.714943499683369"
            ]
          },
          "metadata": {
            "tags": []
          }
        }
      ]
    },
    {
      "cell_type": "markdown",
      "metadata": {
        "trusted": true,
        "id": "N3dXrqZSIzQY"
      },
      "source": [
        "**P6.** Se sabe que la tasa de falla en la elaboración de ampolletas sigue una distribución poisson, con una tasa de falla de 3 ampolletas defectuosas por semana.\n",
        "¿Cuál es la probabilidad de que al cabo de un mes se genere un total de 20 ampolletas defectuosas o más?\n",
        "\n"
      ]
    },
    {
      "cell_type": "code",
      "metadata": {
        "trusted": true,
        "id": "d8fs6wynIzQY"
      },
      "source": [
        "# lambda = 3*4 = 12 ampolletas defectuosas por mes\n",
        "\n"
      ],
      "execution_count": null,
      "outputs": []
    },
    {
      "cell_type": "code",
      "metadata": {
        "trusted": true,
        "id": "D5uVa3ICIzQY"
      },
      "source": [
        ""
      ],
      "execution_count": null,
      "outputs": []
    }
  ]
}